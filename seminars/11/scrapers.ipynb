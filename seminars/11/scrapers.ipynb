{
 "cells": [
  {
   "cell_type": "markdown",
   "metadata": {},
   "source": [
    "# Web scraping\n",
    "\n",
    "Requires: urllib, requests, socket, urllib3, re, lxml, io, bs4, scrapy, sqlite3, pandas"
   ]
  },
  {
   "cell_type": "markdown",
   "metadata": {},
   "source": [
    "## Intro: кодировки"
   ]
  },
  {
   "cell_type": "code",
   "execution_count": 1,
   "metadata": {
    "collapsed": true
   },
   "outputs": [],
   "source": [
    "with open('unicode_file.txt', 'w', encoding='utf-16le') as f:\n",
    "    f.write('韩国烧酒')"
   ]
  },
  {
   "cell_type": "code",
   "execution_count": 2,
   "metadata": {},
   "outputs": [
    {
     "ename": "UnicodeDecodeError",
     "evalue": "'utf-8' codec can't decode bytes in position 0-1: invalid continuation byte",
     "output_type": "error",
     "traceback": [
      "\u001b[0;31m---------------------------------------------------------------------------\u001b[0m",
      "\u001b[0;31mUnicodeDecodeError\u001b[0m                        Traceback (most recent call last)",
      "\u001b[0;32m<ipython-input-2-35fe901e1e13>\u001b[0m in \u001b[0;36m<module>\u001b[0;34m()\u001b[0m\n\u001b[1;32m      1\u001b[0m \u001b[0;32mwith\u001b[0m \u001b[0mopen\u001b[0m\u001b[0;34m(\u001b[0m\u001b[0;34m'unicode_file.txt'\u001b[0m\u001b[0;34m,\u001b[0m \u001b[0;34m'r'\u001b[0m\u001b[0;34m)\u001b[0m \u001b[0;32mas\u001b[0m \u001b[0mf\u001b[0m\u001b[0;34m:\u001b[0m\u001b[0;34m\u001b[0m\u001b[0m\n\u001b[0;32m----> 2\u001b[0;31m     \u001b[0mprint\u001b[0m\u001b[0;34m(\u001b[0m\u001b[0mf\u001b[0m\u001b[0;34m.\u001b[0m\u001b[0mread\u001b[0m\u001b[0;34m(\u001b[0m\u001b[0;34m)\u001b[0m\u001b[0;34m)\u001b[0m\u001b[0;34m\u001b[0m\u001b[0m\n\u001b[0m",
      "\u001b[0;32m/usr/lib/python3.6/codecs.py\u001b[0m in \u001b[0;36mdecode\u001b[0;34m(self, input, final)\u001b[0m\n\u001b[1;32m    319\u001b[0m         \u001b[0;31m# decode input (taking the buffer into account)\u001b[0m\u001b[0;34m\u001b[0m\u001b[0;34m\u001b[0m\u001b[0m\n\u001b[1;32m    320\u001b[0m         \u001b[0mdata\u001b[0m \u001b[0;34m=\u001b[0m \u001b[0mself\u001b[0m\u001b[0;34m.\u001b[0m\u001b[0mbuffer\u001b[0m \u001b[0;34m+\u001b[0m \u001b[0minput\u001b[0m\u001b[0;34m\u001b[0m\u001b[0m\n\u001b[0;32m--> 321\u001b[0;31m         \u001b[0;34m(\u001b[0m\u001b[0mresult\u001b[0m\u001b[0;34m,\u001b[0m \u001b[0mconsumed\u001b[0m\u001b[0;34m)\u001b[0m \u001b[0;34m=\u001b[0m \u001b[0mself\u001b[0m\u001b[0;34m.\u001b[0m\u001b[0m_buffer_decode\u001b[0m\u001b[0;34m(\u001b[0m\u001b[0mdata\u001b[0m\u001b[0;34m,\u001b[0m \u001b[0mself\u001b[0m\u001b[0;34m.\u001b[0m\u001b[0merrors\u001b[0m\u001b[0;34m,\u001b[0m \u001b[0mfinal\u001b[0m\u001b[0;34m)\u001b[0m\u001b[0;34m\u001b[0m\u001b[0m\n\u001b[0m\u001b[1;32m    322\u001b[0m         \u001b[0;31m# keep undecoded input until the next call\u001b[0m\u001b[0;34m\u001b[0m\u001b[0;34m\u001b[0m\u001b[0m\n\u001b[1;32m    323\u001b[0m         \u001b[0mself\u001b[0m\u001b[0;34m.\u001b[0m\u001b[0mbuffer\u001b[0m \u001b[0;34m=\u001b[0m \u001b[0mdata\u001b[0m\u001b[0;34m[\u001b[0m\u001b[0mconsumed\u001b[0m\u001b[0;34m:\u001b[0m\u001b[0;34m]\u001b[0m\u001b[0;34m\u001b[0m\u001b[0m\n",
      "\u001b[0;31mUnicodeDecodeError\u001b[0m: 'utf-8' codec can't decode bytes in position 0-1: invalid continuation byte"
     ]
    }
   ],
   "source": [
    "with open('unicode_file.txt', 'r') as f:\n",
    "    print(f.read())"
   ]
  },
  {
   "cell_type": "code",
   "execution_count": 3,
   "metadata": {},
   "outputs": [
    {
     "ename": "UnicodeError",
     "evalue": "UTF-16 stream does not start with BOM",
     "output_type": "error",
     "traceback": [
      "\u001b[0;31m---------------------------------------------------------------------------\u001b[0m",
      "\u001b[0;31mUnicodeError\u001b[0m                              Traceback (most recent call last)",
      "\u001b[0;32m<ipython-input-3-339b00e3c746>\u001b[0m in \u001b[0;36m<module>\u001b[0;34m()\u001b[0m\n\u001b[1;32m      1\u001b[0m \u001b[0;32mwith\u001b[0m \u001b[0mopen\u001b[0m\u001b[0;34m(\u001b[0m\u001b[0;34m'unicode_file.txt'\u001b[0m\u001b[0;34m,\u001b[0m \u001b[0;34m'r'\u001b[0m\u001b[0;34m,\u001b[0m \u001b[0mencoding\u001b[0m\u001b[0;34m=\u001b[0m\u001b[0;34m'utf-16'\u001b[0m\u001b[0;34m)\u001b[0m \u001b[0;32mas\u001b[0m \u001b[0mf\u001b[0m\u001b[0;34m:\u001b[0m\u001b[0;34m\u001b[0m\u001b[0m\n\u001b[0;32m----> 2\u001b[0;31m     \u001b[0mprint\u001b[0m\u001b[0;34m(\u001b[0m\u001b[0mf\u001b[0m\u001b[0;34m.\u001b[0m\u001b[0mread\u001b[0m\u001b[0;34m(\u001b[0m\u001b[0;34m)\u001b[0m\u001b[0;34m)\u001b[0m\u001b[0;34m\u001b[0m\u001b[0m\n\u001b[0m",
      "\u001b[0;32m/usr/lib/python3.6/codecs.py\u001b[0m in \u001b[0;36mdecode\u001b[0;34m(self, input, final)\u001b[0m\n\u001b[1;32m    319\u001b[0m         \u001b[0;31m# decode input (taking the buffer into account)\u001b[0m\u001b[0;34m\u001b[0m\u001b[0;34m\u001b[0m\u001b[0m\n\u001b[1;32m    320\u001b[0m         \u001b[0mdata\u001b[0m \u001b[0;34m=\u001b[0m \u001b[0mself\u001b[0m\u001b[0;34m.\u001b[0m\u001b[0mbuffer\u001b[0m \u001b[0;34m+\u001b[0m \u001b[0minput\u001b[0m\u001b[0;34m\u001b[0m\u001b[0m\n\u001b[0;32m--> 321\u001b[0;31m         \u001b[0;34m(\u001b[0m\u001b[0mresult\u001b[0m\u001b[0;34m,\u001b[0m \u001b[0mconsumed\u001b[0m\u001b[0;34m)\u001b[0m \u001b[0;34m=\u001b[0m \u001b[0mself\u001b[0m\u001b[0;34m.\u001b[0m\u001b[0m_buffer_decode\u001b[0m\u001b[0;34m(\u001b[0m\u001b[0mdata\u001b[0m\u001b[0;34m,\u001b[0m \u001b[0mself\u001b[0m\u001b[0;34m.\u001b[0m\u001b[0merrors\u001b[0m\u001b[0;34m,\u001b[0m \u001b[0mfinal\u001b[0m\u001b[0;34m)\u001b[0m\u001b[0;34m\u001b[0m\u001b[0m\n\u001b[0m\u001b[1;32m    322\u001b[0m         \u001b[0;31m# keep undecoded input until the next call\u001b[0m\u001b[0;34m\u001b[0m\u001b[0;34m\u001b[0m\u001b[0m\n\u001b[1;32m    323\u001b[0m         \u001b[0mself\u001b[0m\u001b[0;34m.\u001b[0m\u001b[0mbuffer\u001b[0m \u001b[0;34m=\u001b[0m \u001b[0mdata\u001b[0m\u001b[0;34m[\u001b[0m\u001b[0mconsumed\u001b[0m\u001b[0;34m:\u001b[0m\u001b[0;34m]\u001b[0m\u001b[0;34m\u001b[0m\u001b[0m\n",
      "\u001b[0;32m/usr/lib/python3.6/encodings/utf_16.py\u001b[0m in \u001b[0;36m_buffer_decode\u001b[0;34m(self, input, errors, final)\u001b[0m\n\u001b[1;32m     65\u001b[0m                 \u001b[0mself\u001b[0m\u001b[0;34m.\u001b[0m\u001b[0mdecoder\u001b[0m \u001b[0;34m=\u001b[0m \u001b[0mcodecs\u001b[0m\u001b[0;34m.\u001b[0m\u001b[0mutf_16_be_decode\u001b[0m\u001b[0;34m\u001b[0m\u001b[0m\n\u001b[1;32m     66\u001b[0m             \u001b[0;32melif\u001b[0m \u001b[0mconsumed\u001b[0m \u001b[0;34m>=\u001b[0m \u001b[0;36m2\u001b[0m\u001b[0;34m:\u001b[0m\u001b[0;34m\u001b[0m\u001b[0m\n\u001b[0;32m---> 67\u001b[0;31m                 \u001b[0;32mraise\u001b[0m \u001b[0mUnicodeError\u001b[0m\u001b[0;34m(\u001b[0m\u001b[0;34m\"UTF-16 stream does not start with BOM\"\u001b[0m\u001b[0;34m)\u001b[0m\u001b[0;34m\u001b[0m\u001b[0m\n\u001b[0m\u001b[1;32m     68\u001b[0m             \u001b[0;32mreturn\u001b[0m \u001b[0;34m(\u001b[0m\u001b[0moutput\u001b[0m\u001b[0;34m,\u001b[0m \u001b[0mconsumed\u001b[0m\u001b[0;34m)\u001b[0m\u001b[0;34m\u001b[0m\u001b[0m\n\u001b[1;32m     69\u001b[0m         \u001b[0;32mreturn\u001b[0m \u001b[0mself\u001b[0m\u001b[0;34m.\u001b[0m\u001b[0mdecoder\u001b[0m\u001b[0;34m(\u001b[0m\u001b[0minput\u001b[0m\u001b[0;34m,\u001b[0m \u001b[0mself\u001b[0m\u001b[0;34m.\u001b[0m\u001b[0merrors\u001b[0m\u001b[0;34m,\u001b[0m \u001b[0mfinal\u001b[0m\u001b[0;34m)\u001b[0m\u001b[0;34m\u001b[0m\u001b[0m\n",
      "\u001b[0;31mUnicodeError\u001b[0m: UTF-16 stream does not start with BOM"
     ]
    }
   ],
   "source": [
    "with open('unicode_file.txt', 'r', encoding='utf-16') as f:\n",
    "    print(f.read())"
   ]
  },
  {
   "cell_type": "code",
   "execution_count": 4,
   "metadata": {},
   "outputs": [
    {
     "name": "stdout",
     "output_type": "stream",
     "text": [
      "韩国烧酒\n"
     ]
    }
   ],
   "source": [
    "with open('unicode_file.txt', 'r', encoding='utf-16le') as f:\n",
    "    print(f.read())"
   ]
  },
  {
   "cell_type": "markdown",
   "metadata": {},
   "source": [
    "## Web scraping in a nutshell\n",
    "\n",
    "* Получение html\n",
    "* Парсинг html"
   ]
  },
  {
   "cell_type": "markdown",
   "metadata": {},
   "source": [
    "## Получение html\n",
    "\n",
    "* urllib / urllib2\n",
    "* requests\n",
    "* socket (low-level)\n",
    "\n"
   ]
  },
  {
   "cell_type": "markdown",
   "metadata": {},
   "source": [
    "### urllib "
   ]
  },
  {
   "cell_type": "code",
   "execution_count": 5,
   "metadata": {
    "collapsed": true
   },
   "outputs": [],
   "source": [
    "import urllib.request"
   ]
  },
  {
   "cell_type": "code",
   "execution_count": 6,
   "metadata": {
    "scrolled": true
   },
   "outputs": [
    {
     "name": "stdout",
     "output_type": "stream",
     "text": [
      "b'<!doctype html>\\n<html>\\n<head>\\n    <title>Example Domain</title>\\n\\n    <meta charset=\"utf-8\" />\\n    <meta http-equiv=\"Content-type\" content=\"text/html; charset=utf-8\" />\\n    <meta name=\"viewport\" content=\"width=device-width, initial-scale=1\" />\\n    <style type=\"text/css\">\\n    body {\\n        background-color: #f0f0f2;\\n        margin: 0;\\n        padding: 0;\\n        font-family: \"Open Sans\", \"Helvetica Neue\", Helvetica, Arial, sans-serif;\\n        \\n    }\\n    div {\\n        width: 600px;\\n        margin: 5em auto;\\n        padding: 50px;\\n        background-color: #fff;\\n        border-radius: 1em;\\n    }\\n    a:link, a:visited {\\n        color: #38488f;\\n        text-decoration: none;\\n    }\\n    @media (max-width: 700px) {\\n        body {\\n            background-color: #fff;\\n        }\\n        div {\\n            width: auto;\\n            margin: 0 auto;\\n            border-radius: 0;\\n            padding: 1em;\\n        }\\n    }\\n    </style>    \\n</head>\\n\\n<body>\\n<div>\\n    <h1>Example Domain</h1>\\n    <p>This domain is established to be used for illustrative examples in documents. You may use this\\n    domain in examples without prior coordination or asking for permission.</p>\\n    <p><a href=\"http://www.iana.org/domains/example\">More information...</a></p>\\n</div>\\n</body>\\n</html>\\n'\n"
     ]
    }
   ],
   "source": [
    "response = urllib.request.urlopen('http://example.com/')\n",
    "html = response.read()\n",
    "print(html)"
   ]
  },
  {
   "cell_type": "code",
   "execution_count": 7,
   "metadata": {},
   "outputs": [
    {
     "name": "stdout",
     "output_type": "stream",
     "text": [
      "<!doctype html>\n",
      "<html>\n",
      "<head>\n",
      "    <title>Example Domain</title>\n",
      "\n",
      "    <meta charset=\"utf-8\" />\n",
      "    <meta http-equiv=\"Content-type\" content=\"text/html; charset=utf-8\" />\n",
      "    <meta name=\"viewport\" content=\"width=device-width, initial-scale=1\" />\n",
      "    <style type=\"text/css\">\n",
      "    body {\n",
      "        background-color: #f0f0f2;\n",
      "        margin: 0;\n",
      "        padding: 0;\n",
      "        font-family: \"Open Sans\", \"Helvetica Neue\", Helvetica, Arial, sans-serif;\n",
      "        \n",
      "    }\n",
      "    div {\n",
      "        width: 600px;\n",
      "        margin: 5em auto;\n",
      "        padding: 50px;\n",
      "        background-color: #fff;\n",
      "        border-radius: 1em;\n",
      "    }\n",
      "    a:link, a:visited {\n",
      "        color: #38488f;\n",
      "        text-decoration: none;\n",
      "    }\n",
      "    @media (max-width: 700px) {\n",
      "        body {\n",
      "            background-color: #fff;\n",
      "        }\n",
      "        div {\n",
      "            width: auto;\n",
      "            margin: 0 auto;\n",
      "            border-radius: 0;\n",
      "            padding: 1em;\n",
      "        }\n",
      "    }\n",
      "    </style>    \n",
      "</head>\n",
      "\n",
      "<body>\n",
      "<div>\n",
      "    <h1>Example Domain</h1>\n",
      "    <p>This domain is established to be used for illustrative examples in documents. You may use this\n",
      "    domain in examples without prior coordination or asking for permission.</p>\n",
      "    <p><a href=\"http://www.iana.org/domains/example\">More information...</a></p>\n",
      "</div>\n",
      "</body>\n",
      "</html>\n",
      "\n"
     ]
    }
   ],
   "source": [
    "html = html.decode('utf-8')\n",
    "print(html)"
   ]
  },
  {
   "cell_type": "code",
   "execution_count": 8,
   "metadata": {
    "collapsed": true
   },
   "outputs": [],
   "source": [
    "with open('example.com.txt', 'w', encoding='utf-8') as f:\n",
    "    f.write(html)"
   ]
  },
  {
   "cell_type": "markdown",
   "metadata": {},
   "source": [
    "А что, кроме html?"
   ]
  },
  {
   "cell_type": "code",
   "execution_count": 9,
   "metadata": {},
   "outputs": [
    {
     "name": "stdout",
     "output_type": "stream",
     "text": [
      "['__abstractmethods__', '__class__', '__del__', '__delattr__', '__dict__', '__dir__', '__doc__', '__enter__', '__eq__', '__exit__', '__format__', '__ge__', '__getattribute__', '__gt__', '__hash__', '__init__', '__init_subclass__', '__iter__', '__le__', '__lt__', '__module__', '__ne__', '__new__', '__next__', '__reduce__', '__reduce_ex__', '__repr__', '__setattr__', '__sizeof__', '__str__', '__subclasshook__', '_abc_cache', '_abc_negative_cache', '_abc_negative_cache_version', '_abc_registry', '_checkClosed', '_checkReadable', '_checkSeekable', '_checkWritable', '_check_close', '_close_conn', '_get_chunk_left', '_method', '_peek_chunked', '_read1_chunked', '_read_and_discard_trailer', '_read_next_chunk_size', '_read_status', '_readall_chunked', '_readinto_chunked', '_safe_read', '_safe_readinto', 'begin', 'chunk_left', 'chunked', 'close', 'closed', 'code', 'debuglevel', 'detach', 'fileno', 'flush', 'fp', 'getcode', 'getheader', 'getheaders', 'geturl', 'headers', 'info', 'isatty', 'isclosed', 'length', 'msg', 'peek', 'read', 'read1', 'readable', 'readinto', 'readinto1', 'readline', 'readlines', 'reason', 'seek', 'seekable', 'status', 'tell', 'truncate', 'url', 'version', 'will_close', 'writable', 'write', 'writelines']\n"
     ]
    }
   ],
   "source": [
    "print(dir(response))"
   ]
  },
  {
   "cell_type": "code",
   "execution_count": 10,
   "metadata": {},
   "outputs": [
    {
     "name": "stdout",
     "output_type": "stream",
     "text": [
      "http://example.com/\n",
      "OK\n",
      "200\n"
     ]
    }
   ],
   "source": [
    "print(response.url)\n",
    "print(response.msg)\n",
    "print(response.code)"
   ]
  },
  {
   "cell_type": "markdown",
   "metadata": {},
   "source": [
    "### requests\n",
    "HTTP for Humans"
   ]
  },
  {
   "cell_type": "code",
   "execution_count": 1,
   "metadata": {
    "collapsed": true
   },
   "outputs": [],
   "source": [
    "import requests"
   ]
  },
  {
   "cell_type": "code",
   "execution_count": null,
   "metadata": {},
   "outputs": [],
   "source": [
    "requests.post('http://example.com')"
   ]
  },
  {
   "cell_type": "code",
   "execution_count": 2,
   "metadata": {},
   "outputs": [
    {
     "data": {
      "text/plain": [
       "<Response [200]>"
      ]
     },
     "execution_count": 2,
     "metadata": {},
     "output_type": "execute_result"
    }
   ],
   "source": [
    "response = requests.get('http://example.com')\n",
    "response"
   ]
  },
  {
   "cell_type": "code",
   "execution_count": 8,
   "metadata": {},
   "outputs": [
    {
     "name": "stdout",
     "output_type": "stream",
     "text": [
      "['__attrs__', '__bool__', '__class__', '__delattr__', '__dict__', '__dir__', '__doc__', '__eq__', '__format__', '__ge__', '__getattribute__', '__getstate__', '__gt__', '__hash__', '__init__', '__init_subclass__', '__iter__', '__le__', '__lt__', '__module__', '__ne__', '__new__', '__nonzero__', '__reduce__', '__reduce_ex__', '__repr__', '__setattr__', '__setstate__', '__sizeof__', '__str__', '__subclasshook__', '__weakref__', '_content', '_content_consumed', 'apparent_encoding', 'close', 'connection', 'content', 'cookies', 'elapsed', 'encoding', 'headers', 'history', 'is_permanent_redirect', 'is_redirect', 'iter_content', 'iter_lines', 'json', 'links', 'ok', 'raise_for_status', 'raw', 'reason', 'request', 'status_code', 'text', 'url']\n"
     ]
    }
   ],
   "source": [
    "print(dir(response))"
   ]
  },
  {
   "cell_type": "code",
   "execution_count": 9,
   "metadata": {},
   "outputs": [
    {
     "name": "stdout",
     "output_type": "stream",
     "text": [
      "http://example.com/\n",
      "<requests.adapters.HTTPAdapter object at 0x107df90b8>\n",
      "{'Content-Encoding': 'gzip', 'Accept-Ranges': 'bytes', 'Cache-Control': 'max-age=604800', 'Content-Type': 'text/html', 'Date': 'Thu, 26 Apr 2018 06:21:07 GMT', 'Etag': '\"1541025663\"', 'Expires': 'Thu, 03 May 2018 06:21:07 GMT', 'Last-Modified': 'Fri, 09 Aug 2013 23:54:35 GMT', 'Server': 'ECS (lga/1386)', 'Vary': 'Accept-Encoding', 'X-Cache': 'HIT', 'Content-Length': '606'}\n",
      "True\n",
      "200\n",
      "ISO-8859-1\n",
      "{}\n"
     ]
    }
   ],
   "source": [
    "print(response.url)\n",
    "print(response.connection)\n",
    "print(response.headers)\n",
    "print(response.ok)\n",
    "print(response.status_code)\n",
    "print(response.encoding)\n",
    "print(response.links)"
   ]
  },
  {
   "cell_type": "code",
   "execution_count": 15,
   "metadata": {},
   "outputs": [
    {
     "name": "stdout",
     "output_type": "stream",
     "text": [
      "<!doctype html>\n",
      "<html>\n",
      "<head>\n",
      "    <title>Example Domain</title>\n",
      "\n",
      "    <meta charset=\"utf-8\" />\n",
      "    <meta http-equiv=\"Content-type\" content=\"text/html; charset=utf-8\" />\n",
      "    <meta name=\"viewport\" content=\"width=device-width, initial-scale=1\" />\n",
      "    <style type=\"text/css\">\n",
      "    body {\n",
      "        background-color: #f0f0f2;\n",
      "        margin: 0;\n",
      "        padding: 0;\n",
      "        font-family: \"Open Sans\", \"Helvetica Neue\", Helvetica, Arial, sans-serif;\n",
      "        \n",
      "    }\n",
      "    div {\n",
      "        width: 600px;\n",
      "        margin: 5em auto;\n",
      "        padding: 50px;\n",
      "        background-color: #fff;\n",
      "        border-radius: 1em;\n",
      "    }\n",
      "    a:link, a:visited {\n",
      "        color: #38488f;\n",
      "        text-decoration: none;\n",
      "    }\n",
      "    @media (max-width: 700px) {\n",
      "        body {\n",
      "            background-color: #fff;\n",
      "        }\n",
      "        div {\n",
      "            width: auto;\n",
      "            margin: 0 auto;\n",
      "            border-radius: 0;\n",
      "            padding: 1em;\n",
      "        }\n",
      "    }\n",
      "    </style>    \n",
      "</head>\n",
      "\n",
      "<body>\n",
      "<div>\n",
      "    <h1>Example Domain</h1>\n",
      "    <p>This domain is established to be used for illustrative examples in documents. You may use this\n",
      "    domain in examples without prior coordination or asking for permission.</p>\n",
      "    <p><a href=\"http://www.iana.org/domains/example\">More information...</a></p>\n",
      "</div>\n",
      "</body>\n",
      "</html>\n",
      "\n"
     ]
    }
   ],
   "source": [
    "print(response.text)"
   ]
  },
  {
   "cell_type": "markdown",
   "metadata": {},
   "source": [
    "### socket (low-level)"
   ]
  },
  {
   "cell_type": "code",
   "execution_count": 16,
   "metadata": {
    "collapsed": true
   },
   "outputs": [],
   "source": [
    "import socket"
   ]
  },
  {
   "cell_type": "code",
   "execution_count": 12,
   "metadata": {},
   "outputs": [
    {
     "ename": "NameError",
     "evalue": "name 'socket' is not defined",
     "output_type": "error",
     "traceback": [
      "\u001b[0;31m---------------------------------------------------------------------------\u001b[0m",
      "\u001b[0;31mNameError\u001b[0m                                 Traceback (most recent call last)",
      "\u001b[0;32m<ipython-input-12-b20bc345e4d7>\u001b[0m in \u001b[0;36m<module>\u001b[0;34m()\u001b[0m\n\u001b[0;32m----> 1\u001b[0;31m \u001b[0msock\u001b[0m \u001b[0;34m=\u001b[0m \u001b[0msocket\u001b[0m\u001b[0;34m.\u001b[0m\u001b[0msocket\u001b[0m\u001b[0;34m(\u001b[0m\u001b[0msocket\u001b[0m\u001b[0;34m.\u001b[0m\u001b[0mAF_INET\u001b[0m\u001b[0;34m,\u001b[0m \u001b[0msocket\u001b[0m\u001b[0;34m.\u001b[0m\u001b[0mSOCK_STREAM\u001b[0m\u001b[0;34m)\u001b[0m\u001b[0;34m\u001b[0m\u001b[0m\n\u001b[0m\u001b[1;32m      2\u001b[0m \u001b[0mhost\u001b[0m \u001b[0;34m=\u001b[0m \u001b[0msocket\u001b[0m\u001b[0;34m.\u001b[0m\u001b[0mgethostbyname\u001b[0m\u001b[0;34m(\u001b[0m\u001b[0;34m'www.example.com'\u001b[0m\u001b[0;34m)\u001b[0m\u001b[0;34m\u001b[0m\u001b[0m\n\u001b[1;32m      3\u001b[0m \u001b[0mport\u001b[0m \u001b[0;34m=\u001b[0m \u001b[0;36m80\u001b[0m\u001b[0;34m\u001b[0m\u001b[0m\n\u001b[1;32m      4\u001b[0m \u001b[0;34m\u001b[0m\u001b[0m\n\u001b[1;32m      5\u001b[0m \u001b[0msock\u001b[0m\u001b[0;34m.\u001b[0m\u001b[0mconnect\u001b[0m\u001b[0;34m(\u001b[0m\u001b[0;34m(\u001b[0m\u001b[0mhost\u001b[0m\u001b[0;34m,\u001b[0m\u001b[0mport\u001b[0m\u001b[0;34m)\u001b[0m\u001b[0;34m)\u001b[0m\u001b[0;34m\u001b[0m\u001b[0m\n",
      "\u001b[0;31mNameError\u001b[0m: name 'socket' is not defined"
     ]
    }
   ],
   "source": [
    "sock = socket.socket(socket.AF_INET, socket.SOCK_STREAM)\n",
    "host = socket.gethostbyname('www.example.com')\n",
    "port = 80\n",
    "\n",
    "sock.connect((host,port))\n",
    "sock.sendall(b'GET / HTTP/1.1\\r\\nHost: www.example.com\\r\\n\\r\\n')\n",
    "\n",
    "val = sock.recv(4096)\n",
    "print(val.decode('utf-8'))"
   ]
  },
  {
   "cell_type": "code",
   "execution_count": 18,
   "metadata": {},
   "outputs": [
    {
     "name": "stdout",
     "output_type": "stream",
     "text": [
      "<!doctype html>\n",
      "<html>\n",
      "<head>\n",
      "    <title>Example Domain</title>\n",
      "\n",
      "    <meta charset=\"utf-8\" />\n",
      "    <meta http-equiv=\"Content-type\" content=\"text/html; charset=utf-8\" />\n",
      "    <meta name=\"viewport\" content=\"width=device-width, initial-scale=1\" />\n",
      "    <style type=\"text/css\">\n",
      "    body {\n",
      "        background-color: #f0f0f2;\n",
      "        margin: 0;\n",
      "        padding: 0;\n",
      "        font-family: \"Open Sans\", \"Helvetica Neue\", Helvetica, Arial, sans-serif;\n",
      "        \n",
      "    }\n",
      "    div {\n",
      "        width: 600px;\n",
      "        margin: 5em auto;\n",
      "        padding: 50px;\n",
      "        background-color: #fff;\n",
      "        border-radius: 1em;\n",
      "    }\n",
      "    a:link, a:visited {\n",
      "        color: #38488f;\n",
      "        text-decoration: none;\n",
      "    }\n",
      "    @media (max-width: 700px) {\n",
      "        body {\n",
      "            background-color: #fff;\n",
      "        }\n",
      "        div {\n",
      "            width: auto;\n",
      "            margin: 0 auto;\n",
      "            border-radius: 0;\n",
      "            padding: 1em;\n",
      "        }\n",
      "    }\n",
      "    </style>    \n",
      "</head>\n",
      "\n",
      "<body>\n",
      "<div>\n",
      "    <h1>Example Domain</h1>\n",
      "    <p>This domain is established to be used for illustrative examples in documents. You may use this\n",
      "    domain in examples without prior coordination or asking for permission.</p>\n",
      "    <p><a href=\"http://www.iana.org/domains/example\">More information...</a></p>\n",
      "</div>\n",
      "</body>\n",
      "</html>\n",
      "\n"
     ]
    }
   ],
   "source": [
    "# Split off the HTTP headers\n",
    "val = val.split(b'\\r\\n\\r\\n',1)[1]\n",
    "print(val.decode('utf-8'))"
   ]
  },
  {
   "cell_type": "markdown",
   "metadata": {},
   "source": [
    "## HTTP Errors"
   ]
  },
  {
   "cell_type": "code",
   "execution_count": 19,
   "metadata": {},
   "outputs": [
    {
     "data": {
      "text/plain": [
       "['BodyNotHttplibCompatible',\n",
       " 'ClosedPoolError',\n",
       " 'ConnectTimeoutError',\n",
       " 'ConnectionError',\n",
       " 'DecodeError',\n",
       " 'DependencyWarning',\n",
       " 'EmptyPoolError',\n",
       " 'HTTPError',\n",
       " 'HTTPWarning',\n",
       " 'HeaderParsingError',\n",
       " 'HostChangedError',\n",
       " 'IncompleteRead',\n",
       " 'InsecurePlatformWarning',\n",
       " 'InsecureRequestWarning',\n",
       " 'InvalidHeader',\n",
       " 'LocationParseError',\n",
       " 'LocationValueError',\n",
       " 'MaxRetryError',\n",
       " 'NewConnectionError',\n",
       " 'PoolError',\n",
       " 'ProtocolError',\n",
       " 'ProxyError',\n",
       " 'ProxySchemeUnknown',\n",
       " 'ReadTimeoutError',\n",
       " 'RequestError',\n",
       " 'ResponseError',\n",
       " 'ResponseNotChunked',\n",
       " 'SNIMissingWarning',\n",
       " 'SSLError',\n",
       " 'SecurityWarning',\n",
       " 'SubjectAltNameWarning',\n",
       " 'SystemTimeWarning',\n",
       " 'TimeoutError',\n",
       " 'TimeoutStateError',\n",
       " 'UnrewindableBodyError',\n",
       " '__builtins__',\n",
       " '__cached__',\n",
       " '__doc__',\n",
       " '__file__',\n",
       " '__loader__',\n",
       " '__name__',\n",
       " '__package__',\n",
       " '__spec__',\n",
       " 'absolute_import',\n",
       " 'httplib_IncompleteRead']"
      ]
     },
     "execution_count": 19,
     "metadata": {},
     "output_type": "execute_result"
    }
   ],
   "source": [
    "import urllib3\n",
    "dir(urllib3.exceptions)"
   ]
  },
  {
   "cell_type": "markdown",
   "metadata": {},
   "source": [
    "## Парсинг html\n",
    "\n",
    "* re\n",
    "* lxml\n",
    "* BeautifulSoup"
   ]
  },
  {
   "cell_type": "code",
   "execution_count": 15,
   "metadata": {},
   "outputs": [],
   "source": [
    "html=response.text"
   ]
  },
  {
   "cell_type": "code",
   "execution_count": 16,
   "metadata": {},
   "outputs": [
    {
     "name": "stdout",
     "output_type": "stream",
     "text": [
      "<!doctype html>\n",
      "<html>\n",
      "<head>\n",
      "    <title>Example Domain</title>\n",
      "\n",
      "    <meta charset=\"utf-8\" />\n",
      "    <meta http-equiv=\"Content-type\" content=\"text/html; charset=utf-8\" />\n",
      "    <meta name=\"viewport\" content=\"width=device-width, initial-scale=1\" />\n",
      "    <style type=\"text/css\">\n",
      "    body {\n",
      "        background-color: #f0f0f2;\n",
      "        margin: 0;\n",
      "        padding: 0;\n",
      "        font-family: \"Open Sans\", \"Helvetica Neue\", Helvetica, Arial, sans-serif;\n",
      "        \n",
      "    }\n",
      "    div {\n",
      "        width: 600px;\n",
      "        margin: 5em auto;\n",
      "        padding: 50px;\n",
      "        background-color: #fff;\n",
      "        border-radius: 1em;\n",
      "    }\n",
      "    a:link, a:visited {\n",
      "        color: #38488f;\n",
      "        text-decoration: none;\n",
      "    }\n",
      "    @media (max-width: 700px) {\n",
      "        body {\n",
      "            background-color: #fff;\n",
      "        }\n",
      "        div {\n",
      "            width: auto;\n",
      "            margin: 0 auto;\n",
      "            border-radius: 0;\n",
      "            padding: 1em;\n",
      "        }\n",
      "    }\n",
      "    </style>    \n",
      "</head>\n",
      "\n",
      "<body>\n",
      "<div>\n",
      "    <h1>Example Domain</h1>\n",
      "    <p>This domain is established to be used for illustrative examples in documents. You may use this\n",
      "    domain in examples without prior coordination or asking for permission.</p>\n",
      "    <p><a href=\"http://www.iana.org/domains/example\">More information...</a></p>\n",
      "</div>\n",
      "</body>\n",
      "</html>\n",
      "\n"
     ]
    }
   ],
   "source": [
    "print(html)"
   ]
  },
  {
   "cell_type": "markdown",
   "metadata": {},
   "source": [
    "### re"
   ]
  },
  {
   "cell_type": "code",
   "execution_count": 17,
   "metadata": {
    "collapsed": true
   },
   "outputs": [],
   "source": [
    "import re"
   ]
  },
  {
   "cell_type": "code",
   "execution_count": 18,
   "metadata": {},
   "outputs": [
    {
     "name": "stdout",
     "output_type": "stream",
     "text": [
      "['<h1>Example Domain</h1>']\n",
      "['Example Domain']\n"
     ]
    }
   ],
   "source": [
    "h1 = re.findall(r'<h1>[\\w ]+</h1>', html)\n",
    "print(h1)\n",
    "h1 = re.findall(r'<h1>([\\w ]+)</h1>', html)\n",
    "print(h1)"
   ]
  },
  {
   "cell_type": "code",
   "execution_count": 21,
   "metadata": {},
   "outputs": [
    {
     "data": {
      "text/plain": [
       "['<a href=\"http://www.iana.org/domains/example\">More information...</a>']"
      ]
     },
     "execution_count": 21,
     "metadata": {},
     "output_type": "execute_result"
    }
   ],
   "source": [
    "paragraphs = re.findall(r'<p>(.*)</p>', html)\n",
    "paragraphs"
   ]
  },
  {
   "cell_type": "markdown",
   "metadata": {},
   "source": [
    "Там же 2 параграфа, почему не нашёлся второй?\n"
   ]
  },
  {
   "cell_type": "code",
   "execution_count": 22,
   "metadata": {},
   "outputs": [
    {
     "data": {
      "text/plain": [
       "['This domain is established to be used for illustrative examples in documents. You may use this\\n    domain in examples without prior coordination or asking for permission.</p>\\n    <p><a href=\"http://www.iana.org/domains/example\">More information...</a>']"
      ]
     },
     "execution_count": 22,
     "metadata": {},
     "output_type": "execute_result"
    }
   ],
   "source": [
    "paragraphs = re.findall(r'<p>([\\w\\W]*)</p>', html) # как-то покрасивее надо\n",
    "paragraphs"
   ]
  },
  {
   "cell_type": "markdown",
   "metadata": {},
   "source": [
    "Опять плохо.."
   ]
  },
  {
   "cell_type": "code",
   "execution_count": 23,
   "metadata": {},
   "outputs": [
    {
     "data": {
      "text/plain": [
       "['<p>This domain is established to be used for illustrative examples in documents. You may use this\\n    domain in examples without prior coordination or asking for permission.</p>',\n",
       " '<p><a href=\"http://www.iana.org/domains/example\">More information...</a></p>']"
      ]
     },
     "execution_count": 23,
     "metadata": {},
     "output_type": "execute_result"
    }
   ],
   "source": [
    "paragraphs = re.findall(r'<p>.*?</p>', html, re.DOTALL) # non-greedy matching\n",
    "paragraphs"
   ]
  },
  {
   "cell_type": "markdown",
   "metadata": {},
   "source": [
    "Жесть, да?"
   ]
  },
  {
   "cell_type": "markdown",
   "metadata": {},
   "source": [
    "### lxml"
   ]
  },
  {
   "cell_type": "code",
   "execution_count": 24,
   "metadata": {
    "collapsed": true
   },
   "outputs": [
    {
     "ename": "ModuleNotFoundError",
     "evalue": "No module named 'lxml'",
     "output_type": "error",
     "traceback": [
      "\u001b[0;31m---------------------------------------------------------------------------\u001b[0m",
      "\u001b[0;31mModuleNotFoundError\u001b[0m                       Traceback (most recent call last)",
      "\u001b[0;32m<ipython-input-24-709dfc8960d3>\u001b[0m in \u001b[0;36m<module>\u001b[0;34m()\u001b[0m\n\u001b[0;32m----> 1\u001b[0;31m \u001b[0;32mfrom\u001b[0m \u001b[0mlxml\u001b[0m \u001b[0;32mimport\u001b[0m \u001b[0metree\u001b[0m\u001b[0;34m\u001b[0m\u001b[0m\n\u001b[0m\u001b[1;32m      2\u001b[0m \u001b[0;32mfrom\u001b[0m \u001b[0mio\u001b[0m \u001b[0;32mimport\u001b[0m \u001b[0mStringIO\u001b[0m\u001b[0;34m,\u001b[0m \u001b[0mBytesIO\u001b[0m\u001b[0;34m\u001b[0m\u001b[0m\n",
      "\u001b[0;31mModuleNotFoundError\u001b[0m: No module named 'lxml'"
     ]
    }
   ],
   "source": [
    "from lxml import etree\n",
    "from io import StringIO, BytesIO"
   ]
  },
  {
   "cell_type": "code",
   "execution_count": 27,
   "metadata": {},
   "outputs": [
    {
     "data": {
      "text/plain": [
       "<lxml.etree._ElementTree at 0x7f24e6941fc8>"
      ]
     },
     "execution_count": 27,
     "metadata": {},
     "output_type": "execute_result"
    }
   ],
   "source": [
    "parser = etree.HTMLParser()\n",
    "tree = etree.parse(StringIO(html), parser)\n",
    "tree"
   ]
  },
  {
   "cell_type": "code",
   "execution_count": 28,
   "metadata": {},
   "outputs": [
    {
     "name": "stdout",
     "output_type": "stream",
     "text": [
      "['__class__', '__copy__', '__deepcopy__', '__delattr__', '__dir__', '__doc__', '__eq__', '__format__', '__ge__', '__getattribute__', '__gt__', '__hash__', '__init__', '__init_subclass__', '__le__', '__lt__', '__ne__', '__new__', '__pyx_vtable__', '__reduce__', '__reduce_ex__', '__repr__', '__setattr__', '__sizeof__', '__str__', '__subclasshook__', '_setroot', 'docinfo', 'find', 'findall', 'findtext', 'getelementpath', 'getiterator', 'getpath', 'getroot', 'iter', 'iterfind', 'parse', 'parser', 'relaxng', 'write', 'write_c14n', 'xinclude', 'xmlschema', 'xpath', 'xslt']\n"
     ]
    }
   ],
   "source": [
    "print(dir(tree))"
   ]
  },
  {
   "cell_type": "code",
   "execution_count": 29,
   "metadata": {},
   "outputs": [
    {
     "name": "stdout",
     "output_type": "stream",
     "text": [
      "<Element html at 0x7f24e66ac048>\n",
      "b'<html>\\n<head>\\n    <title>Example Domain</title>\\n\\n    <meta charset=\"utf-8\">\\n    <meta http-equiv=\"Content-type\" content=\"text/html; charset=utf-8\">\\n    <meta name=\"viewport\" content=\"width=device-width, initial-scale=1\">\\n    <style type=\"text/css\">\\n    body {\\n        background-color: #f0f0f2;\\n        margin: 0;\\n        padding: 0;\\n        font-family: \"Open Sans\", \"Helvetica Neue\", Helvetica, Arial, sans-serif;\\n        \\n    }\\n    div {\\n        width: 600px;\\n        margin: 5em auto;\\n        padding: 50px;\\n        background-color: #fff;\\n        border-radius: 1em;\\n    }\\n    a:link, a:visited {\\n        color: #38488f;\\n        text-decoration: none;\\n    }\\n    @media (max-width: 700px) {\\n        body {\\n            background-color: #fff;\\n        }\\n        div {\\n            width: auto;\\n            margin: 0 auto;\\n            border-radius: 0;\\n            padding: 1em;\\n        }\\n    }\\n    </style>    \\n</head>\\n\\n<body>\\n<div>\\n    <h1>Example Domain</h1>\\n    <p>This domain is established to be used for illustrative examples in documents. You may use this\\n    domain in examples without prior coordination or asking for permission.</p>\\n    <p><a href=\"http://www.iana.org/domains/example\">More information...</a></p>\\n</div>\\n</body>\\n</html>\\n'\n"
     ]
    }
   ],
   "source": [
    "print(tree.getroot())\n",
    "print(etree.tostring(tree.getroot(), pretty_print=True, method=\"html\"))"
   ]
  },
  {
   "cell_type": "code",
   "execution_count": 30,
   "metadata": {},
   "outputs": [
    {
     "name": "stdout",
     "output_type": "stream",
     "text": [
      "This domain is established to be used for illustrative examples in documents. You may use this\n",
      "    domain in examples without prior coordination or asking for permission.\n",
      "None\n"
     ]
    }
   ],
   "source": [
    "paragraphs = tree.xpath('//p')\n",
    "for p in paragraphs:\n",
    "    print(p.text)  "
   ]
  },
  {
   "cell_type": "code",
   "execution_count": 31,
   "metadata": {},
   "outputs": [
    {
     "name": "stdout",
     "output_type": "stream",
     "text": [
      "b'<p>This domain is established to be used for illustrative examples in documents. You may use this\\n    domain in examples without prior coordination or asking for permission.</p>\\n    \\n'\n",
      "b'<p><a href=\"http://www.iana.org/domains/example\">More information...</a></p>\\n\\n'\n"
     ]
    }
   ],
   "source": [
    "for p in paragraphs:\n",
    "    print(etree.tostring(p, pretty_print=True, method='html'))  "
   ]
  },
  {
   "cell_type": "code",
   "execution_count": 32,
   "metadata": {},
   "outputs": [
    {
     "name": "stdout",
     "output_type": "stream",
     "text": [
      "More information...\n",
      "{'href': 'http://www.iana.org/domains/example'}\n"
     ]
    }
   ],
   "source": [
    "hrefs = tree.xpath('//a')\n",
    "for href in hrefs:\n",
    "    print(href.text)  \n",
    "    print(href.attrib)  "
   ]
  },
  {
   "cell_type": "code",
   "execution_count": 33,
   "metadata": {},
   "outputs": [
    {
     "data": {
      "text/plain": [
       "[]"
      ]
     },
     "execution_count": 33,
     "metadata": {},
     "output_type": "execute_result"
    }
   ],
   "source": [
    "specific_hrefs = tree.xpath('//a[@href=\"http://www.non-existing-domain.org/\"]')\n",
    "specific_hrefs"
   ]
  },
  {
   "cell_type": "markdown",
   "metadata": {},
   "source": [
    "### BeautifulSoup"
   ]
  },
  {
   "cell_type": "code",
   "execution_count": 25,
   "metadata": {},
   "outputs": [
    {
     "name": "stdout",
     "output_type": "stream",
     "text": [
      "<!doctype html>\n",
      "<html>\n",
      "<head>\n",
      "    <title>Example Domain</title>\n",
      "\n",
      "    <meta charset=\"utf-8\" />\n",
      "    <meta http-equiv=\"Content-type\" content=\"text/html; charset=utf-8\" />\n",
      "    <meta name=\"viewport\" content=\"width=device-width, initial-scale=1\" />\n",
      "    <style type=\"text/css\">\n",
      "    body {\n",
      "        background-color: #f0f0f2;\n",
      "        margin: 0;\n",
      "        padding: 0;\n",
      "        font-family: \"Open Sans\", \"Helvetica Neue\", Helvetica, Arial, sans-serif;\n",
      "        \n",
      "    }\n",
      "    div {\n",
      "        width: 600px;\n",
      "        margin: 5em auto;\n",
      "        padding: 50px;\n",
      "        background-color: #fff;\n",
      "        border-radius: 1em;\n",
      "    }\n",
      "    a:link, a:visited {\n",
      "        color: #38488f;\n",
      "        text-decoration: none;\n",
      "    }\n",
      "    @media (max-width: 700px) {\n",
      "        body {\n",
      "            background-color: #fff;\n",
      "        }\n",
      "        div {\n",
      "            width: auto;\n",
      "            margin: 0 auto;\n",
      "            border-radius: 0;\n",
      "            padding: 1em;\n",
      "        }\n",
      "    }\n",
      "    </style>    \n",
      "</head>\n",
      "\n",
      "<body>\n",
      "<div>\n",
      "    <h1>Example Domain</h1>\n",
      "    <p>This domain is established to be used for illustrative examples in documents. You may use this\n",
      "    domain in examples without prior coordination or asking for permission.</p>\n",
      "    <p><a href=\"http://www.iana.org/domains/example\">More information...</a></p>\n",
      "</div>\n",
      "</body>\n",
      "</html>\n",
      "\n"
     ]
    }
   ],
   "source": [
    "print(html)"
   ]
  },
  {
   "cell_type": "code",
   "execution_count": 30,
   "metadata": {},
   "outputs": [],
   "source": [
    "html = requests.get('https://www.google.com/search?source=hp&ei=OXPhWviWDKqJmwWThrmgBA&q=%D0%BF%D0%BE%D0%B3%D0%BE%D0%B4%D0%B0+%D0%B2+%D0%BC%D0%BE%D1%81%D0%BA%D0%B2%D0%B5&oq=%D0%BF%D0%BE%D0%B3%D0%BE%D0%B4%D0%B0+%D0%B2+%D0%BC%D0%BE%D1%81%D0%BA%D0%B2%D0%B5&gs_l=psy-ab.3..0i203k1l10.1990.5682.0.5795.19.14.1.0.0.0.550.1687.0j1j3j1j0j1.6.0....0...1c.1.64.psy-ab..13.6.1167.0..0j35i39k1.0.hbVCA6n3Um0').text"
   ]
  },
  {
   "cell_type": "code",
   "execution_count": 27,
   "metadata": {
    "collapsed": true,
    "scrolled": true
   },
   "outputs": [],
   "source": [
    "# try:\n",
    "from bs4 import BeautifulSoup\n",
    "# except:\n",
    "#     !pip install bs4 "
   ]
  },
  {
   "cell_type": "code",
   "execution_count": 32,
   "metadata": {},
   "outputs": [
    {
     "name": "stderr",
     "output_type": "stream",
     "text": [
      "/Users/ryadom/env/lib/python3.6/site-packages/bs4/__init__.py:181: UserWarning: No parser was explicitly specified, so I'm using the best available HTML parser for this system (\"html5lib\"). This usually isn't a problem, but if you run this code on another system, or in a different virtual environment, it may use a different parser and behave differently.\n",
      "\n",
      "The code that caused this warning is on line 193 of the file /usr/local/Cellar/python3/3.6.1/Frameworks/Python.framework/Versions/3.6/lib/python3.6/runpy.py. To get rid of this warning, change code that looks like this:\n",
      "\n",
      " BeautifulSoup(YOUR_MARKUP})\n",
      "\n",
      "to this:\n",
      "\n",
      " BeautifulSoup(YOUR_MARKUP, \"html5lib\")\n",
      "\n",
      "  markup_type=markup_type))\n"
     ]
    }
   ],
   "source": [
    "soup = BeautifulSoup(html)"
   ]
  },
  {
   "cell_type": "code",
   "execution_count": 36,
   "metadata": {},
   "outputs": [
    {
     "data": {
      "text/plain": [
       "'<!doctype html><html itemscope=\"\" itemtype=\"http://schema.org/SearchResultsPage\" lang=\"ru\"><head><meta content=\"text/html; charset=UTF-8\" http-equiv=\"Content-Type\"><meta content=\"/images/branding/googleg/1x/googleg_standard_color_128dp.png\" itemprop=\"image\"><link href=\"/images/branding/product/ico/googleg_lodp.ico\" rel=\"shortcut icon\"><title>&#1087;&#1086;&#1075;&#1086;&#1076;&#1072; &#1074; &#1084;&#1086;&#1089;&#1082;&#1074;&#1077; - &#1055;&#1086;&#1080;&#1089;&#1082; &#1074; Google</title><style>#gbar,#guser{font-size:13px;padding-top:1px !important;}#gbar{height:22px}#guser{padding-bottom:7px !important;text-align:right}.gbh,.gbd{border-top:1px solid #c9d7f1;font-size:1px}.gbh{height:0;position:absolute;top:24px;width:100%}@media all{.gb1{height:22px;margin-right:.5em;vertical-align:top}#gbar{float:left}}a.gb1,a.gb4{text-decoration:underline !important}a.gb1,a.gb4{color:#00c !important}.gbi .gb4{color:#dd8e27 !important}.gbf .gb4{color:#900 !important} </style><style>.star{float:left;margin-top:1px;overflow:hidden}.ybhkme{font-size:11px}.j{width:34em}body,td,div,.p,a{font-family:arial,sans-serif;tap-highlight-color:rgba(255,255,255,0)}body{margin:0}a img{border:0}#gbar{float:left;height:22px;padding-left:2px;font-size:13px}.gsfi,.gsfs{font-size:17px}.w,.q:active,.q:visited,.tbotu{color:#11c}a.gl{text-decoration:none}#foot{padding:0 8px}#foot a{white-space:nowrap}h3{font-size:16px;font-weight:normal;margin:0;padding:0}#res h3{display:inline}.hd{height:1px;position:absolute;top:-1000em}.g,body,html,table,.std{font-size:13px}.g{margin-bottom:23px;margin-top:0;zoom:1}ol li,ul li{list-style:none}h1,ol,ul,li{margin:0;padding:0}.e{margin:2px 0 0.75em}#leftnav a{text-decoration:none}#leftnav h2{color:#767676;font-weight:normal;margin:0}#nav{border-collapse:collapse;margin-top:17px;text-align:left}#nav td{text-align:center}.nobr{white-space:nowrap}.ts{border-collapse:collapse}.s br{display:none}.csb{display:block;height:40px}.images_table td{line-height:17px;padding-bottom:16px}.images_table img{border:1px solid #ccc;padding:1px}#tbd,#abd{display:block;min-height:1px}#abd{padding-top:3px}#tbd li{display:inline}.TIrJXe,.UU5df{margin-bottom:8px}#tbd .tbt li{display:block;font-size:13px;line-height:1.2;padding-bottom:3px;padding-left:8px;text-indent:-8px}.tbos,.b{font-weight:bold}em{font-weight:bold;font-style:normal}.mime{color:#1a0dab;font-weight:bold;font-size:x-small}.soc a{text-decoration:none}.soc{color:#808080}.ul7Gbc{color:#e7711b}#Db7kif{border:1px solid #e0e0e0;margin-left:-8px;margin-right:-8px;padding:15px 20px 5px}.mrH1y{font-size:32px}.PZ6wOb{color:#777;font-size:16px;margin-top:5px}.gwrItc{color:#777;font-size:14px;margin-top:5px}.SVob4e{border:1px solid #e0e0e0;padding-left:20px}.mYu5Hb{border:1px solid #e0e0e0;padding:5px 20px}#vob{border:1px solid #e0e0e0;padding:15px 15px}#ZjIC2e{font-size:22px;line-height:22px;padding-bottom:5px}#vob_st{line-height:1.24}.DfLGHd{border-width:1px;border-style:solid;border-color:#eee;background-color:#fff;position:relative;margin-bottom:26px}.uRIxYb,.NjTIc,.DXoZmb{font-family:Arial;font-weight:lighter}.uRIxYb{margin-bottom:5px}.uRIxYb{font-size:xx-large}.NjTIc{font-size:medium}.DXoZmb{font-size:small}.DfLGHd{margin-left:-8px;margin-right:-15px;padding:20px 20px 24px}.ernfsc{border-spacing:0px 2px}.D3VFNd{max-width:380px;text-overflow:ellipsis;white-space:nowrap;overflow:hidden;padding-left:0px}.c1Ujmc{padding-left:15px;white-space:nowrap;color:#666}.EjZtie{padding-left:0px}.SFt5jb{color:#212121}.Pt7r9e{color:#878787}.bkcGhd{color:#093}.fIP9ce{color:#c00}.LDBB9d{padding:1px}.vT9M9c{color:#dd4b39}.gssb_a{padding:0 10px !important}.gssb_c{left:132px !important;right:295px !important;top:78px !important;width:572px !important}.gssb_c table{font-size:16px !important}.gssb_e{border:1px solid #ccc !important;border-top-color:#d9d9d9 !important}.gssb_i{background:#eee !important}#res{padding:0 8px}#rhs_block{padding-top:43px}#MCN7mf{padding:0 8px}#subform_ctrl{font-size:11px;height:17px;margin:5px 3px 0 17px}.taf{padding-bottom:3px}.WIkLp{padding:20px 0 3px}.FuZzl{padding:20px 0 3px}#topstuff .e{padding-bottom:6px}.slk .sld{width:250px}.slk{margin-bottom:-3px}.slk .zaHRAf{padding-bottom:5px;width:250px}.ac,.st{line-height:1.24}.mfr,#ofr{font-size:16px;margin:1em 0;padding:0 8px}.tZz6cc{padding-bottom:25px}.s{color:#545454}.ac{color:#545454}a.fl,.A8ul6 a,.osl a{color:#1a0dab;text-decoration:none}a:link{color:#1a0dab;cursor:pointer}#tads a:link{color:#1a0dab}#tads .soc a:link{color:#808080}a:visited{color:#61C}.blg a{text-decoration:none}cite,cite a:link{color:#006621;font-style:normal}#tads cite{color:#006621}.hJND5c{font-size:15px}.kvs{margin-top:1px}.hJND5c,.kvs,.slp{display:block;margin-bottom:1px}.kt{border-spacing:2px 0;margin-top:1px}.f{color:#808080}.L4Zeue{color:#093}h4.r{display:inline;font-size:small;font-weight:normal}.g{line-height:1.2}.NpC9Hd{display:inline-block;vertical-align:top;overflow:hidden;position:relative}.COi8F{margin:0 0 2em 1.3em}.COi8F li{list-style-type:disc}.osl{color:#777;margin-top:4px}.r{font-size:16px;margin:0}.spell{font-size:16px}.spell_orig{font-size:13px}.spell_orig a{text-decoration:none}.spell_orig b i{font-style:normal;font-weight:normal}.th{border:1px solid #ebebeb}.ts td{padding:0}.videobox{padding-bottom:3px}.slk a{text-decoration:none}#leftnav a:hover,#leftnav .tbou a:hover,.slk h3 a,a:hover{text-decoration:underline}#mn{table-layout:fixed;width:100%}#leftnav a{color:#222;font-size:13px}#leftnav{padding:43px 4px 4px 0}.tbos{color:#dd4b39}.tbt{margin-bottom:28px}#tbd{padding:0 0 0 16px}.tbou a{color:#222}#center_col{border:0;padding:0 8px 0 0}#topstuff .e{padding-top:3px}#topstuff .sp_cnt{padding-top:6px}#ab_name{color:#dd4b39;font:20px \"Arial\";margin-left:15px}#resultStats{color:#999;font-size:13px;overflow:hidden;white-space:nowrap}.mslg>td{padding-right:1px;padding-top:2px}.slk .sld{margin-top:2px;padding:5px 0 5px 5px}.fmp{padding-top:3px}.close_btn{overflow:hidden}#fll a,#bfl a{color:#1a0dab !important;margin:0 12px;text-decoration:none !important}.ng{color:#dd4b39}#mss{margin:.33em 0 0;padding:0;display:table}.NYKCib{display:inline-block;float:left;white-space:nowrap;padding-right:16px}#mss p{margin:0;padding-top:5px}.tn{border-bottom:1px solid #ebebeb;display:block;float:left;height:59px;line-height:54px;min-width:980px;padding:0;position:relative;white-space:nowrap}.qrSWbe,a.qrSWbe{color:#777;cursor:pointer;display:inline-block;font-family:arial,sans-serif;font-size:small;height:54px;line-height:54px;margin:0 8px;padding:0 8px;text-decoration:none;white-space:nowrap}.tnuiC{border-bottom:3px solid #dd4b39;color:#dd4b39;font-weight:bold;margin:2px 8px 0}a.KDZjCd:hover{color:black;text-decoration:none;white-space:nowrap}body{margin:0;padding:0}.sFTC8c{display:inline-block;float:left;margin-top:2px}.pqkqJe,a.pqkqJe{margin-left:1px}.sd{line-height:43px;padding:0 8px 0 9px}a:active,.osl a:active,.tbou a:active,#leftnav a:active{color:#dd4b39}#bfl a:active{color:#dd4b39 !important}.csb{background:url(/images/nav_logo229.png) no-repeat;overflow:hidden}.close_btn{background:url(/images/nav_logo229.png) no-repeat -138px -84px;height:14px;width:14px;display:block}.star{background:url(/images/nav_logo229.png) no-repeat -94px -245px;height:13px;width:65px;display:block}.star div,.star span{background:url(/images/nav_logo229.png) no-repeat 0 -245px;height:13px;width:65px;display:block}.Pj9hGd{display:inline;margin:0 3px;outline-color:transparent;overflow:hidden;position:relative}.Pj9hGd>div{outline-color:transparent}.CiacGf{border-color:transparent;border-style:solid dashed dashed;border-top-color:green;border-width:4px 4px 0 4px;cursor:pointer;display:inline-block;font-size:0;height:0;left:4px;line-height:0;outline-color:transparent;position:relative;top:-3px;width:0}.CiacGf{margin-top:-4px}.am-dropdown-menu{display:block;background:#fff;border:1px solid #dcdcdc;font-size:13px;left:0;padding:0;position:absolute;right:auto;white-space:nowrap;z-index:3}.mUpfKd{list-style:none;white-space:nowrap}.mUpfKd:hover{background-color:#eee}a.imx0m{color:#333;cursor:pointer;display:block;padding:7px 18px;text-decoration:none}#tads a.imx0m{color:#333}.sfbgg{background:#f1f1f1;border-bottom:1px solid #e5e5e5;height:71px}#logocont{z-index:1;padding-left:4px;padding-top:4px}#logo{display:block;height:49px;margin-top:12px;margin-left:12px;overflow:hidden;position:relative;width:137px}#logo img{left:0;position:absolute;top:-41px}.lst-a{background:white;border:1px solid #d9d9d9;border-top-color:silver;width:570px}.lst-a:hover{border:1px solid #b9b9b9;border-top:1px solid #a0a0a0;box-shadow:inset 0 1px 2px rgba(0,0,0,0.1);-webkit-box-shadow:inset 0 1px 2px rgba(0,0,0,0.1);-moz-box-shadow:inset 0 1px 2px rgba(0,0,0,0.1)}.lst-td{border:none;padding:0}.tia input{border-right:none;padding-right:0}.tia{padding-right:0}.lst{background:none;border:none;color:#000;font:16px arial,sans-serif;float:left;height:22px;margin:0;padding:3px 6px 2px 9px;vertical-align:top;width:100%;word-break:break-all}.lst:focus{outline:none}.lst-b{background:none;border:none;height:26px;padding:0 6px 0 12px}.ds{border-right:1px solid #e7e7e7;position:relative;height:29px;margin-left:17px;z-index:100}.lsbb{background-image:-moz-linear-gradient(top,#4d90fe,#4787ed);background-image:-ms-linear-gradient(top,#4d90fe,#4787ed);background-image:-o-linear-gradient(top,#4d90fe,#4787ed);background-image:-webkit-gradient(linear,left top,left bottom,from(#4d90fe),to(#4787ed));background-image:-webkit-linear-gradient(top,#4d90fe,#4787ed);background-image:linear-gradient(top,#4d90fe,#4787ed);border:1px solid #3079ed;border-radius:2px;background-color:#4d90fe;height:27px;width:68px}.lsbb:hover{background-image:-moz-linear-gradient(top,#4d90fe,#357ae8);background-image:-ms-linear-gradient(top,#4d90fe,#357ae8);background-image:-o-linear-gradient(top,#4d90fe,#357ae8);background-image:-webkit-gradient(linear,left top,left bottom,from(#4d90fe),to(#357ae8));background-image:-webkit-linear-gradient(top,#4d90fe,#357ae8);background-color:#357ae8;background-image:linear-gradient(top,#4d90fe,#357ae8);border:1px solid #2f5bb7}.lsb{background:transparent;background-position:0 -343px;background-repeat:repeat-x;border:none;color:#000;cursor:default;font:15px arial,sans-serif;height:29px;margin:0;vertical-align:top;width:100%}.lsb:active{-moz-box-shadow:inset 0 1px 2px rgba(0,0,0,0.3);-webkit-box-shadow:inset 0 1px 2px rgba(0,0,0,0.3);box-shadow:inset 0 1px 2px rgba(0,0,0,0.3);background:transparent;color:transparent;overflow:hidden;position:relative;width:100%}.sbico{color:transparent;display:inline-block;height:15px;margin:0 auto;margin-top:2px;width:15px;overflow:hidden}</style><script nonce=\"cKBB2BHmve7LSV4rTDpeoQ==\">(function(){window.google={kEI:\\'XXPhWt6AFKGy6ATjw5vYAg\\',kEXPI:\\'0,1353747,57,473,638,846,1018,74,366,718,175,4,110,174,13,209,55,342,19,168,2340856,257,170,32,318990,10304,1294,12383,2349,2506,32691,16115,316,1252,7,1381,7,9200,971,4310,4201,1862,5177,364,553,332,332,2102,113,1150,1051,3191,1067,174,1192,66,73,130,3322,1508,2,14,261,444,1247,2,581,353,24,287,64,310,1352,402,77,290,126,215,409,355,257,388,789,489,73,403,148,300,849,154,730,554,1061,2,479,38,7,152,411,686,10,272,264,769,67,150,11,35,728,45,77,449,686,20,560,4,457,278,2,9,452,6,373,28,1387,263,37,235,27,8,154,187,87,273,57,218,273,844,90,37,110,33,345,84,525,25,310,16,549,671,6030144,12,2533,9,5997389\\',authuser:0,kscs:\\'c9c918f0_XXPhWt6AFKGy6ATjw5vYAg\\',u:\\'c9c918f0\\',kGL:\\'RU\\'};google.kHL=\\'ru\\';})();(function(){google.lc=[];google.li=0;google.getEI=function(a){for(var b;a&&(!a.getAttribute||!(b=a.getAttribute(\"eid\")));)a=a.parentNode;return b||google.kEI};google.getLEI=function(a){for(var b=null;a&&(!a.getAttribute||!(b=a.getAttribute(\"leid\")));)a=a.parentNode;return b};google.https=function(){return\"https:\"==window.location.protocol};google.ml=function(){return null};google.wl=function(a,b){try{google.ml(Error(a),!1,b)}catch(d){}};google.time=function(){return(new Date).getTime()};google.log=function(a,b,d,c,g){if(a=google.logUrl(a,b,d,c,g)){b=new Image;var e=google.lc,f=google.li;e[f]=b;b.onerror=b.onload=b.onabort=function(){delete e[f]};google.vel&&google.vel.lu&&google.vel.lu(a);b.src=a;google.li=f+1}};google.logUrl=function(a,b,d,c,g){var e=\"\",f=google.ls||\"\";d||-1!=b.search(\"&ei=\")||(e=\"&ei=\"+google.getEI(c),-1==b.search(\"&lei=\")&&(c=google.getLEI(c))&&(e+=\"&lei=\"+c));c=\"\";!d&&google.cshid&&-1==b.search(\"&cshid=\")&&(c=\"&cshid=\"+google.cshid);a=d||\"/\"+(g||\"gen_204\")+\"?atyp=i&ct=\"+a+\"&cad=\"+b+e+f+\"&zx=\"+google.time()+c;/^http:/i.test(a)&&google.https()&&(google.ml(Error(\"a\"),!1,{src:a,glmm:1}),a=\"\");return a};}).call(this);(function(){google.y={};google.x=function(a,b){if(a)var c=a.id;else{do c=Math.random();while(google.y[c])}google.y[c]=[a,b];return!1};google.lm=[];google.plm=function(a){google.lm.push.apply(google.lm,a)};google.lq=[];google.load=function(a,b,c){google.lq.push([[a],b,c])};google.loadAll=function(a,b){google.lq.push([a,b])};}).call(this);google.f={};(function(){var b={gen204:\"dcl\",clearcut:4};var c=[function(){google.c&&google.tick(\"load\",b)}];google.dclc=function(a){c.length?c.push(a):a()};function d(){for(var a;a=c.shift();)a()}window.addEventListener?(document.addEventListener(\"DOMContentLoaded\",d,!1),window.addEventListener(\"load\",d,!1)):window.attachEvent&&window.attachEvent(\"onload\",d);}).call(this);</script><script type=\"text/javascript\" nonce=\"cKBB2BHmve7LSV4rTDpeoQ==\"></script><script nonce=\"cKBB2BHmve7LSV4rTDpeoQ==\">(function(){google.sham=function(c){for(var d=c.parentElement,a=null,b=0;b<d.childNodes.length;b++){var e=d.childNodes[b];-1<(\" \"+e.className+\" \").indexOf(\" am-dropdown-menu \")&&(a=e)}\"none\"==a.style.display?(a.style.display=\"\",google.log(\"hpam\",\"&ved=\"+c.getAttribute(\"data-ved\"))):a.style.display=\"none\"};}).call(this);(function(){var a=[];google.jsc={xx:a,x:function(b){a.push(b)}};}).call(this);</script></head><body class=\"hsrp\" bgcolor=\"#ffffff\" marginheight=\"0\" marginwidth=\"0\" topmargin=\"0\"><div id=gbar><nobr><b class=gb1>&#1055;&#1086;&#1080;&#1089;&#1082;</b> <a class=gb1 href=\"https://www.google.ru/search?hl=ru&tbm=isch&source=og&tab=wi\">&#1050;&#1072;&#1088;&#1090;&#1080;&#1085;&#1082;&#1080;</a> <a class=gb1 href=\"https://maps.google.ru/maps?hl=ru&tab=wl\">&#1050;&#1072;&#1088;&#1090;&#1099;</a> <a class=gb1 href=\"https://play.google.com/?hl=ru&tab=w8\">Play</a> <a class=gb1 href=\"https://www.youtube.com/results?gl=RU&tab=w1\">YouTube</a> <a class=gb1 href=\"https://news.google.ru/nwshp?hl=ru&tab=wn\">&#1053;&#1086;&#1074;&#1086;&#1089;&#1090;&#1080;</a> <a class=gb1 href=\"https://mail.google.com/mail/?tab=wm\">&#1055;&#1086;&#1095;&#1090;&#1072;</a> <a class=gb1 href=\"https://drive.google.com/?tab=wo\">&#1044;&#1080;&#1089;&#1082;</a> <a class=gb1 style=\"text-decoration:none\" href=\"https://www.google.ru/intl/ru/options/\"><u>&#1045;&#1097;&#1105;</u> &raquo;</a></nobr></div><div id=guser width=100%><nobr><span id=gbn class=gbi></span><span id=gbf class=gbf></span><span id=gbe></span><a href=\"http://www.google.ru/history/optout?hl=ru\" class=gb4>&#1048;&#1089;&#1090;&#1086;&#1088;&#1080;&#1103; &#1074;&#1077;&#1073;-&#1087;&#1086;&#1080;&#1089;&#1082;&#1072;</a> | <a  href=\"/preferences?hl=ru\" class=gb4>&#1053;&#1072;&#1089;&#1090;&#1088;&#1086;&#1081;&#1082;&#1080;</a> | <a target=_top id=gb_70 href=\"https://accounts.google.com/ServiceLogin?hl=ru&passive=true&continue=https://www.google.com/search%3Fsource%3Dhp%26ei%3DOXPhWviWDKqJmwWThrmgBA%26q%3D%25D0%25BF%25D0%25BE%25D0%25B3%25D0%25BE%25D0%25B4%25D0%25B0%2B%25D0%25B2%2B%25D0%25BC%25D0%25BE%25D1%2581%25D0%25BA%25D0%25B2%25D0%25B5%26oq%3D%25D0%25BF%25D0%25BE%25D0%25B3%25D0%25BE%25D0%25B4%25D0%25B0%2B%25D0%25B2%2B%25D0%25BC%25D0%25BE%25D1%2581%25D0%25BA%25D0%25B2%25D0%25B5%26gs_l%3Dpsy-ab.3..0i203k1l10.1990.5682.0.5795.19.14.1.0.0.0.550.1687.0j1j3j1j0j1.6.0....0...1c.1.64.psy-ab..13.6.1167.0..0j35i39k1.0.hbVCA6n3Um0\" class=gb4>&#1042;&#1086;&#1081;&#1090;&#1080;</a></nobr></div><div class=gbh style=left:0></div><div class=gbh style=right:0></div><table id=\"mn\" border=\"0\" cellpadding=\"0\" cellspacing=\"0\" style=\"position:relative\"><tr><th width=\"132\"></th><th width=\"573\"></th><th width=\"278\"></th><th></th></tr><tr><td class=\"sfbgg\" valign=\"top\"><div id=\"logocont\"><h1><a href=\"/webhp?hl=ru\" style=\"background:url(/images/nav_logo229.png) no-repeat 0 -41px;height:37px;width:95px;display:block\" id=\"logo\" title=\"Go to Google Home\"></a></h1></div></td><td class=\"sfbgg\" colspan=\"2\" valign=\"top\" style=\"padding-left:0px\"><form style=\"display:block;margin:0;background:none\" action=\"/search\" id=\"tsf\" method=\"GET\" name=\"gs\"><table border=\"0\" cellpadding=\"0\" cellspacing=\"0\" style=\"margin-top:20px;position:relative\"><tr><td><div class=\"lst-a\"><table cellpadding=\"0\" cellspacing=\"0\"><tr><td class=\"lst-td tia\" width=\"526\" valign=\"bottom\"><div style=\"position:relative;zoom:1\"><input class=\"lst\" value=\"&#1087;&#1086;&#1075;&#1086;&#1076;&#1072; &#1074; &#1084;&#1086;&#1089;&#1082;&#1074;&#1077;\" title=\"&#1055;&#1086;&#1080;&#1089;&#1082;\" autocomplete=\"off\" id=\"sbhost\" maxlength=\"2048\" name=\"q\" type=\"text\"></div></td><td class=\"lst-td\"><div class=\"lst-b\"><img style=\"padding-top:2px\" src=\"/textinputassistant/tia.png\" onclick=\"(function(){var text_input_assistant_js=\\'/textinputassistant/11/ru_tia.js\\';var s = document.createElement(\\'script\\');s.src = text_input_assistant_js;(document.getElementById(\\'xjsc\\')|| document.body).appendChild(s);})();\" alt=\"\" height=\"23\" width=\"27\"></div></td></tr></table></div></td><td><div class=\"ds\" style=\"margin-left:16px\"><div class=\"lsbb\"><button class=\"lsb\" value=\"&#1055;&#1086;&#1080;&#1089;&#1082;\" name=\"btnG\" type=\"submit\"><span class=\"sbico\" style=\"background:url(/images/nav_logo229.png) no-repeat -36px -111px;height:14px;width:13px;display:block\"></span></button></div></div></td></tr></table></form></td><td class=\"sfbgg\">&nbsp;</td></tr><tr style=\"position:relative\"><td><div style=\"border-bottom:1px solid #ebebeb;height:59px\"></div></td><td colspan=\"2\"><div class=\"tn\"><div class=\"qrSWbe tnuiC sFTC8c pqkqJe\">&#1042;&#1089;&#1077;</div><div class=\"sFTC8c\"><a class=\"qrSWbe KDZjCd\" href=\"/search?q=%D0%BF%D0%BE%D0%B3%D0%BE%D0%B4%D0%B0+%D0%B2+%D0%BC%D0%BE%D1%81%D0%BA%D0%B2%D0%B5&amp;ie=UTF-8&amp;prmd=ivns&amp;source=lnms&amp;tbm=isch&amp;sa=X&amp;ved=0ahUKEwieo8vUqdfaAhUhGZoKHePhBisQ_AUIBQ\">&#1050;&#1072;&#1088;&#1090;&#1080;&#1085;&#1082;&#1080;</a></div><div class=\"sFTC8c\"><a class=\"qrSWbe KDZjCd\" href=\"/search?q=%D0%BF%D0%BE%D0%B3%D0%BE%D0%B4%D0%B0+%D0%B2+%D0%BC%D0%BE%D1%81%D0%BA%D0%B2%D0%B5&amp;ie=UTF-8&amp;prmd=ivns&amp;source=lnms&amp;tbm=vid&amp;sa=X&amp;ved=0ahUKEwieo8vUqdfaAhUhGZoKHePhBisQ_AUIBg\">&#1042;&#1080;&#1076;&#1077;&#1086;</a></div><div class=\"sFTC8c\"><a class=\"qrSWbe KDZjCd\" href=\"/search?q=%D0%BF%D0%BE%D0%B3%D0%BE%D0%B4%D0%B0+%D0%B2+%D0%BC%D0%BE%D1%81%D0%BA%D0%B2%D0%B5&amp;ie=UTF-8&amp;prmd=ivns&amp;source=lnms&amp;tbm=nws&amp;sa=X&amp;ved=0ahUKEwieo8vUqdfaAhUhGZoKHePhBisQ_AUIBw\">&#1053;&#1086;&#1074;&#1086;&#1089;&#1090;&#1080;</a></div><div class=\"sFTC8c\"><a class=\"qrSWbe KDZjCd\" href=\"/search?q=%D0%BF%D0%BE%D0%B3%D0%BE%D0%B4%D0%B0+%D0%B2+%D0%BC%D0%BE%D1%81%D0%BA%D0%B2%D0%B5&amp;ie=UTF-8&amp;prmd=ivns&amp;source=lnms&amp;tbm=shop&amp;sa=X&amp;ved=0ahUKEwieo8vUqdfaAhUhGZoKHePhBisQ_AUICA\">&#1055;&#1086;&#1082;&#1091;&#1087;&#1082;&#1080;</a></div><div class=\"sFTC8c\"><a class=\"qrSWbe KDZjCd\" href=\"https://maps.google.com/maps?q=%D0%BF%D0%BE%D0%B3%D0%BE%D0%B4%D0%B0+%D0%B2+%D0%BC%D0%BE%D1%81%D0%BA%D0%B2%D0%B5&amp;um=1&amp;ie=UTF-8&amp;sa=X&amp;ved=0ahUKEwieo8vUqdfaAhUhGZoKHePhBisQ_AUICQ\">&#1050;&#1072;&#1088;&#1090;&#1099;</a></div><div class=\"sFTC8c\"><a class=\"qrSWbe KDZjCd\" href=\"/search?q=%D0%BF%D0%BE%D0%B3%D0%BE%D0%B4%D0%B0+%D0%B2+%D0%BC%D0%BE%D1%81%D0%BA%D0%B2%D0%B5&amp;ie=UTF-8&amp;prmd=ivns&amp;source=lnms&amp;tbm=bks&amp;sa=X&amp;ved=0ahUKEwieo8vUqdfaAhUhGZoKHePhBisQ_AUICg\">&#1050;&#1085;&#1080;&#1075;&#1080;</a></div></div><div style=\"border-bottom:1px solid #ebebeb;height:59px\"></div></td><td><div style=\"border-bottom:1px solid #ebebeb;height:59px\"></div></td></tr><tbody id=\"desktop-search\"><style>.pCA4Bd,.pCA4Bd a:link,.pCA4Bd a:visited,a.pCA4Bd:link,a.pCA4Bd:visited{color:#808080}.AzrInc{color:#61C}.ellip{overflow:hidden;text-overflow:ellipsis;white-space:nowrap}</style><tr><td id=\"leftnav\" valign=\"top\"><div><h2 class=\"hd\">Search Options</h2><ul class=\"med\" id=\"tbd\"><li><ul class=\"tbt\"><li class=\"tbos\" id=\"lr_\">&#1053;&#1072; &#1074;&#1089;&#1077;&#1093; &#1103;&#1079;&#1099;&#1082;&#1072;&#1093;</li><li class=\"tbou\" id=\"lr_lang_1ru\"><a class=\"q\" href=\"/search?q=%D0%BF%D0%BE%D0%B3%D0%BE%D0%B4%D0%B0+%D0%B2+%D0%BC%D0%BE%D1%81%D0%BA%D0%B2%D0%B5&amp;ie=UTF-8&amp;prmd=ivns&amp;source=lnt&amp;tbs=lr:lang_1ru&amp;lr=lang_ru&amp;sa=X&amp;ved=0ahUKEwieo8vUqdfaAhUhGZoKHePhBisQpwUIDw\">&#1058;&#1086;&#1083;&#1100;&#1082;&#1086; &#1085;&#1072; &#1088;&#1091;&#1089;&#1089;&#1082;&#1080;&#1081;</a></li></ul></li><li><ul class=\"tbt\"><li class=\"tbos\" id=\"qdr_\">&#1047;&#1072; &#1074;&#1089;&#1105; &#1074;&#1088;&#1077;&#1084;&#1103;</li><li class=\"tbou\" id=\"qdr_h\"><a class=\"q\" href=\"/search?q=%D0%BF%D0%BE%D0%B3%D0%BE%D0%B4%D0%B0+%D0%B2+%D0%BC%D0%BE%D1%81%D0%BA%D0%B2%D0%B5&amp;ie=UTF-8&amp;prmd=ivns&amp;source=lnt&amp;tbs=qdr:h&amp;sa=X&amp;ved=0ahUKEwieo8vUqdfaAhUhGZoKHePhBisQpwUIDw\"> &#1047;&#1072; &#1095;&#1072;&#1089;</a></li><li class=\"tbou\" id=\"qdr_d\"><a class=\"q\" href=\"/search?q=%D0%BF%D0%BE%D0%B3%D0%BE%D0%B4%D0%B0+%D0%B2+%D0%BC%D0%BE%D1%81%D0%BA%D0%B2%D0%B5&amp;ie=UTF-8&amp;prmd=ivns&amp;source=lnt&amp;tbs=qdr:d&amp;sa=X&amp;ved=0ahUKEwieo8vUqdfaAhUhGZoKHePhBisQpwUIDw\"> &#1047;&#1072; 24 &#1095;&#1072;&#1089;&#1072;</a></li><li class=\"tbou\" id=\"qdr_w\"><a class=\"q\" href=\"/search?q=%D0%BF%D0%BE%D0%B3%D0%BE%D0%B4%D0%B0+%D0%B2+%D0%BC%D0%BE%D1%81%D0%BA%D0%B2%D0%B5&amp;ie=UTF-8&amp;prmd=ivns&amp;source=lnt&amp;tbs=qdr:w&amp;sa=X&amp;ved=0ahUKEwieo8vUqdfaAhUhGZoKHePhBisQpwUIDw\"> &#1047;&#1072; &#1085;&#1077;&#1076;&#1077;&#1083;&#1102;</a></li><li class=\"tbou\" id=\"qdr_m\"><a class=\"q\" href=\"/search?q=%D0%BF%D0%BE%D0%B3%D0%BE%D0%B4%D0%B0+%D0%B2+%D0%BC%D0%BE%D1%81%D0%BA%D0%B2%D0%B5&amp;ie=UTF-8&amp;prmd=ivns&amp;source=lnt&amp;tbs=qdr:m&amp;sa=X&amp;ved=0ahUKEwieo8vUqdfaAhUhGZoKHePhBisQpwUIDw\"> &#1047;&#1072; &#1084;&#1077;&#1089;&#1103;&#1094;</a></li><li class=\"tbou\" id=\"qdr_y\"><a class=\"q\" href=\"/search?q=%D0%BF%D0%BE%D0%B3%D0%BE%D0%B4%D0%B0+%D0%B2+%D0%BC%D0%BE%D1%81%D0%BA%D0%B2%D0%B5&amp;ie=UTF-8&amp;prmd=ivns&amp;source=lnt&amp;tbs=qdr:y&amp;sa=X&amp;ved=0ahUKEwieo8vUqdfaAhUhGZoKHePhBisQpwUIDw\"> &#1047;&#1072; &#1075;&#1086;&#1076;</a></li></ul></li><li><ul class=\"tbt\"><li class=\"tbos\" id=\"li_\">&#1042;&#1089;&#1077; &#1088;&#1077;&#1079;&#1091;&#1083;&#1100;&#1090;&#1072;&#1090;&#1099;</li><li class=\"tbou\" id=\"li_1\"><a class=\"q\" href=\"/search?q=%D0%BF%D0%BE%D0%B3%D0%BE%D0%B4%D0%B0+%D0%B2+%D0%BC%D0%BE%D1%81%D0%BA%D0%B2%D0%B5&amp;ie=UTF-8&amp;prmd=ivns&amp;source=lnt&amp;tbs=li:1&amp;sa=X&amp;ved=0ahUKEwieo8vUqdfaAhUhGZoKHePhBisQpwUIDw\">&#1058;&#1086;&#1095;&#1085;&#1086;&#1077; &#1089;&#1086;&#1086;&#1090;&#1074;&#1077;&#1090;&#1089;&#1090;&#1074;&#1080;&#1077;</a></li></ul></li></ul></div></td><td valign=\"top\"><div id=\"center_col\"><div class=\"sd\" id=\"resultStats\">&#1056;&#1077;&#1079;&#1091;&#1083;&#1100;&#1090;&#1072;&#1090;&#1086;&#1074;: &#1087;&#1088;&#1080;&#1084;&#1077;&#1088;&#1085;&#1086; 1\\xa0600\\xa0000</div><div id=\"res\"><div id=\"topstuff\"></div><div id=\"search\"><div id=\"ires\"><ol><div class=\"g\"><div class=\"e\"><h3><b>&#1055;&#1086;&#1075;&#1086;&#1076;&#1072;</b> (<b>&#1052;&#1086;&#1089;&#1082;&#1074;&#1072;</b>)</h3><table cellspacing=\"0\" style=\"padding:4px 0 0\"><tr><td rowspan=\"5\" style=\"vertical-align:center;padding-right:10px\"><img style=\"margin-right:3px;vertical-align:top\" alt=\"&#1053;&#1077;&#1073;&#1086;&#1083;&#1100;&#1096;&#1086;&#1081; &#1076;&#1086;&#1078;&#1076;&#1100;\" src=\"//ssl.gstatic.com/onebox/weather/60/rain.png\" title=\"&#1053;&#1077;&#1073;&#1086;&#1083;&#1100;&#1096;&#1086;&#1081; &#1076;&#1086;&#1078;&#1076;&#1100;\" height=\"60\" width=\"60\"></td><td rowspan=\"2\" style=\"font-size:140%;white-space:nowrap;vertical-align:top;padding-right:15px;font-weight:bold\"><span class=\"wob_t\" style=\"display:inline\">9°C</span> | <a class=\"fl wob_t\" style=\"display:inline\" href=\"/setprefs?fheit=1&amp;sig=0_9lqVPAZpC6IE9MkXWRdK-VLC4rg=&amp;prev=https://www.google.com/search%3Fsource%3Dhp%26ei%3DOXPhWviWDKqJmwWThrmgBA%26q%3D%25D0%25BF%25D0%25BE%25D0%25B3%25D0%25BE%25D0%25B4%25D0%25B0%2B%25D0%25B2%2B%25D0%25BC%25D0%25BE%25D1%2581%25D0%25BA%25D0%25B2%25D0%25B5%26oq%3D%25D0%25BF%25D0%25BE%25D0%25B3%25D0%25BE%25D0%25B4%25D0%25B0%2B%25D0%25B2%2B%25D0%25BC%25D0%25BE%25D1%2581%25D0%25BA%25D0%25B2%25D0%25B5%26gs_l%3Dpsy-ab.3..0i203k1l10.1990.5682.0.5795.19.14.1.0.0.0.550.1687.0j1j3j1j0j1.6.0....0...1c.1.64.psy-ab..13.6.1167.0..0j35i39k1.0.hbVCA6n3Um0\">&deg;F</a></td><td rowspan=\"5\" style=\"width:5px;border-left:1px solid #d8d8d8\"></td><td colspan=\"2\" style=\"vertical-align:top;text-align:center\">&#1095;&#1090;</td><td colspan=\"2\" style=\"vertical-align:top;text-align:center\">&#1087;&#1090;</td><td colspan=\"2\" style=\"vertical-align:top;text-align:center\">&#1089;&#1073;</td><td colspan=\"2\" style=\"vertical-align:top;text-align:center\">&#1074;&#1089;</td></tr><tr><td colspan=\"2\" rowspan=\"3\" style=\"text-align:center\"><img style=\"margin-right:3px;vertical-align:top;margin:0 12px\" alt=\"&#1044;&#1086;&#1078;&#1076;&#1100;\" src=\"//ssl.gstatic.com/onebox/weather/35/rain.png\" title=\"&#1044;&#1086;&#1078;&#1076;&#1100;\" height=\"35\" width=\"35\"></td><td colspan=\"2\" rowspan=\"3\" style=\"text-align:center\"><img style=\"margin-right:3px;vertical-align:top;margin:0 12px\" alt=\"&#1055;&#1077;&#1088;&#1077;&#1084;&#1077;&#1085;&#1085;&#1072;&#1103; &#1086;&#1073;&#1083;&#1072;&#1095;&#1085;&#1086;&#1089;&#1090;&#1100;\" src=\"//ssl.gstatic.com/onebox/weather/35/partly_cloudy.png\" title=\"&#1055;&#1077;&#1088;&#1077;&#1084;&#1077;&#1085;&#1085;&#1072;&#1103; &#1086;&#1073;&#1083;&#1072;&#1095;&#1085;&#1086;&#1089;&#1090;&#1100;\" height=\"35\" width=\"35\"></td><td colspan=\"2\" rowspan=\"3\" style=\"text-align:center\"><img style=\"margin-right:3px;vertical-align:top;margin:0 12px\" alt=\"&#1055;&#1077;&#1088;&#1077;&#1084;&#1077;&#1085;&#1085;&#1072;&#1103; &#1086;&#1073;&#1083;&#1072;&#1095;&#1085;&#1086;&#1089;&#1090;&#1100;\" src=\"//ssl.gstatic.com/onebox/weather/35/partly_cloudy.png\" title=\"&#1055;&#1077;&#1088;&#1077;&#1084;&#1077;&#1085;&#1085;&#1072;&#1103; &#1086;&#1073;&#1083;&#1072;&#1095;&#1085;&#1086;&#1089;&#1090;&#1100;\" height=\"35\" width=\"35\"></td><td colspan=\"2\" rowspan=\"3\" style=\"text-align:center\"><img style=\"margin-right:3px;vertical-align:top;margin:0 12px\" alt=\"&#1042;&#1088;&#1077;&#1084;&#1077;&#1085;&#1072;&#1084;&#1080; &#1083;&#1080;&#1074;&#1085;&#1080;\" src=\"//ssl.gstatic.com/onebox/weather/35/light_rain.png\" title=\"&#1042;&#1088;&#1077;&#1084;&#1077;&#1085;&#1072;&#1084;&#1080; &#1083;&#1080;&#1074;&#1085;&#1080;\" height=\"35\" width=\"35\"></td><td colspan=\"2\" rowspan=\"3\" style=\"text-align:center\"></td><td colspan=\"2\" rowspan=\"3\" style=\"text-align:center\"></td><td colspan=\"2\" rowspan=\"3\" style=\"text-align:center\"></td><td colspan=\"2\" rowspan=\"3\" style=\"text-align:center\"></td><td colspan=\"2\" rowspan=\"3\" style=\"text-align:center\"></td><td colspan=\"2\" rowspan=\"3\" style=\"text-align:center\"></td><td colspan=\"2\" rowspan=\"3\" style=\"text-align:center\"></td></tr><tr><td style=\"white-space:nowrap;padding-right:15px;color:#666\">&#1053;&#1077;&#1073;&#1086;&#1083;&#1100;&#1096;&#1086;&#1081; &#1076;&#1086;&#1078;&#1076;&#1100;</td></tr><tr><td style=\"white-space:nowrap;padding-right:15px;color:#666\">&#1042;&#1077;&#1090;&#1077;&#1088;: &#1070;&#1042;, <span class=\"wob_t\" style=\"display:inline\">0 &#1084;/&#1089;</span></td></tr><tr><td style=\"white-space:nowrap;padding-right:0px;vertical-align:top;color:#666\">&#1042;&#1083;&#1072;&#1078;&#1085;&#1086;&#1089;&#1090;&#1100;: 90%</td><td style=\"padding-left:5px;padding-right:2px;text-align:right;vertical-align:top;white-space:nowrap\"><span class=\"wob_t\" style=\"display:inline\">13°C</span></td><td style=\"color:#666;padding-left:2px;padding-right:5px;text-align:left;vertical-align:top;white-space:nowrap\"><span class=\"wob_t\" style=\"display:inline\">5°C</span></td><td style=\"padding-left:5px;padding-right:2px;text-align:right;vertical-align:top;white-space:nowrap\"><span class=\"wob_t\" style=\"display:inline\">16°C</span></td><td style=\"color:#666;padding-left:2px;padding-right:5px;text-align:left;vertical-align:top;white-space:nowrap\"><span class=\"wob_t\" style=\"display:inline\">6°C</span></td><td style=\"padding-left:5px;padding-right:2px;text-align:right;vertical-align:top;white-space:nowrap\"><span class=\"wob_t\" style=\"display:inline\">16°C</span></td><td style=\"color:#666;padding-left:2px;padding-right:5px;text-align:left;vertical-align:top;white-space:nowrap\"><span class=\"wob_t\" style=\"display:inline\">6°C</span></td><td style=\"padding-left:5px;padding-right:2px;text-align:right;vertical-align:top;white-space:nowrap\"><span class=\"wob_t\" style=\"display:inline\">18°C</span></td><td style=\"color:#666;padding-left:2px;padding-right:5px;text-align:left;vertical-align:top;white-space:nowrap\"><span class=\"wob_t\" style=\"display:inline\">7°C</span></td></tr></table><table cellspacing=\"0\" summary=\"\" style=\"padding:4px 0 0\"></table></div></div><div class=\"g\"><h3 class=\"r\"><a href=\"/url?q=https://www.gismeteo.ru/weather-moscow-4368/&amp;sa=U&amp;ved=0ahUKEwieo8vUqdfaAhUhGZoKHePhBisQFggWMAE&amp;usg=AOvVaw1T2-VqCSSA1gyVEL2_1aa8\">GISMETEO: <b>&#1087;&#1086;&#1075;&#1086;&#1076;&#1072; &#1074; &#1052;&#1086;&#1089;&#1082;&#1074;&#1077;</b> &#1089;&#1077;&#1075;&#1086;&#1076;&#1085;&#1103; &#8213; &#1087;&#1088;&#1086;&#1075;&#1085;&#1086;&#1079; &#1087;&#1086;&#1075;&#1086;&#1076;&#1099; &#1085;&#1072; ...</a></h3><div class=\"s\"><div class=\"hJND5c\" style=\"margin-bottom:2px\"><cite>https://www.gismeteo.ru/<b>weather</b>-moscow-4368/</cite><div class=\"Pj9hGd\"><div style=\"display:inline\" onclick=\"google.sham(this);\" aria-expanded=\"false\" aria-haspopup=\"true\" tabindex=\"0\" data-ved=\"0ahUKEwieo8vUqdfaAhUhGZoKHePhBisQ7B0IFzAB\"><span class=\"CiacGf\"></span></div><div style=\"display:none\" class=\"am-dropdown-menu\" role=\"menu\" tabindex=\"-1\"><ul><li class=\"mUpfKd\"><a class=\"imx0m\" href=\"/url?q=http://webcache.googleusercontent.com/search%3Fq%3Dcache:tN8O0n8ggo4J:https://www.gismeteo.ru/weather-moscow-4368/%252B%25D0%25BF%25D0%25BE%25D0%25B3%25D0%25BE%25D0%25B4%25D0%25B0%2B%25D0%25B2%2B%25D0%25BC%25D0%25BE%25D1%2581%25D0%25BA%25D0%25B2%25D0%25B5%26hl%3Dru%26ct%3Dclnk&amp;sa=U&amp;ved=0ahUKEwieo8vUqdfaAhUhGZoKHePhBisQIAgZMAE&amp;usg=AOvVaw2EYNXoAN3xFc4Y8B1UEZPm\">&#1057;&#1086;&#1093;&#1088;&#1072;&#1085;&#1077;&#1085;&#1085;&#1072;&#1103; &#1082;&#1086;&#1087;&#1080;&#1103;</a></li><li class=\"mUpfKd\"><a class=\"imx0m\" href=\"/search?ie=UTF-8&amp;q=related:https://www.gismeteo.ru/weather-moscow-4368/+%D0%BF%D0%BE%D0%B3%D0%BE%D0%B4%D0%B0+%D0%B2+%D0%BC%D0%BE%D1%81%D0%BA%D0%B2%D0%B5&amp;tbo=1&amp;sa=X&amp;ved=0ahUKEwieo8vUqdfaAhUhGZoKHePhBisQHwgaMAE\">&#1055;&#1086;&#1093;&#1086;&#1078;&#1080;&#1077;</a></li></ul></div></div></div><span class=\"st\"><b>&#1055;&#1086;&#1075;&#1086;&#1076;&#1072; &#1074; &#1052;&#1086;&#1089;&#1082;&#1074;&#1077;</b> &#1085;&#1072; &#1089;&#1077;&#1075;&#1086;&#1076;&#1085;&#1103;, &#1090;&#1086;&#1095;&#1085;&#1099;&#1081; &#1087;&#1088;&#1086;&#1075;&#1085;&#1086;&#1079; &#1087;&#1086;&#1075;&#1086;&#1076;&#1099; &#1085;&#1072; &#1089;&#1077;&#1075;&#1086;&#1076;&#1085;&#1103; &#1076;&#1083;&#1103; <br>\\n&#1085;&#1072;&#1089;&#1077;&#1083;&#1077;&#1085;&#1085;&#1086;&#1075;&#1086; &#1087;&#1091;&#1085;&#1082;&#1090;&#1072; &#1052;&#1086;&#1089;&#1082;&#1074;&#1072;, &#1052;&#1086;&#1089;&#1082;&#1074;&#1072; (&#1075;&#1086;&#1088;&#1086;&#1076; &#1092;&#1077;&#1076;&#1077;&#1088;&#1072;&#1083;&#1100;&#1085;&#1086;&#1075;&#1086; &#1079;&#1085;&#1072;&#1095;&#1077;&#1085;&#1080;&#1103;), &#1056;&#1086;&#1089;&#1089;&#1080;&#1103;.</span><br></div><table class=\"slk\" style=\"border-collapse:collapse;margin-top:1px\" cellpadding=\"0\" cellspacing=\"0\"><tr class=\"mslg\"><td style=\"padding-left:23px;vertical-align:top\"><div class=\"sld\"><h3 class=\"r\"><a class=\"sla\" href=\"/url?q=https://www.gismeteo.ru/weather-moscow-4368/month/&amp;sa=U&amp;ved=0ahUKEwieo8vUqdfaAhUhGZoKHePhBisQjBAIHTAC&amp;usg=AOvVaw3W2X7PHcVDT_5HJKez-jUG\">&#1052;&#1077;&#1089;&#1103;&#1094;</a></h3><div class=\"s st\" style=\"width:220px;overflow:hidden\">&#1055;&#1086;&#1075;&#1086;&#1076;&#1072; &#1074; &#1052;&#1086;&#1089;&#1082;&#1074;&#1077; &#1085;&#1072; &#1084;&#1077;&#1089;&#1103;&#1094;, &#1087;&#1088;&#1086;&#1075;&#1085;&#1086;&#1079; &#1087;&#1086;&#1075;&#1086;&#1076;&#1099; &#1085;&#1072; 30 &#1076;&#1085;&#1077;&#1081; ...</div></div></td><td style=\"padding-left:7px;vertical-align:top\"><div class=\"sld\"><h3 class=\"r\"><a class=\"sla\" href=\"/url?q=https://www.gismeteo.ru/weather-moscow-4368/now/&amp;sa=U&amp;ved=0ahUKEwieo8vUqdfaAhUhGZoKHePhBisQjBAIHzAE&amp;usg=AOvVaw0A7JT6NI10IqL-zv3AlFNy\">&#1057;&#1077;&#1081;&#1095;&#1072;&#1089;</a></h3><div class=\"s st\" style=\"width:220px;overflow:hidden\">&#1055;&#1086;&#1075;&#1086;&#1076;&#1072; &#1074; &#1052;&#1086;&#1089;&#1082;&#1074;&#1077; &#1089;&#1077;&#1081;&#1095;&#1072;&#1089;, &#1090;&#1077;&#1082;&#1091;&#1097;&#1072;&#1103; &#1087;&#1086;&#1075;&#1086;&#1076;&#1072; &#1076;&#1083;&#1103; &#1085;&#1072;&#1089;&#1077;&#1083;&#1077;&#1085;&#1085;&#1086;&#1075;&#1086; ...</div></div></td></tr><tr class=\"mslg\"><td style=\"padding-left:23px;vertical-align:top\"><div class=\"sld\"><h3 class=\"r\"><a class=\"sla\" href=\"/url?q=https://www.gismeteo.ru/weather-moscow-4368/tomorrow/&amp;sa=U&amp;ved=0ahUKEwieo8vUqdfaAhUhGZoKHePhBisQjBAIITAD&amp;usg=AOvVaw3mrZmDpXVN2zLMktUjhh5P\">&#1047;&#1072;&#1074;&#1090;&#1088;&#1072;</a></h3><div class=\"s st\" style=\"width:220px;overflow:hidden\">&#1055;&#1086;&#1075;&#1086;&#1076;&#1072; &#1074; &#1052;&#1086;&#1089;&#1082;&#1074;&#1077; &#1085;&#1072; &#1079;&#1072;&#1074;&#1090;&#1088;&#1072;, &#1090;&#1086;&#1095;&#1085;&#1099;&#1081; &#1087;&#1088;&#1086;&#1075;&#1085;&#1086;&#1079; &#1087;&#1086;&#1075;&#1086;&#1076;&#1099; &#1085;&#1072; ...</div></div></td><td style=\"padding-left:7px;vertical-align:top\"><div class=\"sld\"><h3 class=\"r\"><a class=\"sla\" href=\"/url?q=https://www.gismeteo.ru/weather-moscow-4368/10-days/&amp;sa=U&amp;ved=0ahUKEwieo8vUqdfaAhUhGZoKHePhBisQjBAIIzAF&amp;usg=AOvVaw0bCsBg9nKqCPY6MbAO3sWQ\">&#1043;&#1086;&#1088;&#1086;&#1076; &#1092;&#1077;&#1076;&#1077;&#1088;&#1072;&#1083;&#1100;&#1085;&#1086;&#1075;&#1086; &#1079;&#1085;&#1072;&#1095;&#1077;&#1085;&#1080;&#1103;</a></h3><div class=\"s st\" style=\"width:220px;overflow:hidden\">&#1055;&#1086;&#1075;&#1086;&#1076;&#1072; &#1074; &#1052;&#1086;&#1089;&#1082;&#1074;&#1077; &#1085;&#1072; 10 &#1076;&#1085;&#1077;&#1081;, &#1087;&#1088;&#1086;&#1075;&#1085;&#1086;&#1079; &#1087;&#1086;&#1075;&#1086;&#1076;&#1099; &#1085;&#1072; 10 &#1076;&#1085;&#1077;&#1081; ...</div></div></td></tr><tr><td colspan=\"2\" style=\"padding-left:28px;vertical-align:top\"><div style=\"padding-top:5px\"><a class=\"fl\" href=\"/search?ie=UTF-8&amp;q=+site:gismeteo.ru+%D0%BF%D0%BE%D0%B3%D0%BE%D0%B4%D0%B0+%D0%B2+%D0%BC%D0%BE%D1%81%D0%BA%D0%B2%D0%B5&amp;sa=X&amp;ved=0ahUKEwieo8vUqdfaAhUhGZoKHePhBisQrAMIJA\">&#1044;&#1088;&#1091;&#1075;&#1080;&#1077; &#1088;&#1077;&#1079;&#1091;&#1083;&#1100;&#1090;&#1072;&#1090;&#1099; &#1089; &#1089;&#1072;&#1081;&#1090;&#1072; gismeteo.ru\\xa0»</a></div></td></tr></table></div><div class=\"g\"><div><h3 class=\"r\"><a href=\"/search?q=%D0%BF%D0%BE%D0%B3%D0%BE%D0%B4%D0%B0+%D0%B2+%D0%BC%D0%BE%D1%81%D0%BA%D0%B2%D0%B5&amp;ie=UTF-8&amp;prmd=ivns&amp;source=univ&amp;tbm=nws&amp;tbo=u&amp;sa=X&amp;ved=0ahUKEwieo8vUqdfaAhUhGZoKHePhBisQqAIIJg\">&#1053;&#1086;&#1074;&#1086;&#1089;&#1090;&#1080; &#1087;&#1086; &#1079;&#1072;&#1087;&#1088;&#1086;&#1089;&#1091; <b>&#1087;&#1086;&#1075;&#1086;&#1076;&#1072; &#1074; &#1084;&#1086;&#1089;&#1082;&#1074;&#1077;</b></a></h3><table class=\"ts\"><tr><td valign=\"top\" style=\"font-size:78%;line-height:normal;padding:7px 8px 0 0;text-align:center\"><a href=\"/url?q=https://www.kp.ru/online/news/3096507/&amp;sa=U&amp;ved=0ahUKEwieo8vUqdfaAhUhGZoKHePhBisQpwIIJw&amp;usg=AOvVaw0N2iHxw_OT4Z8ONJs_awuV\"><img class=\"th\" height=\"100\" src=\"https://encrypted-tbn0.gstatic.com/images?q=tbn:ANd9GcSODFX4PLOB5wmXKkQu71yQ0ERzmd-TmJ7ythwr8k0SBi__6YvKerusHv1bX5CCDgTLmQ\" width=\"100\" border=\"1\"><br></a><span class=\"L4Zeue ybhkme\">&#1050;&#1086;&#1084;&#1089;&#1086;&#1084;&#1086;&#1083;&#1100;&#1089;&#1082;&#1072;&#1103; &#1087;&#1088;&#1072;&#1074;&#1076;&#1072;</span></td><td valign=\"top\"><div style=\"margin-top:5px\"><a href=\"/url?q=https://www.kp.ru/online/news/3096507/&amp;sa=U&amp;ved=0ahUKEwieo8vUqdfaAhUhGZoKHePhBisQqQIIKTAG&amp;usg=AOvVaw3YuzjSv3JtwXVviwqu-xFV\">&#1055;&#1086;&#1075;&#1086;&#1076;&#1072; &#1074; &#1052;&#1086;&#1089;&#1082;&#1074;&#1077; &#1085;&#1072; 26 &#1072;&#1087;&#1088;&#1077;&#1083;&#1103; 2018 &#1075;&#1086;&#1076;&#1072;: &#1074; &#1089;&#1090;&#1086;&#1083;&#1080;&#1094;&#1077; &#1086;&#1078;&#1080;&#1076;&#1072;&#1102;&#1090;&#1089;&#1103; &#1076;&#1086;&#1078;&#1076;&#1100; &#1080; &#1089;&#1080;&#1083;&#1100;&#1085;&#1099;&#1081; &#1074;&#1077;&#1090;&#1077;&#1088;</a><div style=\"padding-top:2px\"><cite>&#1050;&#1086;&#1084;&#1089;&#1086;&#1084;&#1086;&#1083;&#1100;&#1089;&#1082;&#1072;&#1103; &#1087;&#1088;&#1072;&#1074;&#1076;&#1072;</cite><span class=\"f\"> - <span class=\"nobr\">3 &#1095;. &#1085;&#1072;&#1079;&#1072;&#1076;</span><span class=\"nobr\"></span></span></div><div class=\"j\" style=\"margin-top:1px;margin-bottom:4px\"><span class=\"st\">&#1057;&#1080;&#1085;&#1086;&#1087;&#1090;&#1080;&#1082;&#1080; &#1087;&#1086;&#1076;&#1077;&#1083;&#1080;&#1083;&#1080;&#1089;&#1100; &#1087;&#1088;&#1086;&#1075;&#1085;&#1086;&#1079;&#1086;&#1084; <b>&#1087;&#1086;&#1075;&#1086;&#1076;&#1099; &#1074; &#1052;&#1086;&#1089;&#1082;&#1074;&#1077;</b> &#1085;&#1072; 26 &#1072;&#1087;&#1088;&#1077;&#1083;&#1103; 2018 &#1075;&#1086;&#1076;&#1072;. <br>\\n&#1050;&#1072;&#1082; &#1080; &#1086;&#1073;&#1077;&#1097;&#1072;&#1083;&#1080; &#1089;&#1087;&#1077;&#1094;&#1080;&#1072;&#1083;&#1080;&#1089;&#1090;&#1099;, &#1087;&#1086;&#1089;&#1083;&#1077; &#1089;&#1080;&#1083;&#1100;&#1085;&#1086;&#1075;&#1086; &#1091;&#1088;&#1072;&#1075;&#1072;&#1085;&#1072; &#1080; &#1085;&#1086;&#1095;&#1085;&#1099;&#1093; &#1079;&#1072;&#1084;&#1086;&#1088;&#1086;&#1079;&#1082;&#1086;&#1074; <br>\\n&#1090;&#1077;&#1084;&#1087;&#1077;&#1088;&#1072;&#1090;&#1091;&#1088;&#1072; &#1074;&#1086;&#1079;&#1076;&#1091;&#1093;&#1072; &#1074; &#1089;&#1090;&#1086;&#1083;&#1080;&#1094;&#1077; &#1085;&#1072;&#1095;&#1072;&#1083;&#1072; &#1087;&#1086;&#1089;&#1090;&#1077;&#1087;&#1077;&#1085;&#1085;&#1086; &#1087;&#1086;&#1074;&#1099;&#1096;&#1072;&#1090;&#1100;&#1089;&#1103;. &#1058;&#1072;&#1082;, &#1074; <br>\\n&#1095;&#1077;&#1090;&#1074;&#1077;&#1088;&#1075; &#1074; &#1075;&#1086;&#1088;&#1086;&#1076;&#1077; &#1087;&#1086;&#1090;&#1077;&#1087;&#1083;&#1077;&#1077;&#1090; &#1076;&#1086; +12&#8230;+14 &#1075;&#1088;&#1072;&#1076;&#1091;&#1089;&#1086;&#1074;. &#1052;&#1077;&#1078;&#1076;&#1091; &#1090;&#1077;&#1084; &#1074;&nbsp;...</span></div></div><div style=\"margin-top:4px\"><a href=\"/url?q=https://www.gismeteo.ru/news/klimat/27275-v-moskve-leto-nachnetsya-na-mayskie/&amp;sa=U&amp;ved=0ahUKEwieo8vUqdfaAhUhGZoKHePhBisQqQIIKzAH&amp;usg=AOvVaw078CX79zaEbBmYO5DgcekS\">&#1042; &#1052;&#1086;&#1089;&#1082;&#1074;&#1077; «&#1083;&#1077;&#1090;&#1086;» &#1085;&#1072;&#1095;&#1085;&#1077;&#1090;&#1089;&#1103; &#1085;&#1072; &#1084;&#1072;&#1081;&#1089;&#1082;&#1080;&#1077; - 25 &#1072;&#1087;&#1088;&#1077;&#1083;&#1103; 2018 | &#1050;&#1083;&#1080;&#1084;&#1072;&#1090; | &#1053;&#1086;&#1074;&#1086;&#1089;&#1090;&#1080; &#1087;&#1086;&#1075;&#1086;&#1076;&#1099;.</a><div style=\"padding-top:2px\"><cite>GISMETEO.&#1053;&#1086;&#1074;&#1086;&#1089;&#1090;&#1080;</cite><span class=\"f\"> - <span class=\"nobr\">21 &#1095;. &#1085;&#1072;&#1079;&#1072;&#1076;</span><span class=\"nobr\"></span></span></div></div><div style=\"margin-top:4px\"><a href=\"/url?q=https://www.gazeta.ru/social/2018/04/25/11728459.shtml&amp;sa=U&amp;ved=0ahUKEwieo8vUqdfaAhUhGZoKHePhBisQqQIILTAI&amp;usg=AOvVaw0DtfrjtlE087x4NHPNEkjO\">«&#1046;&#1077;&#1083;&#1090;&#1099;&#1081;» &#1091;&#1088;&#1086;&#1074;&#1077;&#1085;&#1100; &#1086;&#1087;&#1072;&#1089;&#1085;&#1086;&#1089;&#1090;&#1080; &#1086;&#1073;&#1098;&#1103;&#1074;&#1083;&#1077;&#1085; &#1074; &#1052;&#1086;&#1089;&#1082;&#1074;&#1077; 26 &#1072;&#1087;&#1088;&#1077;&#1083;&#1103; &#1080;&#1079;-&#1079;&#1072; &#1074;&#1077;&#1090;&#1088;&#1072;</a><div style=\"padding-top:2px\"><cite>&#1043;&#1072;&#1079;&#1077;&#1090;&#1072;.Ru</cite><span class=\"f\"> - <span class=\"nobr\">15 &#1095;. &#1085;&#1072;&#1079;&#1072;&#1076;</span><span class=\"nobr\"></span></span></div></div></td></tr></table></div></div><div class=\"g\"><h3 class=\"r\"><a href=\"/url?q=https://www.gismeteo.ru/weather-moscow-balchug-12905/&amp;sa=U&amp;ved=0ahUKEwieo8vUqdfaAhUhGZoKHePhBisQFggvMAk&amp;usg=AOvVaw35iOdCIhXGmpB-8zXkhxgs\">GISMETEO: <b>&#1087;&#1086;&#1075;&#1086;&#1076;&#1072; &#1074; &#1052;&#1086;&#1089;&#1082;&#1074;&#1077;</b> (&#1041;&#1072;&#1083;&#1095;&#1091;&#1075;&#1077;) &#1089;&#1077;&#1075;&#1086;&#1076;&#1085;&#1103; &#8213; &#1087;&#1088;&#1086;&#1075;&#1085;&#1086;&#1079; &#1087;&#1086;&#1075;&#1086;&#1076;&#1099; ...</a></h3><div class=\"s\"><div class=\"hJND5c\" style=\"margin-bottom:2px\"><cite>https://www.gismeteo.ru/<b>weather</b>-moscow-balchug-12905/</cite><div class=\"Pj9hGd\"><div style=\"display:inline\" onclick=\"google.sham(this);\" aria-expanded=\"false\" aria-haspopup=\"true\" tabindex=\"0\" data-ved=\"0ahUKEwieo8vUqdfaAhUhGZoKHePhBisQ7B0IMDAJ\"><span class=\"CiacGf\"></span></div><div style=\"display:none\" class=\"am-dropdown-menu\" role=\"menu\" tabindex=\"-1\"><ul><li class=\"mUpfKd\"><a class=\"imx0m\" href=\"/url?q=http://webcache.googleusercontent.com/search%3Fq%3Dcache:2-Bql6hmTNoJ:https://www.gismeteo.ru/weather-moscow-balchug-12905/%252B%25D0%25BF%25D0%25BE%25D0%25B3%25D0%25BE%25D0%25B4%25D0%25B0%2B%25D0%25B2%2B%25D0%25BC%25D0%25BE%25D1%2581%25D0%25BA%25D0%25B2%25D0%25B5%26hl%3Dru%26ct%3Dclnk&amp;sa=U&amp;ved=0ahUKEwieo8vUqdfaAhUhGZoKHePhBisQIAgyMAk&amp;usg=AOvVaw2z-6-E1p9bxhoA_HE0KbI6\">&#1057;&#1086;&#1093;&#1088;&#1072;&#1085;&#1077;&#1085;&#1085;&#1072;&#1103; &#1082;&#1086;&#1087;&#1080;&#1103;</a></li><li class=\"mUpfKd\"><a class=\"imx0m\" href=\"/search?ie=UTF-8&amp;q=related:https://www.gismeteo.ru/weather-moscow-balchug-12905/+%D0%BF%D0%BE%D0%B3%D0%BE%D0%B4%D0%B0+%D0%B2+%D0%BC%D0%BE%D1%81%D0%BA%D0%B2%D0%B5&amp;tbo=1&amp;sa=X&amp;ved=0ahUKEwieo8vUqdfaAhUhGZoKHePhBisQHwgzMAk\">&#1055;&#1086;&#1093;&#1086;&#1078;&#1080;&#1077;</a></li></ul></div></div></div><span class=\"st\"><b>&#1055;&#1086;&#1075;&#1086;&#1076;&#1072; &#1074; &#1052;&#1086;&#1089;&#1082;&#1074;&#1077;</b> (&#1041;&#1072;&#1083;&#1095;&#1091;&#1075;&#1077;) &#1085;&#1072; &#1089;&#1077;&#1075;&#1086;&#1076;&#1085;&#1103;, &#1090;&#1086;&#1095;&#1085;&#1099;&#1081; &#1087;&#1088;&#1086;&#1075;&#1085;&#1086;&#1079; &#1087;&#1086;&#1075;&#1086;&#1076;&#1099; &#1085;&#1072; &#1089;&#1077;&#1075;&#1086;&#1076;&#1085;&#1103; &#1076;&#1083;&#1103; <br>\\n&#1085;&#1072;&#1089;&#1077;&#1083;&#1077;&#1085;&#1085;&#1086;&#1075;&#1086; &#1087;&#1091;&#1085;&#1082;&#1090;&#1072; &#1052;&#1086;&#1089;&#1082;&#1074;&#1072; (&#1041;&#1072;&#1083;&#1095;&#1091;&#1075;), &#1052;&#1086;&#1089;&#1082;&#1074;&#1072; (&#1075;&#1086;&#1088;&#1086;&#1076; &#1092;&#1077;&#1076;&#1077;&#1088;&#1072;&#1083;&#1100;&#1085;&#1086;&#1075;&#1086; &#1079;&#1085;&#1072;&#1095;&#1077;&#1085;&#1080;&#1103;)<br>\\n, &#1056;&#1086;&#1089;&#1089;&#1080;&#1103;.</span><br></div></div><div class=\"g\"><h3 class=\"r\"><a href=\"/url?q=https://yandex.ru/pogoda/moscow&amp;sa=U&amp;ved=0ahUKEwieo8vUqdfaAhUhGZoKHePhBisQFgg1MAo&amp;usg=AOvVaw1pMiiZbp4vzs0MLXRwRFOM\">&#1055;&#1088;&#1086;&#1075;&#1085;&#1086;&#1079; <b>&#1087;&#1086;&#1075;&#1086;&#1076;&#1099; &#1074; &#1052;&#1086;&#1089;&#1082;&#1074;&#1077;</b> &#1085;&#1072; 10 &#1076;&#1085;&#1077;&#1081; &#8212; &#1071;&#1085;&#1076;&#1077;&#1082;&#1089;.&#1055;&#1086;&#1075;&#1086;&#1076;&#1072;</a></h3><div class=\"s\"><div class=\"hJND5c\" style=\"margin-bottom:2px\"><cite>https://yandex.ru/<b>pogoda</b>/moscow</cite><div class=\"Pj9hGd\"><div style=\"display:inline\" onclick=\"google.sham(this);\" aria-expanded=\"false\" aria-haspopup=\"true\" tabindex=\"0\" data-ved=\"0ahUKEwieo8vUqdfaAhUhGZoKHePhBisQ7B0INjAK\"><span class=\"CiacGf\"></span></div><div style=\"display:none\" class=\"am-dropdown-menu\" role=\"menu\" tabindex=\"-1\"><ul><li class=\"mUpfKd\"><a class=\"imx0m\" href=\"/url?q=http://webcache.googleusercontent.com/search%3Fq%3Dcache:O6bjrZdii3AJ:https://yandex.ru/pogoda/moscow%252B%25D0%25BF%25D0%25BE%25D0%25B3%25D0%25BE%25D0%25B4%25D0%25B0%2B%25D0%25B2%2B%25D0%25BC%25D0%25BE%25D1%2581%25D0%25BA%25D0%25B2%25D0%25B5%26hl%3Dru%26ct%3Dclnk&amp;sa=U&amp;ved=0ahUKEwieo8vUqdfaAhUhGZoKHePhBisQIAg4MAo&amp;usg=AOvVaw3rUe8mVzTi0kRHAb5x7Sy4\">&#1057;&#1086;&#1093;&#1088;&#1072;&#1085;&#1077;&#1085;&#1085;&#1072;&#1103; &#1082;&#1086;&#1087;&#1080;&#1103;</a></li><li class=\"mUpfKd\"><a class=\"imx0m\" href=\"/search?ie=UTF-8&amp;q=related:https://yandex.ru/pogoda/moscow+%D0%BF%D0%BE%D0%B3%D0%BE%D0%B4%D0%B0+%D0%B2+%D0%BC%D0%BE%D1%81%D0%BA%D0%B2%D0%B5&amp;tbo=1&amp;sa=X&amp;ved=0ahUKEwieo8vUqdfaAhUhGZoKHePhBisQHwg5MAo\">&#1055;&#1086;&#1093;&#1086;&#1078;&#1080;&#1077;</a></li></ul></div></div></div><span class=\"st\">&#1055;&#1086;&#1076;&#1088;&#1086;&#1073;&#1085;&#1099;&#1081; &#1087;&#1088;&#1086;&#1075;&#1085;&#1086;&#1079; &#1087;&#1086;&#1075;&#1086;&#1076;&#1099; &#1076;&#1083;&#1103; &#1052;&#1086;&#1089;&#1082;&#1074;&#1099; &#1085;&#1072; &#1089;&#1077;&#1075;&#1086;&#1076;&#1085;&#1103;, &#1079;&#1072;&#1074;&#1090;&#1088;&#1072;, &#1085;&#1077;&#1076;&#1077;&#1083;&#1102;, 10 &#1076;&#1085;&#1077;&#1081;, <br>\\n&#1084;&#1077;&#1089;&#1103;&#1094; &#1085;&#1072; &#1071;&#1085;&#1076;&#1077;&#1082;&#1089;.&#1055;&#1086;&#1075;&#1086;&#1076;&#1077;. &#1055;&#1088;&#1086;&#1075;&#1085;&#1086;&#1079; <b>&#1087;&#1086;&#1075;&#1086;&#1076;&#1099; &#1074; &#1052;&#1086;&#1089;&#1082;&#1074;&#1077;</b> &#1089; &#1090;&#1086;&#1095;&#1085;&#1086;&#1089;&#1090;&#1100;&#1102; &#1076;&#1086; &#1088;&#1072;&#1081;&#1086;&#1085;&#1072;. &#9730; <br>\\n&#1050;&#1072;&#1088;&#1090;&#1072; &#1086;&#1089;&#1072;&#1076;&#1082;&#1086;&#1074; &#1086;&#1085;&#1083;&#1072;&#1081;&#1085; &#1080; &#1076;&#1088;&#1091;&#1075;&#1080;&#1077; &#1087;&#1086;&#1075;&#1086;&#1076;&#1085;&#1099;&#1077; &#1082;&#1072;&#1088;&#1090;&#1099;. &#1058;&#1077;&#1084;&#1087;&#1077;&#1088;&#1072;&#1090;&#1091;&#1088;&#1072; &#1074;&#1086;&#1079;&#1076;&#1091;&#1093;&#1072; &#1080; <br>\\n&#1074;&#1086;&#1076;&#1099;, &#1076;&#1072;&#1074;&#1083;&#1077;&#1085;&#1080;&#1077; &#1080; &#1074;&#1083;&#1072;&#1078;&#1085;&#1086;&#1089;&#1090;&#1100;, &#1089;&#1082;&#1086;&#1088;&#1086;&#1089;&#1090;&#1100; &#1074;&#1077;&#1090;&#1088;&#1072;, &#1084;&#1072;&#1075;&#1085;&#1080;&#1090;&#1085;&#1086;&#1077; &#1087;&#1086;&#1083;&#1077; &#1080; &#1059;&#1060;-&#1080;&#1085;&#1076;&#1077;&#1082;&#1089;.</span><br></div></div><div class=\"g\"><h3 class=\"r\"><a href=\"/url?q=https://weather.rambler.ru/v-moskve/14-days/&amp;sa=U&amp;ved=0ahUKEwieo8vUqdfaAhUhGZoKHePhBisQFgg7MAs&amp;usg=AOvVaw2mJvlCrnNuyoDzFU34VN0z\"><b>&#1055;&#1086;&#1075;&#1086;&#1076;&#1072; &#1074; &#1052;&#1086;&#1089;&#1082;&#1074;&#1077;</b> &#1085;&#1072; 14 &#1076;&#1085;&#1077;&#1081; &#8211; &#1090;&#1086;&#1095;&#1085;&#1099;&#1081; &#1087;&#1088;&#1086;&#1075;&#1085;&#1086;&#1079; &#1087;&#1086;&#1075;&#1086;&#1076;&#1099; &#1085;&#1072; &#1076;&#1074;&#1077; ...</a></h3><div class=\"s\"><div class=\"hJND5c\" style=\"margin-bottom:2px\"><cite>https://<b>weather</b>.rambler.ru/v-moskve/14-days/</cite><div class=\"Pj9hGd\"><div style=\"display:inline\" onclick=\"google.sham(this);\" aria-expanded=\"false\" aria-haspopup=\"true\" tabindex=\"0\" data-ved=\"0ahUKEwieo8vUqdfaAhUhGZoKHePhBisQ7B0IPDAL\"><span class=\"CiacGf\"></span></div><div style=\"display:none\" class=\"am-dropdown-menu\" role=\"menu\" tabindex=\"-1\"><ul><li class=\"mUpfKd\"><a class=\"imx0m\" href=\"/url?q=http://webcache.googleusercontent.com/search%3Fq%3Dcache:pXQUF7wHu6EJ:https://weather.rambler.ru/v-moskve/14-days/%252B%25D0%25BF%25D0%25BE%25D0%25B3%25D0%25BE%25D0%25B4%25D0%25B0%2B%25D0%25B2%2B%25D0%25BC%25D0%25BE%25D1%2581%25D0%25BA%25D0%25B2%25D0%25B5%26hl%3Dru%26ct%3Dclnk&amp;sa=U&amp;ved=0ahUKEwieo8vUqdfaAhUhGZoKHePhBisQIAg-MAs&amp;usg=AOvVaw1FdNzx7lR06GcZ0WRg5HOF\">&#1057;&#1086;&#1093;&#1088;&#1072;&#1085;&#1077;&#1085;&#1085;&#1072;&#1103; &#1082;&#1086;&#1087;&#1080;&#1103;</a></li><li class=\"mUpfKd\"><a class=\"imx0m\" href=\"/search?ie=UTF-8&amp;q=related:https://weather.rambler.ru/v-moskve/14-days/+%D0%BF%D0%BE%D0%B3%D0%BE%D0%B4%D0%B0+%D0%B2+%D0%BC%D0%BE%D1%81%D0%BA%D0%B2%D0%B5&amp;tbo=1&amp;sa=X&amp;ved=0ahUKEwieo8vUqdfaAhUhGZoKHePhBisQHwg_MAs\">&#1055;&#1086;&#1093;&#1086;&#1078;&#1080;&#1077;</a></li></ul></div></div></div><span class=\"st\">&#1055;&#1086;&#1076;&#1088;&#1086;&#1073;&#1085;&#1099;&#1081; &#1087;&#1088;&#1086;&#1075;&#1085;&#1086;&#1079; <b>&#1087;&#1086;&#1075;&#1086;&#1076;&#1099; &#1074; &#1052;&#1086;&#1089;&#1082;&#1074;&#1077;</b> &#1085;&#1072; 14 &#1076;&#1085;&#1077;&#1081;: &#1086;&#1089;&#1072;&#1076;&#1082;&#1080;, &#1072;&#1090;&#1084;&#1086;&#1089;&#1092;&#1077;&#1088;&#1085;&#1086;&#1077; <br>\\n&#1076;&#1072;&#1074;&#1083;&#1077;&#1085;&#1080;&#1077;, &#1091;&#1088;&#1086;&#1074;&#1077;&#1085;&#1100; &#1074;&#1083;&#1072;&#1078;&#1085;&#1086;&#1089;&#1090;&#1080;, &#1089;&#1082;&#1086;&#1088;&#1086;&#1089;&#1090;&#1100; &#1080; &#1085;&#1072;&#1087;&#1088;&#1072;&#1074;&#1083;&#1077;&#1085;&#1080;&#1077; &#1074;&#1077;&#1090;&#1088;&#1072;, &#1075;&#1077;&#1086;&#1084;&#1072;&#1075;&#1085;&#1080;&#1090;&#1085;&#1072;&#1103; <br>\\n&#1086;&#1073;&#1089;&#1090;&#1072;&#1085;&#1086;&#1074;&#1082;&#1072;. <b>&#1055;&#1086;&#1075;&#1086;&#1076;&#1072; &#1074; &#1052;&#1086;&#1089;&#1082;&#1074;&#1077;</b> &#1076;&#1074;&#1077; &#1085;&#1077;&#1076;&#1077;&#1083;&#1080; &#1080; &#1074;&#1099;&#1093;&#1086;&#1076;&#1085;&#1099;&#1077;.</span><br></div></div><div class=\"g\"><h3 class=\"r\"><a href=\"/url?q=https://sinoptik.com.ru/%25D0%25BF%25D0%25BE%25D0%25B3%25D0%25BE%25D0%25B4%25D0%25B0-%25D0%25BC%25D0%25BE%25D1%2581%25D0%25BA%25D0%25B2%25D0%25B0&amp;sa=U&amp;ved=0ahUKEwieo8vUqdfaAhUhGZoKHePhBisQFghBMAw&amp;usg=AOvVaw2Z8e8HLQ_6zJW-h1Uk36K_\"><b>&#1055;&#1086;&#1075;&#1086;&#1076;&#1072; &#1074; &#1052;&#1086;&#1089;&#1082;&#1074;&#1077;</b>. &#1055;&#1088;&#1086;&#1075;&#1085;&#1086;&#1079; <b>&#1087;&#1086;&#1075;&#1086;&#1076;&#1099; &#1074; &#1052;&#1086;&#1089;&#1082;&#1074;&#1077;</b> &#1085;&#1072; &#1089;&#1077;&#1075;&#1086;&#1076;&#1085;&#1103;, &#1079;&#1072;&#1074;&#1090;&#1088;&#1072; &#1080; ...</a></h3><div class=\"s\"><div class=\"hJND5c\" style=\"margin-bottom:2px\"><cite>https://sinoptik.com.ru/<b>&#1087;&#1086;&#1075;&#1086;&#1076;&#1072;</b>-<b>&#1084;&#1086;&#1089;&#1082;&#1074;&#1072;</b></cite><div class=\"Pj9hGd\"><div style=\"display:inline\" onclick=\"google.sham(this);\" aria-expanded=\"false\" aria-haspopup=\"true\" tabindex=\"0\" data-ved=\"0ahUKEwieo8vUqdfaAhUhGZoKHePhBisQ7B0IQjAM\"><span class=\"CiacGf\"></span></div><div style=\"display:none\" class=\"am-dropdown-menu\" role=\"menu\" tabindex=\"-1\"><ul><li class=\"mUpfKd\"><a class=\"imx0m\" href=\"/url?q=http://webcache.googleusercontent.com/search%3Fq%3Dcache:9KTl9Rq3R_AJ:https://sinoptik.com.ru/%2525D0%2525BF%2525D0%2525BE%2525D0%2525B3%2525D0%2525BE%2525D0%2525B4%2525D0%2525B0-%2525D0%2525BC%2525D0%2525BE%2525D1%252581%2525D0%2525BA%2525D0%2525B2%2525D0%2525B0%252B%25D0%25BF%25D0%25BE%25D0%25B3%25D0%25BE%25D0%25B4%25D0%25B0%2B%25D0%25B2%2B%25D0%25BC%25D0%25BE%25D1%2581%25D0%25BA%25D0%25B2%25D0%25B5%26hl%3Dru%26ct%3Dclnk&amp;sa=U&amp;ved=0ahUKEwieo8vUqdfaAhUhGZoKHePhBisQIAhEMAw&amp;usg=AOvVaw1mtHD_S9sRxsC00ngwH9oP\">&#1057;&#1086;&#1093;&#1088;&#1072;&#1085;&#1077;&#1085;&#1085;&#1072;&#1103; &#1082;&#1086;&#1087;&#1080;&#1103;</a></li><li class=\"mUpfKd\"><a class=\"imx0m\" href=\"/search?ie=UTF-8&amp;q=related:https://sinoptik.com.ru/%25D0%25BF%25D0%25BE%25D0%25B3%25D0%25BE%25D0%25B4%25D0%25B0-%25D0%25BC%25D0%25BE%25D1%2581%25D0%25BA%25D0%25B2%25D0%25B0+%D0%BF%D0%BE%D0%B3%D0%BE%D0%B4%D0%B0+%D0%B2+%D0%BC%D0%BE%D1%81%D0%BA%D0%B2%D0%B5&amp;tbo=1&amp;sa=X&amp;ved=0ahUKEwieo8vUqdfaAhUhGZoKHePhBisQHwhFMAw\">&#1055;&#1086;&#1093;&#1086;&#1078;&#1080;&#1077;</a></li></ul></div></div></div><span class=\"st\">SINOPTIK.COM.RU: <b>&#1055;&#1086;&#1075;&#1086;&#1076;&#1072; &#1074; &#1052;&#1086;&#1089;&#1082;&#1074;&#1077;</b> &#1085;&#1072; &#1089;&#1077;&#1075;&#1086;&#1076;&#1085;&#1103;, &#1079;&#1072;&#1074;&#1090;&#1088;&#1072; &#1080; &#1085;&#1077;&#1076;&#1077;&#1083;&#1102;. &#1058;&#1086;&#1095;&#1085;&#1099;&#1081; <br>\\n&#1087;&#1088;&#1086;&#1075;&#1085;&#1086;&#1079; <b>&#1087;&#1086;&#1075;&#1086;&#1076;&#1099; &#1074; &#1052;&#1086;&#1089;&#1082;&#1074;&#1077;</b>. &#1044;&#1072;&#1074;&#1083;&#1077;&#1085;&#1080;&#1077;, &#1074;&#1083;&#1072;&#1078;&#1085;&#1086;&#1089;&#1090;&#1100;, &#1086;&#1089;&#1072;&#1076;&#1082;&#1080; &#1074; &#1052;&#1086;&#1089;&#1082;&#1074;&#1077;, &#1052;&#1086;&#1089;&#1082;&#1086;&#1074;&#1089;&#1082;&#1072;&#1103; <br>\\n&#1072;&#1075;&#1083;&#1086;&#1084;&#1077;&#1088;&#1072;&#1094;&#1080;&#1103;, &#1057;&#1090;&#1086;&#1083;&#1080;&#1094;&#1072; &#1056;&#1086;&#1089;&#1089;&#1080;&#1080; &#1085;&#1072; &#1074;&#1099;&#1093;&#1086;&#1076;&#1085;&#1099;&#1077;.</span><br></div></div><div class=\"g\"><h3 class=\"r\"><a href=\"/url?q=https://www.gazeta.ru/social/2018/04/25/11728459.shtml&amp;sa=U&amp;ved=0ahUKEwieo8vUqdfaAhUhGZoKHePhBisQFghHMA0&amp;usg=AOvVaw347QbRBwrm1BSS2y843ujL\">«&#1046;&#1077;&#1083;&#1090;&#1099;&#1081;» &#1091;&#1088;&#1086;&#1074;&#1077;&#1085;&#1100; &#1086;&#1087;&#1072;&#1089;&#1085;&#1086;&#1089;&#1090;&#1080; &#1086;&#1073;&#1098;&#1103;&#1074;&#1083;&#1077;&#1085; &#1074; <b>&#1052;&#1086;&#1089;&#1082;&#1074;&#1077;</b> 26 &#1072;&#1087;&#1088;&#1077;&#1083;&#1103; &#1080;&#1079; ...</a></h3><div class=\"s\"><div class=\"hJND5c\" style=\"margin-bottom:2px\"><cite>https://www.gazeta.ru/social/2018/04/.../11728459.shtml</cite><div class=\"Pj9hGd\"><div style=\"display:inline\" onclick=\"google.sham(this);\" aria-expanded=\"false\" aria-haspopup=\"true\" tabindex=\"0\" data-ved=\"0ahUKEwieo8vUqdfaAhUhGZoKHePhBisQ7B0ISDAN\"><span class=\"CiacGf\"></span></div><div style=\"display:none\" class=\"am-dropdown-menu\" role=\"menu\" tabindex=\"-1\"><ul><li class=\"mUpfKd\"><a class=\"imx0m\" href=\"/url?q=http://webcache.googleusercontent.com/search%3Fq%3Dcache:JFj8_aFg0Z8J:https://www.gazeta.ru/social/2018/04/25/11728459.shtml%252B%25D0%25BF%25D0%25BE%25D0%25B3%25D0%25BE%25D0%25B4%25D0%25B0%2B%25D0%25B2%2B%25D0%25BC%25D0%25BE%25D1%2581%25D0%25BA%25D0%25B2%25D0%25B5%26hl%3Dru%26ct%3Dclnk&amp;sa=U&amp;ved=0ahUKEwieo8vUqdfaAhUhGZoKHePhBisQIAhKMA0&amp;usg=AOvVaw23D2Si8fruxDE5X-Gqe3hl\">&#1057;&#1086;&#1093;&#1088;&#1072;&#1085;&#1077;&#1085;&#1085;&#1072;&#1103; &#1082;&#1086;&#1087;&#1080;&#1103;</a></li></ul></div></div></div><span class=\"st\">15 &#1095;. &#1085;&#1072;&#1079;&#1072;&#1076; <b>...</b> &#1042; &#1089;&#1091;&#1073;&#1073;&#1086;&#1090;&#1091; &#1080;&#1079;-&#1079;&#1072; &#1096;&#1082;&#1074;&#1072;&#1083;&#1100;&#1085;&#1086;&#1075;&#1086; &#1074;&#1077;&#1090;&#1088;&#1072; &#1074; &#1052;&#1086;&#1089;&#1082;&#1074;&#1077; &#1087;&#1086;&#1075;&#1080;&#1073;&#1083;&#1072; 12-&#1083;&#1077;&#1090;&#1085;&#1103;&#1103; &#1076;&#1077;&#1074;&#1086;&#1095;&#1082;&#1072; &#1080; <br>\\n&#1087;&#1086;&#1089;&#1090;&#1088;&#1072;&#1076;&#1072;&#1083;&#1080; 17 &#1083;&#1102;&#1076;&#1077;&#1081;. ... &#1048;&#1085;&#1089;&#1090;&#1080;&#1090;&#1091;&#1090;&#1072; &#1075;&#1077;&#1086;&#1075;&#1088;&#1072;&#1092;&#1080;&#1080; &#1056;&#1040;&#1053; &#1042;&#1083;&#1072;&#1076;&#1080;&#1084;&#1080;&#1088; &#1057;&#1077;&#1084;&#1077;&#1085;&#1086;&#1074; <br>\\n&#1079;&#1072;&#1103;&#1074;&#1080;&#1083;, &#1095;&#1090;&#1086; &#1096;&#1090;&#1086;&#1088;&#1084; &#8212; &#1090;&#1080;&#1087;&#1080;&#1095;&#1085;&#1086;&#1077; &#1103;&#1074;&#1083;&#1077;&#1085;&#1080;&#1077; &#1076;&#1083;&#1103; &#1074;&#1077;&#1089;&#1077;&#1085;&#1085;&#1077;&#1081; <b>&#1087;&#1086;&#1075;&#1086;&#1076;&#1099; &#1074; &#1052;&#1086;&#1089;&#1082;&#1074;&#1077;</b>. &#1054;&#1085;&#1086; <br>\\n&#1089;&#1074;&#1103;&#1079;&#1072;&#1085;&#1086; &#1089; &#1074;&#1090;&#1086;&#1088;&#1078;&#1077;&#1085;&#1080;&#1103;&#1084;&#1080; &#1093;&#1086;&#1083;&#1086;&#1076;&#1085;&#1099;&#1093; &#1084;&#1072;&#1089;&#1089; &#1080; &#1094;&#1080;&#1082;&#1083;&#1086;&#1085;&#1080;&#1095;&#1077;&#1089;&#1082;&#1080;&#1084;&#1080; &#1092;&#1088;&#1086;&#1085;&#1090;&#1072;&#1084;&#1080;.</span><br></div></div><div class=\"g\"><h3 class=\"r\"><a href=\"/url?q=https://pogoda.mail.ru/prognoz/moskva/14dney/&amp;sa=U&amp;ved=0ahUKEwieo8vUqdfaAhUhGZoKHePhBisQFghNMA4&amp;usg=AOvVaw19HehVS0M7v0Ikwsn5ayL6\">&#1055;&#1088;&#1086;&#1075;&#1085;&#1086;&#1079; <b>&#1087;&#1086;&#1075;&#1086;&#1076;&#1099; &#1074; &#1052;&#1086;&#1089;&#1082;&#1074;&#1077;</b> &#1085;&#1072; 14 &#1076;&#1085;&#1077;&#1081; - &#1087;&#1086;&#1076;&#1088;&#1086;&#1073;&#1085;&#1099;&#1081; &#1087;&#1088;&#1086;&#1075;&#1085;&#1086;&#1079; ...</a></h3><div class=\"s\"><div class=\"hJND5c\" style=\"margin-bottom:2px\"><cite>https://<b>pogoda</b>.mail.ru/prognoz/<b>moskva</b>/14dney/</cite><div class=\"Pj9hGd\"><div style=\"display:inline\" onclick=\"google.sham(this);\" aria-expanded=\"false\" aria-haspopup=\"true\" tabindex=\"0\" data-ved=\"0ahUKEwieo8vUqdfaAhUhGZoKHePhBisQ7B0ITjAO\"><span class=\"CiacGf\"></span></div><div style=\"display:none\" class=\"am-dropdown-menu\" role=\"menu\" tabindex=\"-1\"><ul><li class=\"mUpfKd\"><a class=\"imx0m\" href=\"/url?q=http://webcache.googleusercontent.com/search%3Fq%3Dcache:S0KEzWLa0SsJ:https://pogoda.mail.ru/prognoz/moskva/14dney/%252B%25D0%25BF%25D0%25BE%25D0%25B3%25D0%25BE%25D0%25B4%25D0%25B0%2B%25D0%25B2%2B%25D0%25BC%25D0%25BE%25D1%2581%25D0%25BA%25D0%25B2%25D0%25B5%26hl%3Dru%26ct%3Dclnk&amp;sa=U&amp;ved=0ahUKEwieo8vUqdfaAhUhGZoKHePhBisQIAhQMA4&amp;usg=AOvVaw1f9c-I_gZJmkGYlSjMxele\">&#1057;&#1086;&#1093;&#1088;&#1072;&#1085;&#1077;&#1085;&#1085;&#1072;&#1103; &#1082;&#1086;&#1087;&#1080;&#1103;</a></li><li class=\"mUpfKd\"><a class=\"imx0m\" href=\"/search?ie=UTF-8&amp;q=related:https://pogoda.mail.ru/prognoz/moskva/14dney/+%D0%BF%D0%BE%D0%B3%D0%BE%D0%B4%D0%B0+%D0%B2+%D0%BC%D0%BE%D1%81%D0%BA%D0%B2%D0%B5&amp;tbo=1&amp;sa=X&amp;ved=0ahUKEwieo8vUqdfaAhUhGZoKHePhBisQHwhRMA4\">&#1055;&#1086;&#1093;&#1086;&#1078;&#1080;&#1077;</a></li></ul></div></div></div><span class=\"st\">&#1055;&#1088;&#1086;&#1075;&#1085;&#1086;&#1079; <b>&#1087;&#1086;&#1075;&#1086;&#1076;&#1099; &#1074; &#1052;&#1086;&#1089;&#1082;&#1074;&#1077;</b> &#1085;&#1072; 14 &#1076;&#1085;&#1077;&#1081; - &#1087;&#1086;&#1076;&#1088;&#1086;&#1073;&#1085;&#1099;&#1081; &#1087;&#1088;&#1086;&#1075;&#1085;&#1086;&#1079; <b>&#1087;&#1086;&#1075;&#1086;&#1076;&#1099; &#1074; &#1052;&#1086;&#1089;&#1082;&#1074;&#1077;</b> (<br>\\n&#1056;&#1086;&#1089;&#1089;&#1080;&#1103;, &#1052;&#1086;&#1089;&#1082;&#1086;&#1074;&#1089;&#1082;&#1072;&#1103; &#1086;&#1073;&#1083;&#1072;&#1089;&#1090;&#1100;) &#1085;&#1072; 2 &#1085;&#1077;&#1076;&#1077;&#1083;&#1080;: &#1090;&#1077;&#1084;&#1087;&#1077;&#1088;&#1072;&#1090;&#1091;&#1088;&#1072; &#1074;&#1086;&#1079;&#1076;&#1091;&#1093;&#1072;, &#1086;&#1073;&#1083;&#1072;&#1095;&#1085;&#1086;&#1089;&#1090;&#1100;, <br>\\n&#1086;&#1089;&#1072;&#1076;&#1082;&#1080;, &#1076;&#1072;&#1074;&#1083;&#1077;&#1085;&#1080;&#1077;, &#1074;&#1083;&#1072;&#1078;&#1085;&#1086;&#1089;&#1090;&#1100;.</span><br></div></div></ol></div></div></div><div style=\"clear:both;margin-bottom:17px;overflow:hidden\"><div style=\"font-size:16px;padding:0 8px 1px\">&#1047;&#1072;&#1087;&#1088;&#1086;&#1089;&#1099;, &#1087;&#1086;&#1093;&#1086;&#1078;&#1080;&#1077; &#1085;&#1072;: \"<b>&#1087;&#1086;&#1075;&#1086;&#1076;&#1072; &#1074; &#1084;&#1086;&#1089;&#1082;&#1074;&#1077;</b>\"</div><table border=\"0\" cellpadding=\"0\" cellspacing=\"0\"><tr><td valign=\"top\"><p class=\"aw5cc\" style=\"margin:3px 8px\"><a href=\"/search?ie=UTF-8&amp;q=%D0%BF%D0%BE%D0%B3%D0%BE%D0%B4%D0%B0+%D0%B2+%D0%BC%D0%BE%D1%81%D0%BA%D0%B2%D0%B5+%D0%B7%D0%B0%D0%B2%D1%82%D1%80%D0%B0&amp;sa=X&amp;ved=0ahUKEwieo8vUqdfaAhUhGZoKHePhBisQ1QIIVCgA\">&#1087;&#1086;&#1075;&#1086;&#1076;&#1072; &#1074; &#1084;&#1086;&#1089;&#1082;&#1074;&#1077; <b>&#1079;&#1072;&#1074;&#1090;&#1088;&#1072;</b></a></p></td><td valign=\"top\" style=\"padding-left:10px\"><p class=\"aw5cc\" style=\"margin:3px 8px\"><a href=\"/search?ie=UTF-8&amp;q=%D0%BF%D0%BE%D0%B3%D0%BE%D0%B4%D0%B0+%D0%B2+%D0%BC%D0%BE%D1%81%D0%BA%D0%B2%D0%B5+%D0%BD%D0%B0+5+%D0%B4%D0%BD%D0%B5%D0%B9&amp;sa=X&amp;ved=0ahUKEwieo8vUqdfaAhUhGZoKHePhBisQ1QIIVSgB\">&#1087;&#1086;&#1075;&#1086;&#1076;&#1072; &#1074; &#1084;&#1086;&#1089;&#1082;&#1074;&#1077; <b>&#1085;&#1072; 5 &#1076;&#1085;&#1077;&#1081;</b></a></p></td></tr><tr><td valign=\"top\"><p class=\"aw5cc\" style=\"margin:3px 8px\"><a href=\"/search?ie=UTF-8&amp;q=%D0%BF%D0%BE%D0%B3%D0%BE%D0%B4%D0%B0+%D0%B2+%D0%BC%D0%BE%D1%81%D0%BA%D0%B2%D0%B5+%D0%BD%D0%B0+%D0%BC%D0%B5%D1%81%D1%8F%D1%86&amp;sa=X&amp;ved=0ahUKEwieo8vUqdfaAhUhGZoKHePhBisQ1QIIVigC\">&#1087;&#1086;&#1075;&#1086;&#1076;&#1072; &#1074; &#1084;&#1086;&#1089;&#1082;&#1074;&#1077; <b>&#1085;&#1072; &#1084;&#1077;&#1089;&#1103;&#1094;</b></a></p></td><td valign=\"top\" style=\"padding-left:10px\"><p class=\"aw5cc\" style=\"margin:3px 8px\"><a href=\"/search?ie=UTF-8&amp;q=%D0%BF%D0%BE%D0%B3%D0%BE%D0%B4%D0%B0+%D0%B2+%D0%BC%D0%BE%D1%81%D0%BA%D0%B2%D0%B5+%D1%81%D0%B5%D0%B3%D0%BE%D0%B4%D0%BD%D1%8F&amp;sa=X&amp;ved=0ahUKEwieo8vUqdfaAhUhGZoKHePhBisQ1QIIVygD\">&#1087;&#1086;&#1075;&#1086;&#1076;&#1072; &#1074; &#1084;&#1086;&#1089;&#1082;&#1074;&#1077; <b>&#1089;&#1077;&#1075;&#1086;&#1076;&#1085;&#1103;</b></a></p></td></tr><tr><td valign=\"top\"><p class=\"aw5cc\" style=\"margin:3px 8px\"><a href=\"/search?ie=UTF-8&amp;q=%D0%BF%D0%BE%D0%B3%D0%BE%D0%B4%D0%B0+%D0%B2+%D0%BC%D0%BE%D1%81%D0%BA%D0%B2%D0%B5+%D1%8F%D0%BD%D0%B4%D0%B5%D0%BA%D1%81&amp;sa=X&amp;ved=0ahUKEwieo8vUqdfaAhUhGZoKHePhBisQ1QIIWCgE\">&#1087;&#1086;&#1075;&#1086;&#1076;&#1072; &#1074; &#1084;&#1086;&#1089;&#1082;&#1074;&#1077; <b>&#1103;&#1085;&#1076;&#1077;&#1082;&#1089;</b></a></p></td><td valign=\"top\" style=\"padding-left:10px\"><p class=\"aw5cc\" style=\"margin:3px 8px\"><a href=\"/search?ie=UTF-8&amp;q=%D0%BF%D0%BE%D0%B3%D0%BE%D0%B4%D0%B0+%D0%B2+%D0%BC%D0%BE%D1%81%D0%BA%D0%B2%D0%B5+%D0%BD%D0%B0+%D0%BD%D0%B5%D0%B4%D0%B5%D0%BB%D1%8E&amp;sa=X&amp;ved=0ahUKEwieo8vUqdfaAhUhGZoKHePhBisQ1QIIWSgF\">&#1087;&#1086;&#1075;&#1086;&#1076;&#1072; &#1074; &#1084;&#1086;&#1089;&#1082;&#1074;&#1077; <b>&#1085;&#1072; &#1085;&#1077;&#1076;&#1077;&#1083;&#1102;</b></a></p></td></tr><tr><td valign=\"top\"><p class=\"aw5cc\" style=\"margin:3px 8px\"><a href=\"/search?ie=UTF-8&amp;q=%D0%BF%D0%BE%D0%B3%D0%BE%D0%B4%D0%B0+%D0%B2+%D0%BC%D0%BE%D1%81%D0%BA%D0%B2%D0%B5+%D0%BD%D0%B0+14+%D0%B4%D0%BD%D0%B5%D0%B9&amp;sa=X&amp;ved=0ahUKEwieo8vUqdfaAhUhGZoKHePhBisQ1QIIWigG\">&#1087;&#1086;&#1075;&#1086;&#1076;&#1072; &#1074; &#1084;&#1086;&#1089;&#1082;&#1074;&#1077; <b>&#1085;&#1072; 14 &#1076;&#1085;&#1077;&#1081;</b></a></p></td><td valign=\"top\" style=\"padding-left:10px\"><p class=\"aw5cc\" style=\"margin:3px 8px\"><a href=\"/search?ie=UTF-8&amp;q=%D0%BF%D0%BE%D0%B3%D0%BE%D0%B4%D0%B0+%D0%B2+%D0%BC%D0%BE%D1%81%D0%BA%D0%B2%D0%B5+%D0%BD%D0%B0+%D0%BD%D0%B5%D0%B4%D0%B5%D0%BB%D1%8E+%D0%BE%D1%82+%D0%B3%D0%B8%D0%B4%D1%80%D0%BE%D0%BC%D0%B5%D1%82%D1%86%D0%B5%D0%BD%D1%82%D1%80%D0%B0&amp;sa=X&amp;ved=0ahUKEwieo8vUqdfaAhUhGZoKHePhBisQ1QIIWygH\">&#1087;&#1086;&#1075;&#1086;&#1076;&#1072; &#1074; &#1084;&#1086;&#1089;&#1082;&#1074;&#1077; <b>&#1085;&#1072; &#1085;&#1077;&#1076;&#1077;&#1083;&#1102; &#1086;&#1090; &#1075;&#1080;&#1076;&#1088;&#1086;&#1084;&#1077;&#1090;&#1094;&#1077;&#1085;&#1090;&#1088;&#1072;</b></a></p></td></tr></table></div></div><div id=\"foot\"><table align=\"center\" border=\"0\" cellpadding=\"0\" cellspacing=\"0\" id=\"nav\"><tr valign=\"top\"><td align=\"left\" class=\"b\"><span class=\"csb\" style=\"background-position:-24px 0;width:28px\"></span><b></b></td><td><span class=\"csb\" style=\"background-position:-53px 0;width:20px\"></span><b>1</b></td><td><a class=\"fl\" href=\"/search?q=%D0%BF%D0%BE%D0%B3%D0%BE%D0%B4%D0%B0+%D0%B2+%D0%BC%D0%BE%D1%81%D0%BA%D0%B2%D0%B5&amp;ie=UTF-8&amp;prmd=ivns&amp;ei=XXPhWt6AFKGy6ATjw5vYAg&amp;start=10&amp;sa=N\"><span class=\"csb\" style=\"background-position:-74px 0;width:20px\"></span>2</a></td><td><a class=\"fl\" href=\"/search?q=%D0%BF%D0%BE%D0%B3%D0%BE%D0%B4%D0%B0+%D0%B2+%D0%BC%D0%BE%D1%81%D0%BA%D0%B2%D0%B5&amp;ie=UTF-8&amp;prmd=ivns&amp;ei=XXPhWt6AFKGy6ATjw5vYAg&amp;start=20&amp;sa=N\"><span class=\"csb\" style=\"background-position:-74px 0;width:20px\"></span>3</a></td><td><a class=\"fl\" href=\"/search?q=%D0%BF%D0%BE%D0%B3%D0%BE%D0%B4%D0%B0+%D0%B2+%D0%BC%D0%BE%D1%81%D0%BA%D0%B2%D0%B5&amp;ie=UTF-8&amp;prmd=ivns&amp;ei=XXPhWt6AFKGy6ATjw5vYAg&amp;start=30&amp;sa=N\"><span class=\"csb\" style=\"background-position:-74px 0;width:20px\"></span>4</a></td><td><a class=\"fl\" href=\"/search?q=%D0%BF%D0%BE%D0%B3%D0%BE%D0%B4%D0%B0+%D0%B2+%D0%BC%D0%BE%D1%81%D0%BA%D0%B2%D0%B5&amp;ie=UTF-8&amp;prmd=ivns&amp;ei=XXPhWt6AFKGy6ATjw5vYAg&amp;start=40&amp;sa=N\"><span class=\"csb\" style=\"background-position:-74px 0;width:20px\"></span>5</a></td><td><a class=\"fl\" href=\"/search?q=%D0%BF%D0%BE%D0%B3%D0%BE%D0%B4%D0%B0+%D0%B2+%D0%BC%D0%BE%D1%81%D0%BA%D0%B2%D0%B5&amp;ie=UTF-8&amp;prmd=ivns&amp;ei=XXPhWt6AFKGy6ATjw5vYAg&amp;start=50&amp;sa=N\"><span class=\"csb\" style=\"background-position:-74px 0;width:20px\"></span>6</a></td><td><a class=\"fl\" href=\"/search?q=%D0%BF%D0%BE%D0%B3%D0%BE%D0%B4%D0%B0+%D0%B2+%D0%BC%D0%BE%D1%81%D0%BA%D0%B2%D0%B5&amp;ie=UTF-8&amp;prmd=ivns&amp;ei=XXPhWt6AFKGy6ATjw5vYAg&amp;start=60&amp;sa=N\"><span class=\"csb\" style=\"background-position:-74px 0;width:20px\"></span>7</a></td><td><a class=\"fl\" href=\"/search?q=%D0%BF%D0%BE%D0%B3%D0%BE%D0%B4%D0%B0+%D0%B2+%D0%BC%D0%BE%D1%81%D0%BA%D0%B2%D0%B5&amp;ie=UTF-8&amp;prmd=ivns&amp;ei=XXPhWt6AFKGy6ATjw5vYAg&amp;start=70&amp;sa=N\"><span class=\"csb\" style=\"background-position:-74px 0;width:20px\"></span>8</a></td><td><a class=\"fl\" href=\"/search?q=%D0%BF%D0%BE%D0%B3%D0%BE%D0%B4%D0%B0+%D0%B2+%D0%BC%D0%BE%D1%81%D0%BA%D0%B2%D0%B5&amp;ie=UTF-8&amp;prmd=ivns&amp;ei=XXPhWt6AFKGy6ATjw5vYAg&amp;start=80&amp;sa=N\"><span class=\"csb\" style=\"background-position:-74px 0;width:20px\"></span>9</a></td><td><a class=\"fl\" href=\"/search?q=%D0%BF%D0%BE%D0%B3%D0%BE%D0%B4%D0%B0+%D0%B2+%D0%BC%D0%BE%D1%81%D0%BA%D0%B2%D0%B5&amp;ie=UTF-8&amp;prmd=ivns&amp;ei=XXPhWt6AFKGy6ATjw5vYAg&amp;start=90&amp;sa=N\"><span class=\"csb\" style=\"background-position:-74px 0;width:20px\"></span>10</a></td><td class=\"b\" style=\"text-align:left\"><a class=\"fl\" href=\"/search?q=%D0%BF%D0%BE%D0%B3%D0%BE%D0%B4%D0%B0+%D0%B2+%D0%BC%D0%BE%D1%81%D0%BA%D0%B2%D0%B5&amp;ie=UTF-8&amp;prmd=ivns&amp;ei=XXPhWt6AFKGy6ATjw5vYAg&amp;start=10&amp;sa=N\" style=\"text-align:left\"><span class=\"csb\" style=\"background-position:-96px 0;width:71px\"></span><span style=\"display:block;margin-left:53px\">&#1057;&#1083;&#1077;&#1076;&#1091;&#1102;&#1097;&#1072;&#1103;</span></a></td></tr></table><p class=\"A8ul6\" id=\"bfl\" style=\"margin:19px 0 0;text-align:center\"><a href=\"/advanced_search?q=%D0%BF%D0%BE%D0%B3%D0%BE%D0%B4%D0%B0+%D0%B2+%D0%BC%D0%BE%D1%81%D0%BA%D0%B2%D0%B5&amp;ie=UTF-8&amp;prmd=ivns\">&#1056;&#1072;&#1089;&#1096;&#1080;&#1088;&#1077;&#1085;&#1085;&#1099;&#1081; &#1087;&#1086;&#1080;&#1089;&#1082;</a><a href=\"/support/websearch/bin/answer.py?answer=134479&amp;hl=ru\">&#1057;&#1087;&#1088;&#1072;&#1074;&#1082;&#1072; &#1087;&#1086; &#1087;&#1086;&#1080;&#1089;&#1082;&#1091;</a> <a href=\"/tools/feedback/survey/html?productId=196&amp;query=%D0%BF%D0%BE%D0%B3%D0%BE%D0%B4%D0%B0+%D0%B2+%D0%BC%D0%BE%D1%81%D0%BA%D0%B2%D0%B5&amp;hl=ru\">&#1054;&#1090;&#1087;&#1088;&#1072;&#1074;&#1080;&#1090;&#1100; &#1086;&#1090;&#1079;&#1099;&#1074;</a></p><div class=\"A8ul6\" id=\"fll\" style=\"margin:19px auto 19px auto;text-align:center\"><a href=\"/\">&#1043;&#1083;&#1072;&#1074;&#1085;&#1072;&#1103; &#1089;&#1090;&#1088;&#1072;&#1085;&#1080;&#1094;&#1072; Google</a> <a href=\"/intl/ru/ads\">&#1056;&#1077;&#1082;&#1083;&#1072;&#1084;&#1085;&#1099;&#1077; &#1087;&#1088;&#1086;&#1075;&#1088;&#1072;&#1084;&#1084;&#1099;</a> <a href=\"/intl/ru/policies/privacy/\">&#1050;&#1086;&#1085;&#1092;&#1080;&#1076;&#1077;&#1085;&#1094;&#1080;&#1072;&#1083;&#1100;&#1085;&#1086;&#1089;&#1090;&#1100;</a> <a href=\"/intl/ru/policies/terms/\">&#1059;&#1089;&#1083;&#1086;&#1074;&#1080;&#1103;</a> <a href=\"/intl/ru/about.html\">&#1054; Google</a></div></div></td><td id=\"rhs_block\" valign=\"top\"></td></tr></tbody></table><script type=\"text/javascript\" nonce=\"cKBB2BHmve7LSV4rTDpeoQ==\">(function(){var eventid=\\'XXPhWt6AFKGy6ATjw5vYAg\\';google.kEI = eventid;})();</script><script src=\"/xjs/_/js/k=xjs.hp.en.CK-L2aUOYQw.O/m=sb_he,d/rt=j/d=1/rs=ACT90oFYbOQtiT_Dkb-po2VJxP_8jE1IJQ\" nonce=\"cKBB2BHmve7LSV4rTDpeoQ==\"></script><script type=\"text/javascript\" nonce=\"cKBB2BHmve7LSV4rTDpeoQ==\">google.ac&&google.ac.c({\"agen\":true,\"cgen\":true,\"client\":\"heirloom-serp\",\"dh\":true,\"dhqt\":true,\"ds\":\"\",\"fl\":true,\"host\":\"google.com\",\"isbh\":28,\"jsonp\":true,\"msgs\":{\"cibl\":\"&#1059;&#1076;&#1072;&#1083;&#1080;&#1090;&#1100; &#1087;&#1086;&#1080;&#1089;&#1082;&#1086;&#1074;&#1099;&#1081; &#1079;&#1072;&#1087;&#1088;&#1086;&#1089;\",\"dym\":\"&#1042;&#1086;&#1079;&#1084;&#1086;&#1078;&#1085;&#1086;, &#1074;&#1099; &#1080;&#1084;&#1077;&#1083;&#1080; &#1074; &#1074;&#1080;&#1076;&#1091;:\",\"lcky\":\"&#1052;&#1085;&#1077; &#1087;&#1086;&#1074;&#1077;&#1079;&#1105;&#1090;!\",\"lml\":\"&#1055;&#1086;&#1076;&#1088;&#1086;&#1073;&#1085;&#1077;&#1077;...\",\"oskt\":\"&#1069;&#1082;&#1088;&#1072;&#1085;&#1085;&#1072;&#1103; &#1082;&#1083;&#1072;&#1074;&#1080;&#1072;&#1090;&#1091;&#1088;&#1072;\",\"psrc\":\"&#1069;&#1090;&#1086;&#1090; &#1079;&#1072;&#1087;&#1088;&#1086;&#1089; &#1073;&#1099;&#1083; &#1091;&#1076;&#1072;&#1083;&#1077;&#1085; &#1080;&#1079; &#1074;&#1072;&#1096;&#1077;&#1081; \\\\u003Ca href=\\\\\"/history\\\\\"\\\\u003E&#1080;&#1089;&#1090;&#1086;&#1088;&#1080;&#1080; &#1074;&#1077;&#1073;-&#1087;&#1086;&#1080;&#1089;&#1082;&#1072;\\\\u003C/a\\\\u003E\",\"psrl\":\"&#1059;&#1076;&#1072;&#1083;&#1080;&#1090;&#1100;\",\"sbit\":\"&#1055;&#1086;&#1080;&#1089;&#1082; &#1087;&#1086; &#1082;&#1072;&#1088;&#1090;&#1080;&#1085;&#1082;&#1077;\",\"srch\":\"&#1055;&#1086;&#1080;&#1089;&#1082; &#1074; Google\"},\"nds\":true,\"ovr\":{},\"pq\":\"&#1087;&#1086;&#1075;&#1086;&#1076;&#1072; &#1074; &#1084;&#1086;&#1089;&#1082;&#1074;&#1077;\",\"refpd\":true,\"rfs\":[\"&#1087;&#1086;&#1075;&#1086;&#1076;&#1072; &#1074; &#1084;&#1086;&#1089;&#1082;&#1074;&#1077; &#1079;&#1072;&#1074;&#1090;&#1088;&#1072;\",\"&#1087;&#1086;&#1075;&#1086;&#1076;&#1072; &#1074; &#1084;&#1086;&#1089;&#1082;&#1074;&#1077; &#1085;&#1072; &#1084;&#1077;&#1089;&#1103;&#1094;\",\"&#1087;&#1086;&#1075;&#1086;&#1076;&#1072; &#1074; &#1084;&#1086;&#1089;&#1082;&#1074;&#1077; &#1103;&#1085;&#1076;&#1077;&#1082;&#1089;\",\"&#1087;&#1086;&#1075;&#1086;&#1076;&#1072; &#1074; &#1084;&#1086;&#1089;&#1082;&#1074;&#1077; &#1085;&#1072; 14 &#1076;&#1085;&#1077;&#1081;\",\"&#1087;&#1086;&#1075;&#1086;&#1076;&#1072; &#1074; &#1084;&#1086;&#1089;&#1082;&#1074;&#1077; &#1085;&#1072; 5 &#1076;&#1085;&#1077;&#1081;\",\"&#1087;&#1086;&#1075;&#1086;&#1076;&#1072; &#1074; &#1084;&#1086;&#1089;&#1082;&#1074;&#1077; &#1089;&#1077;&#1075;&#1086;&#1076;&#1085;&#1103;\",\"&#1087;&#1086;&#1075;&#1086;&#1076;&#1072; &#1074; &#1084;&#1086;&#1089;&#1082;&#1074;&#1077; &#1085;&#1072; &#1085;&#1077;&#1076;&#1077;&#1083;&#1102;\",\"&#1087;&#1086;&#1075;&#1086;&#1076;&#1072; &#1074; &#1084;&#1086;&#1089;&#1082;&#1074;&#1077; &#1085;&#1072; &#1085;&#1077;&#1076;&#1077;&#1083;&#1102; &#1086;&#1090; &#1075;&#1080;&#1076;&#1088;&#1086;&#1084;&#1077;&#1090;&#1094;&#1077;&#1085;&#1090;&#1088;&#1072;\"],\"sbpl\":24,\"sbpr\":24,\"scd\":10,\"sce\":5,\"stok\":\"4r1VEurB_LVWM0WK79loRJB4zow\"})</script><script nonce=\"cKBB2BHmve7LSV4rTDpeoQ==\">(function(){window.google.cdo={height:0,width:0};(function(){var a=window.innerWidth,b=window.innerHeight;if(!a||!b){var c=window.document,d=\"CSS1Compat\"==c.compatMode?c.documentElement:c.body;a=d.clientWidth;b=d.clientHeight}a&&b&&(a!=google.cdo.width||b!=google.cdo.height)&&google.log(\"\",\"\",\"/client_204?&atyp=i&biw=\"+a+\"&bih=\"+b+\"&ei=\"+google.kEI);}).call(this);})();</script></body></html>'"
      ]
     },
     "execution_count": 36,
     "metadata": {},
     "output_type": "execute_result"
    }
   ],
   "source": [
    "html"
   ]
  },
  {
   "cell_type": "code",
   "execution_count": 37,
   "metadata": {},
   "outputs": [
    {
     "data": {
      "text/plain": [
       "[<div id=\"gbar\"><nobr><b class=\"gb1\">Поиск</b> <a class=\"gb1\" href=\"https://www.google.ru/search?hl=ru&amp;tbm=isch&amp;source=og&amp;tab=wi\">Картинки</a> <a class=\"gb1\" href=\"https://maps.google.ru/maps?hl=ru&amp;tab=wl\">Карты</a> <a class=\"gb1\" href=\"https://play.google.com/?hl=ru&amp;tab=w8\">Play</a> <a class=\"gb1\" href=\"https://www.youtube.com/results?gl=RU&amp;tab=w1\">YouTube</a> <a class=\"gb1\" href=\"https://news.google.ru/nwshp?hl=ru&amp;tab=wn\">Новости</a> <a class=\"gb1\" href=\"https://mail.google.com/mail/?tab=wm\">Почта</a> <a class=\"gb1\" href=\"https://drive.google.com/?tab=wo\">Диск</a> <a class=\"gb1\" href=\"https://www.google.ru/intl/ru/options/\" style=\"text-decoration:none\"><u>Ещё</u> »</a></nobr></div>]"
      ]
     },
     "execution_count": 37,
     "metadata": {},
     "output_type": "execute_result"
    }
   ],
   "source": [
    "soup.find_all(attrs={'id': 'gbar'})"
   ]
  },
  {
   "cell_type": "code",
   "execution_count": 26,
   "metadata": {},
   "outputs": [
    {
     "ename": "NameError",
     "evalue": "name 'soup' is not defined",
     "output_type": "error",
     "traceback": [
      "\u001b[0;31m---------------------------------------------------------------------------\u001b[0m",
      "\u001b[0;31mNameError\u001b[0m                                 Traceback (most recent call last)",
      "\u001b[0;32m<ipython-input-26-0d812b2d5838>\u001b[0m in \u001b[0;36m<module>\u001b[0;34m()\u001b[0m\n\u001b[0;32m----> 1\u001b[0;31m \u001b[0mparagraphs\u001b[0m \u001b[0;34m=\u001b[0m \u001b[0msoup\u001b[0m\u001b[0;34m.\u001b[0m\u001b[0mfind_all\u001b[0m\u001b[0;34m(\u001b[0m\u001b[0;34m'.p'\u001b[0m\u001b[0;34m)\u001b[0m\u001b[0;34m\u001b[0m\u001b[0m\n\u001b[0m\u001b[1;32m      2\u001b[0m \u001b[0mparagraphs\u001b[0m\u001b[0;34m\u001b[0m\u001b[0m\n",
      "\u001b[0;31mNameError\u001b[0m: name 'soup' is not defined"
     ]
    }
   ],
   "source": [
    "paragraphs = soup.find_all('p', )\n",
    "paragraphs"
   ]
  },
  {
   "cell_type": "code",
   "execution_count": 37,
   "metadata": {},
   "outputs": [
    {
     "data": {
      "text/plain": [
       "[<a href=\"http://www.iana.org/domains/example\">More information...</a>]"
      ]
     },
     "execution_count": 37,
     "metadata": {},
     "output_type": "execute_result"
    }
   ],
   "source": [
    "hrefs = soup.find_all('a')\n",
    "hrefs"
   ]
  },
  {
   "cell_type": "code",
   "execution_count": 38,
   "metadata": {},
   "outputs": [
    {
     "data": {
      "text/plain": [
       "[<a href=\"http://www.iana.org/domains/example\">More information...</a>]"
      ]
     },
     "execution_count": 38,
     "metadata": {},
     "output_type": "execute_result"
    }
   ],
   "source": [
    "hrefs = soup.find_all('a', href='http://www.iana.org/domains/example')\n",
    "hrefs"
   ]
  },
  {
   "cell_type": "code",
   "execution_count": 39,
   "metadata": {},
   "outputs": [
    {
     "data": {
      "text/plain": [
       "[]"
      ]
     },
     "execution_count": 39,
     "metadata": {},
     "output_type": "execute_result"
    }
   ],
   "source": [
    "hrefs = soup.find_all('a', href='http://www.pther-website.org/domains/example')\n",
    "hrefs"
   ]
  },
  {
   "cell_type": "code",
   "execution_count": 41,
   "metadata": {},
   "outputs": [],
   "source": [
    "from selenium import webdriver\n"
   ]
  },
  {
   "cell_type": "code",
   "execution_count": 42,
   "metadata": {},
   "outputs": [],
   "source": [
    "dr = webdriver.Chrome()"
   ]
  },
  {
   "cell_type": "code",
   "execution_count": 49,
   "metadata": {},
   "outputs": [],
   "source": [
    "dr.get('https://ya.ru')"
   ]
  },
  {
   "cell_type": "code",
   "execution_count": 51,
   "metadata": {},
   "outputs": [],
   "source": [
    "el = dr.find_element_by_id('text')"
   ]
  },
  {
   "cell_type": "code",
   "execution_count": 52,
   "metadata": {},
   "outputs": [],
   "source": [
    "el.send_keys('привет')"
   ]
  },
  {
   "cell_type": "code",
   "execution_count": null,
   "metadata": {},
   "outputs": [],
   "source": []
  },
  {
   "cell_type": "code",
   "execution_count": 54,
   "metadata": {},
   "outputs": [],
   "source": [
    "el.send_keys('\\n')"
   ]
  },
  {
   "cell_type": "code",
   "execution_count": 44,
   "metadata": {},
   "outputs": [
    {
     "name": "stdout",
     "output_type": "stream",
     "text": [
      "/Users/ryadom/seminars_spring2018/seminars/11\n"
     ]
    }
   ],
   "source": [
    "!pwd"
   ]
  },
  {
   "cell_type": "code",
   "execution_count": 55,
   "metadata": {},
   "outputs": [
    {
     "data": {
      "text/plain": [
       "True"
      ]
     },
     "execution_count": 55,
     "metadata": {},
     "output_type": "execute_result"
    }
   ],
   "source": [
    "dr.save_screenshot('/Users/ryadom/seminars_spring2018/seminars/11/sc.png')"
   ]
  },
  {
   "cell_type": "markdown",
   "metadata": {},
   "source": [
    "#### Ещё про кодировки: UnicodeDammit\n",
    "\n",
    "Особенно он полезен в сочетании с библиотекой типа chardet"
   ]
  },
  {
   "cell_type": "code",
   "execution_count": 40,
   "metadata": {
    "collapsed": true
   },
   "outputs": [],
   "source": [
    "from bs4 import UnicodeDammit"
   ]
  },
  {
   "cell_type": "markdown",
   "metadata": {},
   "source": [
    "Вот совсем маргинальный текст, со смешанными кодировками.\n"
   ]
  },
  {
   "cell_type": "code",
   "execution_count": 41,
   "metadata": {},
   "outputs": [
    {
     "name": "stdout",
     "output_type": "stream",
     "text": [
      "☃☃☃\n",
      "“I like snowmen!”\n"
     ]
    }
   ],
   "source": [
    "snowmen = (u'\\N{SNOWMAN}' * 3)\n",
    "print(snowmen)\n",
    "quote = (u'\\N{LEFT DOUBLE QUOTATION MARK}I like snowmen!\\N{RIGHT DOUBLE QUOTATION MARK}')\n",
    "print(quote)\n",
    "doc = snowmen.encode('utf8') + quote.encode('windows_1252')"
   ]
  },
  {
   "cell_type": "code",
   "execution_count": 42,
   "metadata": {},
   "outputs": [
    {
     "name": "stdout",
     "output_type": "stream",
     "text": [
      "b'\\xe2\\x98\\x83\\xe2\\x98\\x83\\xe2\\x98\\x83\\x93I like snowmen!\\x94'\n",
      "â˜ƒâ˜ƒâ˜ƒ“I like snowmen!”\n"
     ]
    },
    {
     "ename": "UnicodeDecodeError",
     "evalue": "'utf-8' codec can't decode byte 0x93 in position 9: invalid start byte",
     "output_type": "error",
     "traceback": [
      "\u001b[0;31m---------------------------------------------------------------------------\u001b[0m",
      "\u001b[0;31mUnicodeDecodeError\u001b[0m                        Traceback (most recent call last)",
      "\u001b[0;32m<ipython-input-42-f5fee7916f51>\u001b[0m in \u001b[0;36m<module>\u001b[0;34m()\u001b[0m\n\u001b[1;32m      5\u001b[0m \u001b[0;31m# â˜ƒâ˜ƒâ˜ƒ“I like snowmen!”\u001b[0m\u001b[0;34m\u001b[0m\u001b[0;34m\u001b[0m\u001b[0m\n\u001b[1;32m      6\u001b[0m \u001b[0;34m\u001b[0m\u001b[0m\n\u001b[0;32m----> 7\u001b[0;31m \u001b[0mprint\u001b[0m\u001b[0;34m(\u001b[0m\u001b[0mdoc\u001b[0m\u001b[0;34m.\u001b[0m\u001b[0mdecode\u001b[0m\u001b[0;34m(\u001b[0m\u001b[0;34m'utf8'\u001b[0m\u001b[0;34m)\u001b[0m\u001b[0;34m)\u001b[0m\u001b[0;34m\u001b[0m\u001b[0m\n\u001b[0m\u001b[1;32m      8\u001b[0m \u001b[0;31m# ☃☃☃�I like snowmen!�\u001b[0m\u001b[0;34m\u001b[0m\u001b[0;34m\u001b[0m\u001b[0m\n",
      "\u001b[0;31mUnicodeDecodeError\u001b[0m: 'utf-8' codec can't decode byte 0x93 in position 9: invalid start byte"
     ]
    }
   ],
   "source": [
    "print(doc)\n",
    "# ☃☃☃�I like snowmen!�\n",
    "\n",
    "print(doc.decode('windows-1252'))\n",
    "# â˜ƒâ˜ƒâ˜ƒ“I like snowmen!”\n",
    "\n",
    "print(doc.decode('utf8'))\n",
    "# ☃☃☃�I like snowmen!�"
   ]
  },
  {
   "cell_type": "markdown",
   "metadata": {},
   "source": [
    "Считаем его через UnicodeDammit:"
   ]
  },
  {
   "cell_type": "code",
   "execution_count": 43,
   "metadata": {},
   "outputs": [
    {
     "name": "stdout",
     "output_type": "stream",
     "text": [
      "b'\\xe2\\x98\\x83\\xe2\\x98\\x83\\xe2\\x98\\x83\\xe2\\x80\\x9cI like snowmen!\\xe2\\x80\\x9d'\n",
      "☃☃☃“I like snowmen!”\n"
     ]
    }
   ],
   "source": [
    "new_doc = UnicodeDammit.detwingle(doc)\n",
    "print(new_doc)\n",
    "print(new_doc.decode('utf8'))\n",
    "# ☃☃☃“I like snowmen!”"
   ]
  },
  {
   "cell_type": "markdown",
   "metadata": {},
   "source": [
    "## Performance"
   ]
  },
  {
   "cell_type": "code",
   "execution_count": 44,
   "metadata": {},
   "outputs": [
    {
     "name": "stdout",
     "output_type": "stream",
     "text": [
      "5.07 µs ± 60.8 ns per loop (mean ± std. dev. of 7 runs, 100000 loops each)\n",
      "13.8 µs ± 675 ns per loop (mean ± std. dev. of 7 runs, 100000 loops each)\n",
      "18.9 µs ± 812 ns per loop (mean ± std. dev. of 7 runs, 100000 loops each)\n"
     ]
    }
   ],
   "source": [
    "%timeit re.findall(r'<p>.*?</p>', html, re.DOTALL)\n",
    "%timeit tree.xpath('//p')\n",
    "%timeit soup.find_all('p')"
   ]
  },
  {
   "cell_type": "markdown",
   "metadata": {},
   "source": [
    "Мораль: regex -- это быстро."
   ]
  },
  {
   "cell_type": "markdown",
   "metadata": {},
   "source": [
    "## На сладкое: scrapy\n",
    "\n",
    "А заодно попрактикуемся в ipython magic!\n",
    "\n",
    "Будем парсить сайт с архивом курсов криптовалют: https://coinmarketcap.com/.\n",
    "\n",
    "Хочется открыть [historical snapshots](https://coinmarketcap.com/historical/) и для каждой недели выгрузить полную табличку.\n"
   ]
  },
  {
   "cell_type": "code",
   "execution_count": 45,
   "metadata": {
    "collapsed": true
   },
   "outputs": [],
   "source": [
    "import scrapy\n"
   ]
  },
  {
   "cell_type": "code",
   "execution_count": 46,
   "metadata": {
    "collapsed": true
   },
   "outputs": [],
   "source": [
    "!rm -rf coinmarketcap"
   ]
  },
  {
   "cell_type": "code",
   "execution_count": 47,
   "metadata": {},
   "outputs": [
    {
     "name": "stdout",
     "output_type": "stream",
     "text": [
      "New Scrapy project 'coinmarketcap', using template directory '/media/storage/workspace/gsoc/scrapy/scrapy/templates/project', created in:\n",
      "    /media/storage/workspace/students/python/scraping/coinmarketcap\n",
      "\n",
      "You can start your first spider with:\n",
      "    cd coinmarketcap\n",
      "    scrapy genspider example example.com\n"
     ]
    }
   ],
   "source": [
    "!scrapy startproject coinmarketcap"
   ]
  },
  {
   "cell_type": "markdown",
   "metadata": {},
   "source": [
    "Что там внутри?"
   ]
  },
  {
   "cell_type": "code",
   "execution_count": 48,
   "metadata": {},
   "outputs": [
    {
     "name": "stdout",
     "output_type": "stream",
     "text": [
      ".:\n",
      "coinmarketcap  scrapy.cfg\n",
      "\n",
      "./coinmarketcap:\n",
      "__init__.py  items.py  middlewares.py  pipelines.py  settings.py  spiders\n",
      "\n",
      "./coinmarketcap/spiders:\n",
      "__init__.py\n"
     ]
    }
   ],
   "source": [
    "!cd coinmarketcap; ls -R"
   ]
  },
  {
   "cell_type": "markdown",
   "metadata": {},
   "source": [
    "Специальная функция, чтобы из ноутбука формировать код в проекте scrapy:"
   ]
  },
  {
   "cell_type": "code",
   "execution_count": 49,
   "metadata": {
    "collapsed": true
   },
   "outputs": [],
   "source": [
    "def dump_to(path):\n",
    "    with open(path, 'w') as f:\n",
    "        f.write(_i)"
   ]
  },
  {
   "cell_type": "markdown",
   "metadata": {},
   "source": [
    "### Item: cперва определим, что хотим собирать"
   ]
  },
  {
   "cell_type": "code",
   "execution_count": 50,
   "metadata": {
    "collapsed": true
   },
   "outputs": [],
   "source": [
    "# -*- coding:utf8 -*-\n",
    "\n",
    "import scrapy\n",
    "\n",
    "\n",
    "class CurrencyItem(scrapy.Item):\n",
    "    date = scrapy.Field()\n",
    "    name = scrapy.Field()\n",
    "    symbol = scrapy.Field()\n",
    "    market_cap = scrapy.Field()\n",
    "    price = scrapy.Field()"
   ]
  },
  {
   "cell_type": "code",
   "execution_count": 51,
   "metadata": {
    "collapsed": true
   },
   "outputs": [],
   "source": [
    "dump_to('./coinmarketcap/coinmarketcap/items.py')"
   ]
  },
  {
   "cell_type": "markdown",
   "metadata": {},
   "source": [
    "### Spider: тот, кто собирает Item'ы"
   ]
  },
  {
   "cell_type": "code",
   "execution_count": 52,
   "metadata": {},
   "outputs": [
    {
     "ename": "ModuleNotFoundError",
     "evalue": "No module named 'coinmarketcap.items'",
     "output_type": "error",
     "traceback": [
      "\u001b[0;31m---------------------------------------------------------------------------\u001b[0m",
      "\u001b[0;31mModuleNotFoundError\u001b[0m                       Traceback (most recent call last)",
      "\u001b[0;32m<ipython-input-52-2fc2a3d0d18d>\u001b[0m in \u001b[0;36m<module>\u001b[0;34m()\u001b[0m\n\u001b[1;32m      7\u001b[0m \u001b[0;32mfrom\u001b[0m \u001b[0mscrapy\u001b[0m\u001b[0;34m.\u001b[0m\u001b[0mloader\u001b[0m \u001b[0;32mimport\u001b[0m \u001b[0mItemLoader\u001b[0m\u001b[0;34m\u001b[0m\u001b[0m\n\u001b[1;32m      8\u001b[0m \u001b[0;32mfrom\u001b[0m \u001b[0mscrapy\u001b[0m\u001b[0;34m.\u001b[0m\u001b[0mselector\u001b[0m \u001b[0;32mimport\u001b[0m \u001b[0mHtmlXPathSelector\u001b[0m\u001b[0;34m,\u001b[0m \u001b[0mSelector\u001b[0m\u001b[0;34m\u001b[0m\u001b[0m\n\u001b[0;32m----> 9\u001b[0;31m \u001b[0;32mfrom\u001b[0m \u001b[0mcoinmarketcap\u001b[0m\u001b[0;34m.\u001b[0m\u001b[0mitems\u001b[0m \u001b[0;32mimport\u001b[0m \u001b[0mCurrencyItem\u001b[0m\u001b[0;34m\u001b[0m\u001b[0m\n\u001b[0m\u001b[1;32m     10\u001b[0m \u001b[0;34m\u001b[0m\u001b[0m\n\u001b[1;32m     11\u001b[0m \u001b[0;32mclass\u001b[0m \u001b[0mCurrencyLoader\u001b[0m\u001b[0;34m(\u001b[0m\u001b[0mItemLoader\u001b[0m\u001b[0;34m)\u001b[0m\u001b[0;34m:\u001b[0m\u001b[0;34m\u001b[0m\u001b[0m\n",
      "\u001b[0;31mModuleNotFoundError\u001b[0m: No module named 'coinmarketcap.items'"
     ]
    }
   ],
   "source": [
    "# -*- coding:utf8 -*-\n",
    "\n",
    "from scrapy import Request\n",
    "from scrapy.spiders import CrawlSpider, Rule\n",
    "from scrapy.linkextractors import LinkExtractor\n",
    "from scrapy.loader.processors import Join\n",
    "from scrapy.loader import ItemLoader\n",
    "from scrapy.selector import HtmlXPathSelector, Selector\n",
    "from coinmarketcap.items import CurrencyItem\n",
    "\n",
    "class CurrencyLoader(ItemLoader):\n",
    "    pass\n",
    "\n",
    "class WeeklySpider(CrawlSpider):\n",
    "    name = 'weekly'\n",
    "    allowed_domains = ['coinmarketcap.com']\n",
    "    start_urls = ['https://coinmarketcap.com/historical/']\n",
    "    only_2018_april_regex = '/201804[0-9]{2}' # full history parsing takes ~4 hrs \n",
    "\n",
    "    rules = (\n",
    "        Rule(LinkExtractor(allow=(only_2018_april_regex, )), callback='parse_weekly_report', follow=False),\n",
    "    )\n",
    "\n",
    "    def parse_weekly_report(self, response):\n",
    "        hxs = HtmlXPathSelector(response)\n",
    "        items_html = hxs.xpath('//table[@id=\"currencies-all\"]/tbody/tr')\n",
    "\n",
    "        items = []\n",
    "\n",
    "        for item_html in items_html:\n",
    "            item = CurrencyItem()\n",
    "\n",
    "            item['date'] = response.request.url.split('/')[-2]\n",
    "            item['name'] = item_html.xpath('.//a[@class=\"currency-name-container\"]/text()').extract()[0]\n",
    "            item['symbol'] = item_html.xpath('.//td[contains(@class, \"col-symbol\")]/text()').extract()[0]\n",
    "            item['market_cap'] = item_html.xpath('.//td[contains(@class, \"market-cap\")]/text()').extract()[0].strip()\n",
    "            item['price'] = item_html.xpath('.//a[contains(@class, \"price\")]/text()').extract()[0]\n",
    "\n",
    "            items.append(item)\n",
    "\n",
    "        return items"
   ]
  },
  {
   "cell_type": "code",
   "execution_count": 53,
   "metadata": {
    "collapsed": true
   },
   "outputs": [],
   "source": [
    "dump_to('./coinmarketcap/coinmarketcap/spiders/weekly.py')"
   ]
  },
  {
   "cell_type": "markdown",
   "metadata": {},
   "source": [
    "### Pipeline: например, экспорт в БД\n",
    "\n",
    "Не бойтесь, про это будет отдельный семинар!"
   ]
  },
  {
   "cell_type": "code",
   "execution_count": 54,
   "metadata": {},
   "outputs": [
    {
     "ename": "ModuleNotFoundError",
     "evalue": "No module named 'coinmarketcap.items'",
     "output_type": "error",
     "traceback": [
      "\u001b[0;31m---------------------------------------------------------------------------\u001b[0m",
      "\u001b[0;31mModuleNotFoundError\u001b[0m                       Traceback (most recent call last)",
      "\u001b[0;32m<ipython-input-54-9eb3bb2c9387>\u001b[0m in \u001b[0;36m<module>\u001b[0;34m()\u001b[0m\n\u001b[1;32m      9\u001b[0m \u001b[0;32mfrom\u001b[0m \u001b[0mscrapy\u001b[0m\u001b[0;34m.\u001b[0m\u001b[0mexceptions\u001b[0m \u001b[0;32mimport\u001b[0m \u001b[0mDropItem\u001b[0m\u001b[0;34m\u001b[0m\u001b[0m\n\u001b[1;32m     10\u001b[0m \u001b[0;32mfrom\u001b[0m \u001b[0mscrapy\u001b[0m \u001b[0;32mimport\u001b[0m \u001b[0msignals\u001b[0m\u001b[0;34m\u001b[0m\u001b[0m\n\u001b[0;32m---> 11\u001b[0;31m \u001b[0;32mfrom\u001b[0m \u001b[0mcoinmarketcap\u001b[0m\u001b[0;34m.\u001b[0m\u001b[0mitems\u001b[0m \u001b[0;32mimport\u001b[0m \u001b[0mCurrencyItem\u001b[0m\u001b[0;34m\u001b[0m\u001b[0m\n\u001b[0m\u001b[1;32m     12\u001b[0m \u001b[0;32mimport\u001b[0m \u001b[0mpandas\u001b[0m \u001b[0;32mas\u001b[0m \u001b[0mpd\u001b[0m\u001b[0;34m\u001b[0m\u001b[0m\n\u001b[1;32m     13\u001b[0m \u001b[0;34m\u001b[0m\u001b[0m\n",
      "\u001b[0;31mModuleNotFoundError\u001b[0m: No module named 'coinmarketcap.items'"
     ]
    }
   ],
   "source": [
    "# -*- coding: utf-8 -*-\n",
    "\n",
    "import os, logging\n",
    "from sqlalchemy.ext.declarative import declarative_base\n",
    "from sqlalchemy import create_engine, Table, Column, Integer, String, Date, MetaData, ForeignKey\n",
    "from sqlalchemy.engine.url import URL\n",
    "from sqlalchemy.orm import sessionmaker\n",
    "from sqlalchemy.pool import NullPool\n",
    "from scrapy.exceptions import DropItem\n",
    "from scrapy import signals\n",
    "from coinmarketcap.items import CurrencyItem\n",
    "import pandas as pd\n",
    "\n",
    "logger = logging.getLogger(__name__)\n",
    "\n",
    "DeclarativeBase = declarative_base()\n",
    "\n",
    "class Currency(DeclarativeBase):\n",
    "    __tablename__ = 'currency'\n",
    "    __table_args__ = {'sqlite_autoincrement': True}\n",
    "\n",
    "    id = Column('id', Integer, primary_key=True)\n",
    "    date = Column('date', Date)\n",
    "    name = Column('name', String)\n",
    "    symbol = Column('symbol', String)\n",
    "    market_cap = Column('market_cap', String)\n",
    "    price = Column('price', String)\n",
    "\n",
    "    def __init__(self, item):\n",
    "        self.date = pd.to_datetime(item['date'], format='%Y%m%d')\n",
    "        self.name = item['name']\n",
    "        self.symbol = item['symbol']\n",
    "        self.market_cap = item['market_cap']\n",
    "        self.price = item['price']\n",
    "\n",
    "    def __repr__(self):\n",
    "        return \"<Currency({0}, {1}, {2})>\".format(self.id, self.symbol, self.market_cap)\n",
    "\n",
    "\n",
    "class SqlitePipeline(object):\n",
    "    def __init__(self, settings):\n",
    "        self.database = settings.get('DATABASE')\n",
    "        self.sessions = {}\n",
    "\n",
    "    @classmethod\n",
    "    def from_crawler(cls, crawler):\n",
    "        pipeline = cls(crawler.settings)\n",
    "        crawler.signals.connect(pipeline.spider_opened, signals.spider_opened)\n",
    "        crawler.signals.connect(pipeline.spider_closed, signals.spider_closed)\n",
    "        return pipeline\n",
    "\n",
    "    def create_engine(self):\n",
    "        engine = create_engine(URL(**self.database), poolclass=NullPool)\n",
    "        return engine\n",
    "\n",
    "    def create_tables(self, engine):\n",
    "        DeclarativeBase.metadata.create_all(engine, checkfirst=True)\n",
    "\n",
    "    def create_session(self, engine):\n",
    "        session = sessionmaker(bind=engine)()\n",
    "        return session\n",
    "\n",
    "    def spider_opened(self, spider):\n",
    "        engine = self.create_engine()\n",
    "        self.create_tables(engine)\n",
    "        session = self.create_session(engine)\n",
    "        self.sessions[spider] = session\n",
    "\n",
    "    def spider_closed(self, spider):\n",
    "        session = self.sessions.pop(spider)\n",
    "        session.close()\n",
    "\n",
    "    def process_item(self, item, spider):\n",
    "        session = self.sessions[spider]\n",
    "        currency = Currency(item)\n",
    "        link_exists = session.query(Currency).filter_by(symbol=item['symbol'], date=item['date']).first() is not None\n",
    "\n",
    "        if link_exists:\n",
    "            logger.info('Item {} is in db'.format(currency))\n",
    "            return item\n",
    "\n",
    "        try:\n",
    "            session.add(currency)\n",
    "            session.commit()\n",
    "            logger.info('Item {} stored in db'.format(currency))\n",
    "        except:\n",
    "            logger.info('Failed to add {} to db'.format(currency))\n",
    "            session.rollback()\n",
    "            raise\n",
    "\n",
    "        return item"
   ]
  },
  {
   "cell_type": "code",
   "execution_count": 55,
   "metadata": {
    "collapsed": true
   },
   "outputs": [],
   "source": [
    "dump_to('./coinmarketcap/coinmarketcap/pipelines.py')"
   ]
  },
  {
   "cell_type": "markdown",
   "metadata": {},
   "source": [
    "### Settings: общие настройки scrapy"
   ]
  },
  {
   "cell_type": "code",
   "execution_count": 56,
   "metadata": {
    "collapsed": true
   },
   "outputs": [],
   "source": [
    "# -*- coding: utf-8 -*-\n",
    "\n",
    "# Scrapy settings for coinmarketcap project\n",
    "#\n",
    "# For simplicity, this file contains only settings considered important or\n",
    "# commonly used. You can find more settings consulting the documentation:\n",
    "#\n",
    "#     https://doc.scrapy.org/en/latest/topics/settings.html\n",
    "#     https://doc.scrapy.org/en/latest/topics/downloader-middleware.html\n",
    "#     https://doc.scrapy.org/en/latest/topics/spider-middleware.html\n",
    "\n",
    "BOT_NAME = 'coinmarketcap'\n",
    "\n",
    "SPIDER_MODULES = ['coinmarketcap.spiders']\n",
    "NEWSPIDER_MODULE = 'coinmarketcap.spiders'\n",
    "\n",
    "DATABASE = {\n",
    "    'drivername': 'sqlite',\n",
    "    # 'host': 'localhost',\n",
    "    # 'port': '5432',\n",
    "    # 'username': 'YOUR_USERNAME',\n",
    "    # 'password': 'YOUR_PASSWORD',\n",
    "    'database': 'weekly.sqlite'\n",
    "}\n",
    "\n",
    "# Crawl responsibly by identifying yourself (and your website) on the user-agent\n",
    "USER_AGENT = '%s' % (BOT_NAME)\n",
    "\n",
    "# Obey robots.txt rules\n",
    "# ROBOTSTXT_OBEY = True\n",
    "\n",
    "# Configure maximum concurrent requests performed by Scrapy (default: 16)\n",
    "CONCURRENT_REQUESTS = 1\n",
    "\n",
    "# Configure a delay for requests for the same website (default: 0)\n",
    "# See https://doc.scrapy.org/en/latest/topics/settings.html#download-delay\n",
    "# See also autothrottle settings and docs\n",
    "#DOWNLOAD_DELAY = 3\n",
    "# The download delay setting will honor only one of:\n",
    "#CONCURRENT_REQUESTS_PER_DOMAIN = 16\n",
    "#CONCURRENT_REQUESTS_PER_IP = 16\n",
    "\n",
    "# Disable cookies (enabled by default)\n",
    "#COOKIES_ENABLED = False\n",
    "\n",
    "# Disable Telnet Console (enabled by default)\n",
    "#TELNETCONSOLE_ENABLED = False\n",
    "\n",
    "# Override the default request headers:\n",
    "#DEFAULT_REQUEST_HEADERS = {\n",
    "#   'Accept': 'text/html,application/xhtml+xml,application/xml;q=0.9,*/*;q=0.8',\n",
    "#   'Accept-Language': 'en',\n",
    "#}\n",
    "\n",
    "# Enable or disable spider middlewares\n",
    "# See https://doc.scrapy.org/en/latest/topics/spider-middleware.html\n",
    "#SPIDER_MIDDLEWARES = {\n",
    "#    'coinmarketcap.middlewares.CoinmarketcapSpiderMiddleware': 543,\n",
    "#}\n",
    "\n",
    "# Enable or disable downloader middlewares\n",
    "# See https://doc.scrapy.org/en/latest/topics/downloader-middleware.html\n",
    "#DOWNLOADER_MIDDLEWARES = {\n",
    "#    'coinmarketcap.middlewares.CoinmarketcapDownloaderMiddleware': 543,\n",
    "#}\n",
    "\n",
    "# Enable or disable extensions\n",
    "# See https://doc.scrapy.org/en/latest/topics/extensions.html\n",
    "#EXTENSIONS = {\n",
    "#    'scrapy.extensions.telnet.TelnetConsole': None,\n",
    "#}\n",
    "\n",
    "# Configure item pipelines\n",
    "# See https://doc.scrapy.org/en/latest/topics/item-pipeline.html\n",
    "ITEM_PIPELINES = {\n",
    "   'coinmarketcap.pipelines.SqlitePipeline': 300,\n",
    "}\n",
    "\n",
    "# Enable and configure the AutoThrottle extension (disabled by default)\n",
    "# See https://doc.scrapy.org/en/latest/topics/autothrottle.html\n",
    "AUTOTHROTTLE_ENABLED = True\n",
    "# The initial download delay\n",
    "AUTOTHROTTLE_START_DELAY = 5\n",
    "# The maximum download delay to be set in case of high latencies\n",
    "AUTOTHROTTLE_MAX_DELAY = 60\n",
    "# The average number of requests Scrapy should be sending in parallel to\n",
    "# each remote server\n",
    "#AUTOTHROTTLE_TARGET_CONCURRENCY = 1.0\n",
    "# Enable showing throttling stats for every response received:\n",
    "#AUTOTHROTTLE_DEBUG = False\n",
    "\n",
    "# Enable and configure HTTP caching (disabled by default)\n",
    "# See https://doc.scrapy.org/en/latest/topics/downloader-middleware.html#httpcache-middleware-settings\n",
    "#HTTPCACHE_ENABLED = True\n",
    "#HTTPCACHE_EXPIRATION_SECS = 0\n",
    "#HTTPCACHE_DIR = 'httpcache'\n",
    "#HTTPCACHE_IGNORE_HTTP_CODES = []\n",
    "#HTTPCACHE_STORAGE = 'scrapy.extensions.httpcache.FilesystemCacheStorage'\n",
    "\n",
    "LOG_FILE = 'crawling.log'"
   ]
  },
  {
   "cell_type": "code",
   "execution_count": 57,
   "metadata": {
    "collapsed": true
   },
   "outputs": [],
   "source": [
    "dump_to('./coinmarketcap/coinmarketcap/settings.py')"
   ]
  },
  {
   "cell_type": "markdown",
   "metadata": {},
   "source": [
    "Посмотрим на структуру scrapy проекта ещё раз"
   ]
  },
  {
   "cell_type": "code",
   "execution_count": 58,
   "metadata": {},
   "outputs": [
    {
     "name": "stdout",
     "output_type": "stream",
     "text": [
      ".:\n",
      "coinmarketcap  scrapy.cfg\n",
      "\n",
      "./coinmarketcap:\n",
      "__init__.py  items.py  middlewares.py  pipelines.py  settings.py  spiders\n",
      "\n",
      "./coinmarketcap/spiders:\n",
      "__init__.py  weekly.py\n"
     ]
    }
   ],
   "source": [
    "!cd coinmarketcap; ls -R"
   ]
  },
  {
   "cell_type": "markdown",
   "metadata": {},
   "source": [
    "### Всё! \n",
    "\n",
    "Запустим паука! \n",
    "\n",
    "Обходим только апрельские данные, сейчас это [1548](https://coinmarketcap.com/historical/20180401/) + [1531](https://coinmarketcap.com/historical/20180408/) + [1538](https://coinmarketcap.com/historical/20180415/) + [1554](https://coinmarketcap.com/historical/20180422/) = 6171 записей.\n",
    "\n",
    "ETA 7-8 минут с хорошим интернетом."
   ]
  },
  {
   "cell_type": "code",
   "execution_count": 59,
   "metadata": {},
   "outputs": [
    {
     "name": "stdout",
     "output_type": "stream",
     "text": [
      "8min 30s ± 0 ns per loop (mean ± std. dev. of 1 run, 1 loop each)\n"
     ]
    }
   ],
   "source": [
    "%%timeit -n 1 -r 1\n",
    "!cd coinmarketcap ; scrapy crawl weekly"
   ]
  },
  {
   "cell_type": "markdown",
   "metadata": {},
   "source": [
    "Посмотрим, что получилось:"
   ]
  },
  {
   "cell_type": "code",
   "execution_count": 60,
   "metadata": {},
   "outputs": [
    {
     "name": "stdout",
     "output_type": "stream",
     "text": [
      "(6171, 6)\n"
     ]
    },
    {
     "data": {
      "text/html": [
       "<div>\n",
       "<style scoped>\n",
       "    .dataframe tbody tr th:only-of-type {\n",
       "        vertical-align: middle;\n",
       "    }\n",
       "\n",
       "    .dataframe tbody tr th {\n",
       "        vertical-align: top;\n",
       "    }\n",
       "\n",
       "    .dataframe thead th {\n",
       "        text-align: right;\n",
       "    }\n",
       "</style>\n",
       "<table border=\"1\" class=\"dataframe\">\n",
       "  <thead>\n",
       "    <tr style=\"text-align: right;\">\n",
       "      <th></th>\n",
       "      <th>id</th>\n",
       "      <th>date</th>\n",
       "      <th>name</th>\n",
       "      <th>symbol</th>\n",
       "      <th>market_cap</th>\n",
       "      <th>price</th>\n",
       "    </tr>\n",
       "  </thead>\n",
       "  <tbody>\n",
       "    <tr>\n",
       "      <th>0</th>\n",
       "      <td>1</td>\n",
       "      <td>2018-04-01</td>\n",
       "      <td>Bitcoin</td>\n",
       "      <td>BTC</td>\n",
       "      <td>$116,889,698,943</td>\n",
       "      <td>$6895.74</td>\n",
       "    </tr>\n",
       "    <tr>\n",
       "      <th>1</th>\n",
       "      <td>2</td>\n",
       "      <td>2018-04-01</td>\n",
       "      <td>Ethereum</td>\n",
       "      <td>ETH</td>\n",
       "      <td>$38,416,967,029</td>\n",
       "      <td>$389.85</td>\n",
       "    </tr>\n",
       "    <tr>\n",
       "      <th>2</th>\n",
       "      <td>3</td>\n",
       "      <td>2018-04-01</td>\n",
       "      <td>Ripple</td>\n",
       "      <td>XRP</td>\n",
       "      <td>$19,620,488,346</td>\n",
       "      <td>$0.501873</td>\n",
       "    </tr>\n",
       "    <tr>\n",
       "      <th>3</th>\n",
       "      <td>4</td>\n",
       "      <td>2018-04-01</td>\n",
       "      <td>Bitcoin Cash</td>\n",
       "      <td>BCH</td>\n",
       "      <td>$11,522,745,022</td>\n",
       "      <td>$675.86</td>\n",
       "    </tr>\n",
       "    <tr>\n",
       "      <th>4</th>\n",
       "      <td>5</td>\n",
       "      <td>2018-04-01</td>\n",
       "      <td>Litecoin</td>\n",
       "      <td>LTC</td>\n",
       "      <td>$6,440,675,643</td>\n",
       "      <td>$115.25</td>\n",
       "    </tr>\n",
       "  </tbody>\n",
       "</table>\n",
       "</div>"
      ],
      "text/plain": [
       "   id        date          name symbol        market_cap      price\n",
       "0   1  2018-04-01       Bitcoin    BTC  $116,889,698,943   $6895.74\n",
       "1   2  2018-04-01      Ethereum    ETH   $38,416,967,029    $389.85\n",
       "2   3  2018-04-01        Ripple    XRP   $19,620,488,346  $0.501873\n",
       "3   4  2018-04-01  Bitcoin Cash    BCH   $11,522,745,022    $675.86\n",
       "4   5  2018-04-01      Litecoin    LTC    $6,440,675,643    $115.25"
      ]
     },
     "execution_count": 60,
     "metadata": {},
     "output_type": "execute_result"
    }
   ],
   "source": [
    "import sqlite3\n",
    "import pandas as pd\n",
    "\n",
    "connection = sqlite3.connect('./coinmarketcap/weekly.sqlite')\n",
    "\n",
    "df = pd.read_sql_query(\"SELECT * FROM currency\", connection)\n",
    "print(df.shape)\n",
    "df.head()"
   ]
  },
  {
   "cell_type": "code",
   "execution_count": 61,
   "metadata": {
    "collapsed": true
   },
   "outputs": [],
   "source": [
    "assert(df.shape[0] == 6171)"
   ]
  },
  {
   "cell_type": "code",
   "execution_count": null,
   "metadata": {
    "collapsed": true
   },
   "outputs": [],
   "source": []
  }
 ],
 "metadata": {
  "kernelspec": {
   "display_name": "Python 3",
   "language": "python",
   "name": "python3"
  },
  "language_info": {
   "codemirror_mode": {
    "name": "ipython",
    "version": 3
   },
   "file_extension": ".py",
   "mimetype": "text/x-python",
   "name": "python",
   "nbconvert_exporter": "python",
   "pygments_lexer": "ipython3",
   "version": "3.6.1"
  }
 },
 "nbformat": 4,
 "nbformat_minor": 2
}
